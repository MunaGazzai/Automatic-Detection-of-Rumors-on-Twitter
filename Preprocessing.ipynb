{
 "cells": [
  {
   "cell_type": "code",
   "execution_count": 75,
   "metadata": {},
   "outputs": [],
   "source": [
    "import json\n",
    "import pandas as pd\n",
    "import nltk\n",
    "from nltk.corpus import stopwords\n",
    "import re\n",
    "import numpy as np\n",
    "from nltk.stem.porter import *\n",
    "import collections\n",
    "from sklearn.pipeline import Pipeline\n",
    "from sklearn import model_selection\n",
    "from sklearn.feature_extraction.text import CountVectorizer\n",
    "from sklearn.feature_extraction.text import TfidfTransformer\n",
    "from sklearn.neighbors import KNeighborsClassifier\n",
    "from sklearn.ensemble import RandomForestClassifier\n",
    "from sklearn.metrics import confusion_matrix\n",
    "from sklearn.svm import SVC  \n",
    "import matplotlib.pyplot as plt\n",
    "%matplotlib inline \n",
    "from sklearn.metrics import classification_report, confusion_matrix, accuracy_score\n",
    "from sklearn.naive_bayes import MultinomialNB\n",
    "from sklearn.ensemble import GradientBoostingClassifier"
   ]
  },
  {
   "cell_type": "code",
   "execution_count": 5,
   "metadata": {
    "collapsed": true
   },
   "outputs": [
    {
     "name": "stdout",
     "output_type": "stream",
     "text": [
      "<class 'pandas.core.frame.DataFrame'>\n",
      "RangeIndex: 871 entries, 0 to 870\n",
      "Data columns (total 2 columns):\n",
      "tag     871 non-null int64\n",
      "text    871 non-null object\n",
      "dtypes: int64(1), object(1)\n",
      "memory usage: 13.7+ KB\n"
     ]
    },
    {
     "data": {
      "text/html": [
       "<div>\n",
       "<style scoped>\n",
       "    .dataframe tbody tr th:only-of-type {\n",
       "        vertical-align: middle;\n",
       "    }\n",
       "\n",
       "    .dataframe tbody tr th {\n",
       "        vertical-align: top;\n",
       "    }\n",
       "\n",
       "    .dataframe thead th {\n",
       "        text-align: right;\n",
       "    }\n",
       "</style>\n",
       "<table border=\"1\" class=\"dataframe\">\n",
       "  <thead>\n",
       "    <tr style=\"text-align: right;\">\n",
       "      <th></th>\n",
       "      <th>tag</th>\n",
       "      <th>text</th>\n",
       "    </tr>\n",
       "  </thead>\n",
       "  <tbody>\n",
       "    <tr>\n",
       "      <th>0</th>\n",
       "      <td>1</td>\n",
       "      <td>#Saudi Cabinet restructuring meant to upgrade ...</td>\n",
       "    </tr>\n",
       "    <tr>\n",
       "      <th>1</th>\n",
       "      <td>0</td>\n",
       "      <td>Way to Go @Netflix. #Holocaust next? #SaudiAra...</td>\n",
       "    </tr>\n",
       "    <tr>\n",
       "      <th>2</th>\n",
       "      <td>1</td>\n",
       "      <td>The 1st trial session of the 11 killers of #Sa...</td>\n",
       "    </tr>\n",
       "    <tr>\n",
       "      <th>3</th>\n",
       "      <td>0</td>\n",
       "      <td>Was glued to my desk/PC for most part of the a...</td>\n",
       "    </tr>\n",
       "    <tr>\n",
       "      <th>4</th>\n",
       "      <td>1</td>\n",
       "      <td>THE three decades ban on cinemas in Saudi Arab...</td>\n",
       "    </tr>\n",
       "  </tbody>\n",
       "</table>\n",
       "</div>"
      ],
      "text/plain": [
       "   tag                                               text\n",
       "0    1  #Saudi Cabinet restructuring meant to upgrade ...\n",
       "1    0  Way to Go @Netflix. #Holocaust next? #SaudiAra...\n",
       "2    1  The 1st trial session of the 11 killers of #Sa...\n",
       "3    0  Was glued to my desk/PC for most part of the a...\n",
       "4    1  THE three decades ban on cinemas in Saudi Arab..."
      ]
     },
     "execution_count": 5,
     "metadata": {},
     "output_type": "execute_result"
    }
   ],
   "source": [
    "#Load Dataset\n",
    "def Load_data(path):\n",
    "    with open(path) as json_data:\n",
    "        data=json.load(json_data)\n",
    "    new_data = []\n",
    "    for item in data:\n",
    "        new_entry = {}\n",
    "        for k,v in item.items():\n",
    "        # a dictionary will return True for isinstance(v, dict)\n",
    "            if not isinstance(v, dict):\n",
    "            # v is not a dictionary here\n",
    "                new_entry[k] = v\n",
    "            else:\n",
    "            # v is a dictionary, so we flatten it\n",
    "                 for a,b in v.items():\n",
    "                     new_entry[a] = b\n",
    "        new_data.append(new_entry)\n",
    "    return pd.DataFrame(new_data)\n",
    "\n",
    "\n",
    "path ='/Users/Desktop/Model/Tweets.json'\n",
    "tweet=Load_data(path)\n",
    "\n"
   ]
  },
  {
   "cell_type": "code",
   "execution_count": 6,
   "metadata": {},
   "outputs": [
    {
     "name": "stdout",
     "output_type": "stream",
     "text": [
      "<class 'pandas.core.frame.DataFrame'>\n",
      "RangeIndex: 871 entries, 0 to 870\n",
      "Data columns (total 2 columns):\n",
      "tag     871 non-null int64\n",
      "text    871 non-null object\n",
      "dtypes: int64(1), object(1)\n",
      "memory usage: 13.7+ KB\n"
     ]
    },
    {
     "data": {
      "text/html": [
       "<div>\n",
       "<style scoped>\n",
       "    .dataframe tbody tr th:only-of-type {\n",
       "        vertical-align: middle;\n",
       "    }\n",
       "\n",
       "    .dataframe tbody tr th {\n",
       "        vertical-align: top;\n",
       "    }\n",
       "\n",
       "    .dataframe thead th {\n",
       "        text-align: right;\n",
       "    }\n",
       "</style>\n",
       "<table border=\"1\" class=\"dataframe\">\n",
       "  <thead>\n",
       "    <tr style=\"text-align: right;\">\n",
       "      <th></th>\n",
       "      <th>tag</th>\n",
       "      <th>text</th>\n",
       "    </tr>\n",
       "  </thead>\n",
       "  <tbody>\n",
       "    <tr>\n",
       "      <th>0</th>\n",
       "      <td>1</td>\n",
       "      <td>#Saudi Cabinet restructuring meant to upgrade ...</td>\n",
       "    </tr>\n",
       "    <tr>\n",
       "      <th>1</th>\n",
       "      <td>0</td>\n",
       "      <td>Way to Go @Netflix. #Holocaust next? #SaudiAra...</td>\n",
       "    </tr>\n",
       "    <tr>\n",
       "      <th>2</th>\n",
       "      <td>1</td>\n",
       "      <td>The 1st trial session of the 11 killers of #Sa...</td>\n",
       "    </tr>\n",
       "    <tr>\n",
       "      <th>3</th>\n",
       "      <td>0</td>\n",
       "      <td>Was glued to my desk/PC for most part of the a...</td>\n",
       "    </tr>\n",
       "    <tr>\n",
       "      <th>4</th>\n",
       "      <td>1</td>\n",
       "      <td>THE three decades ban on cinemas in Saudi Arab...</td>\n",
       "    </tr>\n",
       "  </tbody>\n",
       "</table>\n",
       "</div>"
      ],
      "text/plain": [
       "   tag                                               text\n",
       "0    1  #Saudi Cabinet restructuring meant to upgrade ...\n",
       "1    0  Way to Go @Netflix. #Holocaust next? #SaudiAra...\n",
       "2    1  The 1st trial session of the 11 killers of #Sa...\n",
       "3    0  Was glued to my desk/PC for most part of the a...\n",
       "4    1  THE three decades ban on cinemas in Saudi Arab..."
      ]
     },
     "execution_count": 6,
     "metadata": {},
     "output_type": "execute_result"
    }
   ],
   "source": [
    "tweet.info()\n",
    "tweet.head()"
   ]
  },
  {
   "cell_type": "markdown",
   "metadata": {},
   "source": [
    "# Preprocessing\n"
   ]
  },
  {
   "cell_type": "markdown",
   "metadata": {},
   "source": [
    "\n",
    "1-Removal Stop Words\n"
   ]
  },
  {
   "cell_type": "code",
   "execution_count": 9,
   "metadata": {},
   "outputs": [
    {
     "name": "stderr",
     "output_type": "stream",
     "text": [
      "[nltk_data] Downloading package stopwords to\n",
      "[nltk_data]     /Users/Mayona/nltk_data...\n",
      "[nltk_data]   Package stopwords is already up-to-date!\n"
     ]
    }
   ],
   "source": [
    "\n",
    "nltk.download('stopwords')\n",
    "stop = set(stopwords.words(\"english\"))\n",
    "tweet['text']=tweet['text'].apply(lambda x:' '.join(word for word in x.split() if word not in (stop)))\n"
   ]
  },
  {
   "cell_type": "code",
   "execution_count": 10,
   "metadata": {},
   "outputs": [
    {
     "data": {
      "text/html": [
       "<div>\n",
       "<style scoped>\n",
       "    .dataframe tbody tr th:only-of-type {\n",
       "        vertical-align: middle;\n",
       "    }\n",
       "\n",
       "    .dataframe tbody tr th {\n",
       "        vertical-align: top;\n",
       "    }\n",
       "\n",
       "    .dataframe thead th {\n",
       "        text-align: right;\n",
       "    }\n",
       "</style>\n",
       "<table border=\"1\" class=\"dataframe\">\n",
       "  <thead>\n",
       "    <tr style=\"text-align: right;\">\n",
       "      <th></th>\n",
       "      <th>tag</th>\n",
       "      <th>text</th>\n",
       "    </tr>\n",
       "  </thead>\n",
       "  <tbody>\n",
       "    <tr>\n",
       "      <th>0</th>\n",
       "      <td>1</td>\n",
       "      <td>#Saudi Cabinet restructuring meant upgrade sta...</td>\n",
       "    </tr>\n",
       "    <tr>\n",
       "      <th>1</th>\n",
       "      <td>0</td>\n",
       "      <td>Way Go @Netflix. #Holocaust next? #SaudiArabia...</td>\n",
       "    </tr>\n",
       "    <tr>\n",
       "      <th>2</th>\n",
       "      <td>1</td>\n",
       "      <td>The 1st trial session 11 killers #Saudi journa...</td>\n",
       "    </tr>\n",
       "    <tr>\n",
       "      <th>3</th>\n",
       "      <td>0</td>\n",
       "      <td>Was glued desk/PC part arvo @ work watching #s...</td>\n",
       "    </tr>\n",
       "    <tr>\n",
       "      <th>4</th>\n",
       "      <td>1</td>\n",
       "      <td>THE three decades ban cinemas Saudi Arabia lif...</td>\n",
       "    </tr>\n",
       "  </tbody>\n",
       "</table>\n",
       "</div>"
      ],
      "text/plain": [
       "   tag                                               text\n",
       "0    1  #Saudi Cabinet restructuring meant upgrade sta...\n",
       "1    0  Way Go @Netflix. #Holocaust next? #SaudiArabia...\n",
       "2    1  The 1st trial session 11 killers #Saudi journa...\n",
       "3    0  Was glued desk/PC part arvo @ work watching #s...\n",
       "4    1  THE three decades ban cinemas Saudi Arabia lif..."
      ]
     },
     "execution_count": 10,
     "metadata": {},
     "output_type": "execute_result"
    }
   ],
   "source": [
    "tweet.head()"
   ]
  },
  {
   "cell_type": "markdown",
   "metadata": {},
   "source": [
    "2- lowercase\n",
    "\n"
   ]
  },
  {
   "cell_type": "code",
   "execution_count": 11,
   "metadata": {},
   "outputs": [],
   "source": [
    "def lowercase(tweet):\n",
    "    tweet = tweet.lower()\n",
    "    return tweet\n",
    "\n",
    "tweet['text'] = tweet['text'].apply(lowercase)\n"
   ]
  },
  {
   "cell_type": "code",
   "execution_count": 12,
   "metadata": {},
   "outputs": [
    {
     "data": {
      "text/plain": [
       "0    #saudi cabinet restructuring meant upgrade sta...\n",
       "1    way go @netflix. #holocaust next? #saudiarabia...\n",
       "2    the 1st trial session 11 killers #saudi journa...\n",
       "3    was glued desk/pc part arvo @ work watching #s...\n",
       "4    the three decades ban cinemas saudi arabia lif...\n",
       "Name: text, dtype: object"
      ]
     },
     "execution_count": 12,
     "metadata": {},
     "output_type": "execute_result"
    }
   ],
   "source": [
    "tweet['text'].head()"
   ]
  },
  {
   "cell_type": "markdown",
   "metadata": {},
   "source": [
    "3-Clean tweets text by removing links, special characters\n"
   ]
  },
  {
   "cell_type": "code",
   "execution_count": 13,
   "metadata": {},
   "outputs": [],
   "source": [
    "def processTweet(tweet):\n",
    "    tweet = re.sub(r'\\&\\w*;', '', tweet)\n",
    "    # Remove hyperlinks\n",
    "    tweet = re.sub(r'https?:\\/\\/.*\\/\\w*', '', tweet)\n",
    "    # Remove hashtags\n",
    "    tweet = re.sub(r'#\\w*', '', tweet)\n",
    "    # Remove words with 2 or fewer letters\n",
    "    tweet = re.sub(r'\\b\\w{1,2}\\b', '', tweet)\n",
    "    # Remove whitespace (including new line characters)\n",
    "    tweet = re.sub(r'\\s\\s+', ' ', tweet)\n",
    "    # Remove single space remaining at the front of the tweet.\n",
    "    tweet = tweet.lstrip(' ') \n",
    "    return tweet"
   ]
  },
  {
   "cell_type": "code",
   "execution_count": 17,
   "metadata": {
    "collapsed": true
   },
   "outputs": [
    {
     "data": {
      "text/plain": [
       "0     cabinet restructuring meant upgrade standard s...\n",
       "1     way @netflix. next? made @netflix delete comed...\n",
       "2     the 1st trial session killers journalist start...\n",
       "3     was glued desk/ part arvo @ work watching saga...\n",
       "4     the three decades ban cinemas saudi arabia lif...\n",
       "5     thursday, saudi king salman ordered reshufflin...\n",
       "6     meet rising model who, , sights set global suc...\n",
       "7     trends president . @ahmedalhamli concludes pro...\n",
       "8     recently admitted source who' writing ' articl...\n",
       "9     arabia unveils ' first entertainment complex s...\n",
       "10    .@secpompeo meet / leaders discuss key bilater...\n",
       "11         king announces plans set saudi space agency \n",
       "12    ejar, real estate rental program ministry hous...\n",
       "13    king fahd university petroleum minerals positi...\n",
       "14    key suspect khashoggi trial former top royal a...\n",
       "15    saudi parliament () sets minimal marriage age ...\n",
       "16    beautiful @reuters photo @aljanadriafest. men ...\n",
       "17    arabia awards first major wind project worth $...\n",
       "18    criticized pulling satire episode episode ' pa...\n",
       "19    least two saw @saudq1978 torture chambers. ' c...\n",
       "Name: text, dtype: object"
      ]
     },
     "execution_count": 17,
     "metadata": {},
     "output_type": "execute_result"
    }
   ],
   "source": [
    "tweet['text'] = tweet['text'].apply(processTweet)\n",
    "tweet['text'].head(n=20)"
   ]
  },
  {
   "cell_type": "markdown",
   "metadata": {},
   "source": [
    "4-Removing Twitter Handles (@user)"
   ]
  },
  {
   "cell_type": "code",
   "execution_count": 20,
   "metadata": {},
   "outputs": [],
   "source": [
    "def remove_pattern(input_txt, pattern):\n",
    "    r = re.findall(pattern, input_txt)\n",
    "    for i in r:\n",
    "        input_txt = re.sub(i, '', input_txt)\n",
    "        \n",
    "    return input_txt  \n",
    "tweet['text']=np.vectorize(remove_pattern)(tweet['text'], \"@[\\w]*\")\n",
    "\n"
   ]
  },
  {
   "cell_type": "markdown",
   "metadata": {},
   "source": [
    "5- Removal  none alphabetic characters."
   ]
  },
  {
   "cell_type": "code",
   "execution_count": 21,
   "metadata": {},
   "outputs": [
    {
     "data": {
      "text/plain": [
       "0    cabinet restructuring meant upgrade standard s...\n",
       "1    way  next made  delete comedy show accused cov...\n",
       "2    the 1st trial session killers journalist start...\n",
       "3    was glued desk part arvo  work watching saga u...\n",
       "4    the three decades ban cinemas saudi arabia lif...\n",
       "Name: text, dtype: object"
      ]
     },
     "execution_count": 21,
     "metadata": {},
     "output_type": "execute_result"
    }
   ],
   "source": [
    "tweet['text'] = tweet['text'].replace('[^a-zA-Z0-9 ]', '', regex=True)\n",
    "tweet['text'].head()"
   ]
  },
  {
   "cell_type": "code",
   "execution_count": 23,
   "metadata": {},
   "outputs": [
    {
     "name": "stderr",
     "output_type": "stream",
     "text": [
      "[nltk_data] Downloading package stopwords to\n",
      "[nltk_data]     /Users/Mayona/nltk_data...\n",
      "[nltk_data]   Package stopwords is already up-to-date!\n"
     ]
    }
   ],
   "source": [
    "nltk.download('stopwords')\n",
    "stop = set(stopwords.words(\"english\"))\n",
    "tweet['text']=tweet['text'].apply(lambda x:' '.join(word for word in x.split() if word not in (stop)))\n",
    "\n"
   ]
  },
  {
   "cell_type": "code",
   "execution_count": 24,
   "metadata": {
    "collapsed": true
   },
   "outputs": [
    {
     "data": {
      "text/plain": [
       "0      cabinet restructuring meant upgrade standard s...\n",
       "1      way next made delete comedy show accused cover...\n",
       "2      1st trial session killers journalist started t...\n",
       "3      glued desk part arvo work watching saga unfold...\n",
       "4      three decades ban cinemas saudi arabia lifted ...\n",
       "5      thursday saudi king salman ordered reshuffling...\n",
       "6      meet rising model sights set global success mi...\n",
       "7      trends president concludes productive meeting ...\n",
       "8      recently admitted source writing articles magg...\n",
       "9      arabia unveils first entertainment complex spa...\n",
       "10     meet leaders discuss key bilateral regional pr...\n",
       "11           king announces plans set saudi space agency\n",
       "12     ejar real estate rental program ministry housi...\n",
       "13     king fahd university petroleum minerals positi...\n",
       "14     key suspect khashoggi trial former top royal a...\n",
       "15     saudi parliament sets minimal marriage age gen...\n",
       "16     beautiful photo men fire weapons performing tr...\n",
       "17     arabia awards first major wind project worth 500m\n",
       "18     criticized pulling satire episode episode patr...\n",
       "19     least two saw torture chambers close advisor c...\n",
       "20     supervisor amb mohamed aljabir development out...\n",
       "21     government private sector entities providing f...\n",
       "22     according mike knights new report constructed ...\n",
       "23     king salman inaugurates sustainable agricultur...\n",
       "24              made raking another achievement honoring\n",
       "25     saudi aiming regional number position category...\n",
       "26     sanad mohammed bin salman launch sanad marriag...\n",
       "27     saudi prosecutor seeks death sentences five su...\n",
       "28     first arab travel space 1985 prince sultan bin...\n",
       "29                                            cycled way\n",
       "                             ...                        \n",
       "841    uae saudi arabia withdraws brand mouthwash hos...\n",
       "842    turkey president erdogan says understand silen...\n",
       "843    complex issues waiting4 michael worksolve incr...\n",
       "844    former members department defense working prin...\n",
       "845    trump destroying control making oil producer s...\n",
       "846    ltteisil holes driven rescueboat called india ...\n",
       "847      pilegrims see updated portal useful travel info\n",
       "848    mariah carey concert glad wahabi followers lik...\n",
       "849    human rights mariah carey performs saudi arabi...\n",
       "850    also quite odd would announce show first place...\n",
       "851    agreement exist mohammed bin salman trump keep...\n",
       "852                   shall never forget crimes humanity\n",
       "853    committee protect journalists host press confe...\n",
       "854    say torture freedom loujain hathloul detained ...\n",
       "855    mariah carey defies calls cancel saudi arabia ...\n",
       "856                   atlanta utd would scored goals mbs\n",
       "857    loujain hathloul said whipped beaten electrocu...\n",
       "858    saudi women activists held jail tortured threa...\n",
       "859    rahaf qunun hope story encourages women brave ...\n",
       "860                     running like man got away murder\n",
       "861    man mbs calcio give card looking get fucking d...\n",
       "862    runs huge sinister online database women men u...\n",
       "863    approximately three months since mbs murdered ...\n",
       "864                        latest khashoggi daily thanks\n",
       "865    mohammed bin salman running saudi arabia like ...\n",
       "866                     mbs saudi arabia accused torture\n",
       "867    new arabic version independent newspaper repor...\n",
       "868    netherlands belgium luxembourg ireland canada ...\n",
       "869    loujain hathloul years old courageous advocate...\n",
       "870    king salman expresses saudi solidarity sudan p...\n",
       "Name: text, Length: 871, dtype: object"
      ]
     },
     "execution_count": 24,
     "metadata": {},
     "output_type": "execute_result"
    }
   ],
   "source": [
    "tweet['text']"
   ]
  },
  {
   "cell_type": "markdown",
   "metadata": {},
   "source": [
    "6- Stemming\n"
   ]
  },
  {
   "cell_type": "code",
   "execution_count": 29,
   "metadata": {},
   "outputs": [],
   "source": [
    "ps = PorterStemmer()\n",
    "tweet['Stemming'] = tweet['text'].apply(lambda x: ' '.join([ps.stem(word) for word in x.split() ]))"
   ]
  },
  {
   "cell_type": "code",
   "execution_count": 30,
   "metadata": {
    "collapsed": true
   },
   "outputs": [
    {
     "data": {
      "text/plain": [
       "0        cabinet restructur meant upgrad standard servic\n",
       "1      way next made delet comedi show accus cover ja...\n",
       "2      1st trial session killer journalist start toda...\n",
       "3      glu desk part arvo work watch saga unfold 18yo...\n",
       "4      three decad ban cinema saudi arabia lift decem...\n",
       "5      thursday saudi king salman order reshuffl cabi...\n",
       "6      meet rise model sight set global success miss ...\n",
       "7      trend presid conclud product meet nation cente...\n",
       "8      recent admit sourc write articl maggi salem ex...\n",
       "9      arabia unveil first entertain complex span hectar\n",
       "10     meet leader discuss key bilater region priorit...\n",
       "11               king announc plan set saudi space agenc\n",
       "12     ejar real estat rental program ministri hous s...\n",
       "13     king fahd univers petroleum miner posit top en...\n",
       "14     key suspect khashoggi trial former top royal a...\n",
       "15     saudi parliament set minim marriag age gender ...\n",
       "16     beauti photo men fire weapon perform tradit da...\n",
       "17      arabia award first major wind project worth 500m\n",
       "18     critic pull satir episod episod patriot act cr...\n",
       "19     least two saw tortur chamber close advisor cro...\n",
       "20     supervisor amb moham aljabir develop outcom re...\n",
       "21     govern privat sector entiti provid firstclass ...\n",
       "22     accord mike knight new report construct 100 ne...\n",
       "23     king salman inaugur sustain agricultur rural d...\n",
       "24                          made rake anoth achiev honor\n",
       "25     saudi aim region number posit categori save mi...\n",
       "26     sanad moham bin salman launch sanad marriag in...\n",
       "27     saudi prosecutor seek death sentenc five suspe...\n",
       "28     first arab travel space 1985 princ sultan bin ...\n",
       "29                                              cycl way\n",
       "                             ...                        \n",
       "841    uae saudi arabia withdraw brand mouthwash hosp...\n",
       "842    turkey presid erdogan say understand silenc mu...\n",
       "843    complex issu waiting4 michael worksolv increas...\n",
       "844    former member depart defens work princ moham b...\n",
       "845    trump destroy control make oil produc stop pro...\n",
       "846    ltteisil hole driven rescueboat call india non...\n",
       "847            pilegrim see updat portal use travel info\n",
       "848    mariah carey concert glad wahabi follow like o...\n",
       "849    human right mariah carey perform saudi arabia ...\n",
       "850    also quit odd would announc show first place g...\n",
       "851    agreement exist moham bin salman trump keep ri...\n",
       "852                       shall never forget crime human\n",
       "853    committe protect journalist host press confer ...\n",
       "854    say tortur freedom loujain hathloul detain whr...\n",
       "855    mariah carey defi call cancel saudi arabia con...\n",
       "856                      atlanta utd would score goal mb\n",
       "857    loujain hathloul said whip beaten electrocut h...\n",
       "858    saudi women activist held jail tortur threaten...\n",
       "859     rahaf qunun hope stori encourag women brave free\n",
       "860                         run like man got away murder\n",
       "861         man mb calcio give card look get fuck dictat\n",
       "862    run huge sinist onlin databas women men use tr...\n",
       "863    approxim three month sinc mb murder jamal khas...\n",
       "864                         latest khashoggi daili thank\n",
       "865    moham bin salman run saudi arabia like man got...\n",
       "866                         mb saudi arabia accus tortur\n",
       "867    new arab version independ newspap reportedli i...\n",
       "868    netherland belgium luxembourg ireland canada t...\n",
       "869    loujain hathloul year old courag advoc gender ...\n",
       "870    king salman express saudi solidar sudan presid...\n",
       "Name: Stemming, Length: 871, dtype: object"
      ]
     },
     "execution_count": 30,
     "metadata": {},
     "output_type": "execute_result"
    }
   ],
   "source": [
    "tweet['Stemming']"
   ]
  },
  {
   "cell_type": "code",
   "execution_count": 31,
   "metadata": {
    "collapsed": true
   },
   "outputs": [
    {
     "data": {
      "text/html": [
       "<div>\n",
       "<style scoped>\n",
       "    .dataframe tbody tr th:only-of-type {\n",
       "        vertical-align: middle;\n",
       "    }\n",
       "\n",
       "    .dataframe tbody tr th {\n",
       "        vertical-align: top;\n",
       "    }\n",
       "\n",
       "    .dataframe thead th {\n",
       "        text-align: right;\n",
       "    }\n",
       "</style>\n",
       "<table border=\"1\" class=\"dataframe\">\n",
       "  <thead>\n",
       "    <tr style=\"text-align: right;\">\n",
       "      <th></th>\n",
       "      <th>tag</th>\n",
       "      <th>text</th>\n",
       "      <th>Stemming</th>\n",
       "    </tr>\n",
       "  </thead>\n",
       "  <tbody>\n",
       "    <tr>\n",
       "      <th>0</th>\n",
       "      <td>1</td>\n",
       "      <td>cabinet restructuring meant upgrade standard s...</td>\n",
       "      <td>cabinet restructur meant upgrad standard servic</td>\n",
       "    </tr>\n",
       "    <tr>\n",
       "      <th>1</th>\n",
       "      <td>0</td>\n",
       "      <td>way next made delete comedy show accused cover...</td>\n",
       "      <td>way next made delet comedi show accus cover ja...</td>\n",
       "    </tr>\n",
       "    <tr>\n",
       "      <th>2</th>\n",
       "      <td>1</td>\n",
       "      <td>1st trial session killers journalist started t...</td>\n",
       "      <td>1st trial session killer journalist start toda...</td>\n",
       "    </tr>\n",
       "    <tr>\n",
       "      <th>3</th>\n",
       "      <td>0</td>\n",
       "      <td>glued desk part arvo work watching saga unfold...</td>\n",
       "      <td>glu desk part arvo work watch saga unfold 18yo...</td>\n",
       "    </tr>\n",
       "    <tr>\n",
       "      <th>4</th>\n",
       "      <td>1</td>\n",
       "      <td>three decades ban cinemas saudi arabia lifted ...</td>\n",
       "      <td>three decad ban cinema saudi arabia lift decem...</td>\n",
       "    </tr>\n",
       "  </tbody>\n",
       "</table>\n",
       "</div>"
      ],
      "text/plain": [
       "   tag                                               text  \\\n",
       "0    1  cabinet restructuring meant upgrade standard s...   \n",
       "1    0  way next made delete comedy show accused cover...   \n",
       "2    1  1st trial session killers journalist started t...   \n",
       "3    0  glued desk part arvo work watching saga unfold...   \n",
       "4    1  three decades ban cinemas saudi arabia lifted ...   \n",
       "\n",
       "                                            Stemming  \n",
       "0    cabinet restructur meant upgrad standard servic  \n",
       "1  way next made delet comedi show accus cover ja...  \n",
       "2  1st trial session killer journalist start toda...  \n",
       "3  glu desk part arvo work watch saga unfold 18yo...  \n",
       "4  three decad ban cinema saudi arabia lift decem...  "
      ]
     },
     "execution_count": 31,
     "metadata": {},
     "output_type": "execute_result"
    }
   ],
   "source": [
    "tweet.head()"
   ]
  },
  {
   "cell_type": "markdown",
   "metadata": {},
   "source": [
    "# build model with tweet['Stemming']\n"
   ]
  },
  {
   "cell_type": "code",
   "execution_count": 37,
   "metadata": {},
   "outputs": [],
   "source": [
    "# tag=1 (tweet is real) tag=0 (tweet is fake)\n",
    "x=tweet['Stemming']\n",
    "y=tweet['tag']"
   ]
  },
  {
   "cell_type": "code",
   "execution_count": 46,
   "metadata": {},
   "outputs": [],
   "source": [
    "X_train, X_test, Y_train, Y_test = model_selection.train_test_split(x, y, test_size=.20, random_state=0)"
   ]
  },
  {
   "cell_type": "code",
   "execution_count": 49,
   "metadata": {},
   "outputs": [],
   "source": [
    "# bag of words ##\n",
    "cv= CountVectorizer()\n",
    "countx=cv.fit_transform(X_train)\n",
    "#countx.shape\n",
    "counttest=cv.transform(X_test)\n",
    "#counttest.shape\n",
    "\n",
    "## BOW & TF-IDF ##\n",
    "tfidf_transformer = TfidfTransformer()\n",
    "X_train_tfidf = tfidf_transformer.fit_transform(countx)\n",
    "# X_train_tfidf.shape\n",
    "counttest=cv.transform(X_test)\n",
    "#counttest.shape\n",
    "X_test_tfidf=tfidf_transformer.transform(counttest)\n",
    "#X_test_tfidf.shape\n",
    "\n"
   ]
  },
  {
   "cell_type": "markdown",
   "metadata": {},
   "source": [
    "try the same algorithms "
   ]
  },
  {
   "cell_type": "markdown",
   "metadata": {},
   "source": [
    "# KNeighborsClassifier With BOW \n"
   ]
  },
  {
   "cell_type": "code",
   "execution_count": 54,
   "metadata": {},
   "outputs": [
    {
     "name": "stdout",
     "output_type": "stream",
     "text": [
      "[0.5142857142857142, 0.4342857142857143, 0.44571428571428573, 0.4857142857142857, 0.6057142857142858, 0.45714285714285713, 0.6057142857142858, 0.5428571428571428, 0.6514285714285715, 0.5828571428571429, 0.6914285714285714, 0.6114285714285714, 0.7085714285714285, 0.6171428571428571, 0.7142857142857143, 0.6571428571428571, 0.7142857142857143, 0.6685714285714286, 0.72, 0.7028571428571428, 0.7542857142857143, 0.7428571428571429, 0.7314285714285714, 0.7314285714285714, 0.7257142857142858, 0.7428571428571429, 0.7371428571428571, 0.72, 0.72, 0.7085714285714285, 0.7142857142857143, 0.7085714285714285, 0.7142857142857143, 0.6971428571428572, 0.7085714285714285, 0.72, 0.72, 0.7142857142857143, 0.7085714285714285, 0.6971428571428572, 0.7142857142857143, 0.7028571428571428, 0.72, 0.72, 0.7028571428571428, 0.7142857142857143, 0.72, 0.7085714285714285, 0.7142857142857143]\n"
     ]
    }
   ],
   "source": [
    "\n",
    "# search for an optimal value of K for KNN\n",
    "K_rang=range(1,50)\n",
    "K_score=[]\n",
    "for k in K_rang:\n",
    "    KNN=KNeighborsClassifier(n_neighbors=k)\n",
    "    KNN.fit(countx, Y_train)\n",
    "    predicted = KNN.predict(counttest)\n",
    "    K_score.append(accuracy_score(Y_test, predicted))\n",
    "print(K_score)\n"
   ]
  },
  {
   "cell_type": "code",
   "execution_count": 55,
   "metadata": {},
   "outputs": [
    {
     "data": {
      "text/plain": [
       "Text(0, 0.5, 'cross-valdition Accuracy')"
      ]
     },
     "execution_count": 55,
     "metadata": {},
     "output_type": "execute_result"
    },
    {
     "data": {
      "image/png": "[encoded data removed]",
      "text/plain": [
       "<Figure size 432x288 with 1 Axes>"
      ]
     },
     "metadata": {
      "needs_background": "light"
     },
     "output_type": "display_data"
    }
   ],
   "source": [
    "\n",
    "#polt the value of K for KNN\n",
    "plt.plot(K_rang,K_score)\n",
    "plt.xlabel(\"value of k for knn\")\n",
    "plt.ylabel(\"cross-valdition Accuracy\")\n"
   ]
  },
  {
   "cell_type": "code",
   "execution_count": 58,
   "metadata": {},
   "outputs": [
    {
     "name": "stdout",
     "output_type": "stream",
     "text": [
      "[[ 20  33]\n",
      " [ 10 112]]\n",
      "              precision    recall  f1-score   support\n",
      "\n",
      "           0       0.67      0.38      0.48        53\n",
      "           1       0.77      0.92      0.84       122\n",
      "\n",
      "   micro avg       0.75      0.75      0.75       175\n",
      "   macro avg       0.72      0.65      0.66       175\n",
      "weighted avg       0.74      0.75      0.73       175\n",
      "\n",
      "0.7542857142857143\n"
     ]
    }
   ],
   "source": [
    "# 21 is best\n",
    "\n",
    "#build the model\n",
    "KNN=KNeighborsClassifier(n_neighbors=21)\n",
    "KNN.fit(countx, Y_train)\n",
    "predicted = KNN.predict(counttest)\n",
    "print(confusion_matrix(Y_test, predicted))  \n",
    "print(classification_report(Y_test, predicted))  \n",
    "print(accuracy_score(Y_test, predicted))\n",
    "#accuracy_score is 0.7542857142857143"
   ]
  },
  {
   "cell_type": "markdown",
   "metadata": {},
   "source": [
    "# KNeighborsClassifier with BOW and TF-IDF"
   ]
  },
  {
   "cell_type": "code",
   "execution_count": 59,
   "metadata": {
    "scrolled": true
   },
   "outputs": [
    {
     "name": "stdout",
     "output_type": "stream",
     "text": [
      "[0.44571428571428573, 0.37714285714285717, 0.38285714285714284, 0.4857142857142857, 0.5771428571428572, 0.37142857142857144, 0.7257142857142858, 0.6685714285714286, 0.7714285714285715, 0.76, 0.7942857142857143, 0.8171428571428572, 0.8114285714285714, 0.8, 0.8114285714285714, 0.7828571428571428, 0.8, 0.8114285714285714, 0.8, 0.7942857142857143, 0.7942857142857143, 0.7771428571428571, 0.7885714285714286, 0.7942857142857143, 0.7828571428571428, 0.8057142857142857, 0.8, 0.8057142857142857, 0.8, 0.7942857142857143, 0.7828571428571428, 0.7942857142857143, 0.7942857142857143, 0.8057142857142857, 0.8, 0.8057142857142857, 0.8, 0.8, 0.7942857142857143, 0.8, 0.7885714285714286, 0.8, 0.7942857142857143, 0.7942857142857143, 0.7885714285714286, 0.8, 0.8057142857142857, 0.8114285714285714, 0.8057142857142857]\n"
     ]
    }
   ],
   "source": [
    "# search for an optimal value of K for KNN\n",
    "K_rang=range(1,50)\n",
    "K_score=[]\n",
    "for k in K_rang:\n",
    "    KNN=KNeighborsClassifier(n_neighbors=k)\n",
    "    KNN.fit(X_train_tfidf, Y_train)\n",
    "    predicted = KNN.predict(X_test_tfidf)\n",
    "    K_score.append(accuracy_score(Y_test, predicted))\n",
    "print(K_score)\n"
   ]
  },
  {
   "cell_type": "code",
   "execution_count": 60,
   "metadata": {
    "scrolled": true
   },
   "outputs": [
    {
     "data": {
      "text/plain": [
       "Text(0, 0.5, 'cross-valdition Accuracy')"
      ]
     },
     "execution_count": 60,
     "metadata": {},
     "output_type": "execute_result"
    },
    {
     "data": {
      "image/png": "[encoded data removed]",
      "text/plain": [
       "<Figure size 432x288 with 1 Axes>"
      ]
     },
     "metadata": {
      "needs_background": "light"
     },
     "output_type": "display_data"
    }
   ],
   "source": [
    "\n",
    "#polt the value of K for KNN\n",
    "plt.plot(K_rang,K_score)\n",
    "plt.xlabel(\"value of k for knn\")\n",
    "plt.ylabel(\"cross-valdition Accuracy\")\n",
    "# 12 is the best\n"
   ]
  },
  {
   "cell_type": "code",
   "execution_count": 61,
   "metadata": {},
   "outputs": [
    {
     "name": "stdout",
     "output_type": "stream",
     "text": [
      "[[ 38  15]\n",
      " [ 17 105]]\n",
      "              precision    recall  f1-score   support\n",
      "\n",
      "           0       0.69      0.72      0.70        53\n",
      "           1       0.88      0.86      0.87       122\n",
      "\n",
      "   micro avg       0.82      0.82      0.82       175\n",
      "   macro avg       0.78      0.79      0.79       175\n",
      "weighted avg       0.82      0.82      0.82       175\n",
      "\n",
      "0.8171428571428572\n"
     ]
    }
   ],
   "source": [
    "\n",
    "#build the model\n",
    "KNN=KNeighborsClassifier(n_neighbors=12)\n",
    "KNN.fit(X_train_tfidf, Y_train)\n",
    "predicted = KNN.predict(X_test_tfidf)\n",
    "\n",
    "\n",
    "print(confusion_matrix(Y_test, predicted))  \n",
    "print(classification_report(Y_test, predicted))  \n",
    "print(accuracy_score(Y_test, predicted))\n",
    "#accuracy_score is 0.8171428571428572"
   ]
  },
  {
   "cell_type": "markdown",
   "metadata": {},
   "source": [
    "# MultinomialNB With BOW\n"
   ]
  },
  {
   "cell_type": "code",
   "execution_count": 64,
   "metadata": {},
   "outputs": [
    {
     "name": "stdout",
     "output_type": "stream",
     "text": [
      "[[ 41  12]\n",
      " [ 18 104]]\n",
      "              precision    recall  f1-score   support\n",
      "\n",
      "           0       0.69      0.77      0.73        53\n",
      "           1       0.90      0.85      0.87       122\n",
      "\n",
      "   micro avg       0.83      0.83      0.83       175\n",
      "   macro avg       0.80      0.81      0.80       175\n",
      "weighted avg       0.84      0.83      0.83       175\n",
      "\n",
      "0.8285714285714286\n"
     ]
    }
   ],
   "source": [
    "\n",
    "NB=MultinomialNB()\n",
    "NB.fit(countx, Y_train)\n",
    "predicted = NB.predict(counttest)\n",
    "\n",
    "print(confusion_matrix(Y_test, predicted))  \n",
    "print(classification_report(Y_test, predicted))  \n",
    "print(accuracy_score(Y_test, predicted))\n",
    "# accuracy_score is 0.8285714285714286\n"
   ]
  },
  {
   "cell_type": "code",
   "execution_count": null,
   "metadata": {},
   "outputs": [],
   "source": []
  },
  {
   "cell_type": "markdown",
   "metadata": {},
   "source": [
    "# #MultinomialNB with BOW and TF-IDF\n"
   ]
  },
  {
   "cell_type": "code",
   "execution_count": 65,
   "metadata": {},
   "outputs": [
    {
     "name": "stdout",
     "output_type": "stream",
     "text": [
      "[[ 22  31]\n",
      " [  7 115]]\n",
      "              precision    recall  f1-score   support\n",
      "\n",
      "           0       0.76      0.42      0.54        53\n",
      "           1       0.79      0.94      0.86       122\n",
      "\n",
      "   micro avg       0.78      0.78      0.78       175\n",
      "   macro avg       0.77      0.68      0.70       175\n",
      "weighted avg       0.78      0.78      0.76       175\n",
      "\n",
      "0.7828571428571428\n"
     ]
    }
   ],
   "source": [
    "\n",
    "NB=MultinomialNB()\n",
    "NB.fit(X_train_tfidf, Y_train)\n",
    "predicted = NB.predict(X_test_tfidf)\n",
    "\n",
    "print(confusion_matrix(Y_test, predicted))  \n",
    "print(classification_report(Y_test, predicted))  \n",
    "print(accuracy_score(Y_test, predicted))\n",
    "# accuracy_score is 0.7828571428571428\n"
   ]
  },
  {
   "cell_type": "markdown",
   "metadata": {},
   "source": [
    "# #  Random ForestClassifier With BOW ##\n"
   ]
  },
  {
   "cell_type": "code",
   "execution_count": 66,
   "metadata": {},
   "outputs": [],
   "source": [
    "\n",
    "RF=RandomForestClassifier(n_estimators=1000, random_state=0)\n",
    "RF.fit(countx, Y_train)\n",
    "predicted = RF.predict(counttest)\n"
   ]
  },
  {
   "cell_type": "code",
   "execution_count": 67,
   "metadata": {},
   "outputs": [
    {
     "name": "stdout",
     "output_type": "stream",
     "text": [
      "[[ 33  20]\n",
      " [ 15 107]]\n",
      "              precision    recall  f1-score   support\n",
      "\n",
      "           0       0.69      0.62      0.65        53\n",
      "           1       0.84      0.88      0.86       122\n",
      "\n",
      "   micro avg       0.80      0.80      0.80       175\n",
      "   macro avg       0.77      0.75      0.76       175\n",
      "weighted avg       0.80      0.80      0.80       175\n",
      "\n",
      "0.8\n"
     ]
    }
   ],
   "source": [
    "\n",
    "print(confusion_matrix(Y_test, predicted))  \n",
    "print(classification_report(Y_test, predicted))  \n",
    "print(accuracy_score(Y_test, predicted))\n",
    "# accuracy_score is 0.8"
   ]
  },
  {
   "cell_type": "markdown",
   "metadata": {},
   "source": [
    "# # #  Random ForestClassifier BOW and TF-IDF ##\n"
   ]
  },
  {
   "cell_type": "code",
   "execution_count": 68,
   "metadata": {},
   "outputs": [],
   "source": [
    "RF=RandomForestClassifier(n_estimators=1000, random_state=0) \n",
    "RF.fit(X_train_tfidf, Y_train)\n",
    "predicted = RF.predict(X_test_tfidf)\n"
   ]
  },
  {
   "cell_type": "code",
   "execution_count": 69,
   "metadata": {},
   "outputs": [
    {
     "name": "stdout",
     "output_type": "stream",
     "text": [
      "[[ 28  25]\n",
      " [ 16 106]]\n",
      "              precision    recall  f1-score   support\n",
      "\n",
      "           0       0.64      0.53      0.58        53\n",
      "           1       0.81      0.87      0.84       122\n",
      "\n",
      "   micro avg       0.77      0.77      0.77       175\n",
      "   macro avg       0.72      0.70      0.71       175\n",
      "weighted avg       0.76      0.77      0.76       175\n",
      "\n",
      "0.7657142857142857\n"
     ]
    }
   ],
   "source": [
    "\n",
    "print(confusion_matrix(Y_test, predicted))  \n",
    "print(classification_report(Y_test, predicted))  \n",
    "print(accuracy_score(Y_test, predicted))\n",
    "\n",
    "# accuracy_score is 0.7657142857142857"
   ]
  },
  {
   "cell_type": "code",
   "execution_count": null,
   "metadata": {},
   "outputs": [],
   "source": []
  },
  {
   "cell_type": "markdown",
   "metadata": {},
   "source": [
    "# # support vector machine With BOW ##\n"
   ]
  },
  {
   "cell_type": "code",
   "execution_count": 70,
   "metadata": {},
   "outputs": [],
   "source": [
    "svm = SVC(kernel='linear') \n",
    "svm.fit(countx, Y_train)\n",
    "predicted = svm.predict(counttest)\n",
    "\n"
   ]
  },
  {
   "cell_type": "code",
   "execution_count": 71,
   "metadata": {
    "scrolled": true
   },
   "outputs": [
    {
     "name": "stdout",
     "output_type": "stream",
     "text": [
      "[[ 30  23]\n",
      " [ 18 104]]\n",
      "              precision    recall  f1-score   support\n",
      "\n",
      "           0       0.62      0.57      0.59        53\n",
      "           1       0.82      0.85      0.84       122\n",
      "\n",
      "   micro avg       0.77      0.77      0.77       175\n",
      "   macro avg       0.72      0.71      0.71       175\n",
      "weighted avg       0.76      0.77      0.76       175\n",
      "\n",
      "0.7657142857142857\n"
     ]
    }
   ],
   "source": [
    "print(confusion_matrix(Y_test, predicted))  \n",
    "print(classification_report(Y_test, predicted))\n",
    "print(accuracy_score(Y_test, predicted))\n",
    "\n",
    "# accuracy_score is 0.7657142857142857\n"
   ]
  },
  {
   "cell_type": "code",
   "execution_count": null,
   "metadata": {},
   "outputs": [],
   "source": []
  },
  {
   "cell_type": "markdown",
   "metadata": {},
   "source": [
    "# # #  support vector machine BOW and TF-IDF ##\n"
   ]
  },
  {
   "cell_type": "code",
   "execution_count": 72,
   "metadata": {},
   "outputs": [],
   "source": [
    "\n",
    "svm = SVC(kernel='linear') \n",
    "svm.fit(X_train_tfidf, Y_train)\n",
    "predicted = svm.predict(X_test_tfidf)\n"
   ]
  },
  {
   "cell_type": "code",
   "execution_count": 73,
   "metadata": {},
   "outputs": [
    {
     "name": "stdout",
     "output_type": "stream",
     "text": [
      "[[ 32  21]\n",
      " [ 10 112]]\n",
      "              precision    recall  f1-score   support\n",
      "\n",
      "           0       0.76      0.60      0.67        53\n",
      "           1       0.84      0.92      0.88       122\n",
      "\n",
      "   micro avg       0.82      0.82      0.82       175\n",
      "   macro avg       0.80      0.76      0.78       175\n",
      "weighted avg       0.82      0.82      0.82       175\n",
      "\n",
      "0.8228571428571428\n"
     ]
    }
   ],
   "source": [
    "\n",
    "print(confusion_matrix(Y_test, predicted))  \n",
    "print(classification_report(Y_test, predicted))\n",
    "print(accuracy_score(Y_test, predicted))\n",
    "\n",
    "# accuracy_score is 0.8228571428571428"
   ]
  },
  {
   "cell_type": "code",
   "execution_count": null,
   "metadata": {},
   "outputs": [],
   "source": []
  },
  {
   "cell_type": "markdown",
   "metadata": {},
   "source": [
    "# GradientBoostingClassifier with BOW\n",
    "\n"
   ]
  },
  {
   "cell_type": "code",
   "execution_count": 82,
   "metadata": {},
   "outputs": [],
   "source": [
    "GB = GradientBoostingClassifier(n_estimators=1000)\n",
    "GB.fit(countx, Y_train)\n",
    "predicted = GB.predict(counttest)\n",
    "\n"
   ]
  },
  {
   "cell_type": "code",
   "execution_count": 83,
   "metadata": {},
   "outputs": [
    {
     "name": "stdout",
     "output_type": "stream",
     "text": [
      "[[ 33  20]\n",
      " [ 15 107]]\n",
      "              precision    recall  f1-score   support\n",
      "\n",
      "           0       0.69      0.62      0.65        53\n",
      "           1       0.84      0.88      0.86       122\n",
      "\n",
      "   micro avg       0.80      0.80      0.80       175\n",
      "   macro avg       0.77      0.75      0.76       175\n",
      "weighted avg       0.80      0.80      0.80       175\n",
      "\n",
      "0.8\n"
     ]
    }
   ],
   "source": [
    "print(confusion_matrix(Y_test, predicted))  \n",
    "print(classification_report(Y_test, predicted))  \n",
    "print(accuracy_score(Y_test, predicted))\n",
    "# accuracy_score is 0.8\n",
    "#Accuracy changes when I rebuild the model \n"
   ]
  },
  {
   "cell_type": "markdown",
   "metadata": {},
   "source": [
    "# GradientBoostingClassifierwith BOW and TF-IDF\n"
   ]
  },
  {
   "cell_type": "code",
   "execution_count": 86,
   "metadata": {},
   "outputs": [],
   "source": [
    "GB = GradientBoostingClassifier(n_estimators=654)\n",
    "GB.fit(X_train_tfidf, Y_train)\n",
    "predicted = GB.predict(X_test_tfidf)"
   ]
  },
  {
   "cell_type": "code",
   "execution_count": 87,
   "metadata": {
    "scrolled": true
   },
   "outputs": [
    {
     "name": "stdout",
     "output_type": "stream",
     "text": [
      "[[ 32  21]\n",
      " [ 16 106]]\n",
      "              precision    recall  f1-score   support\n",
      "\n",
      "           0       0.67      0.60      0.63        53\n",
      "           1       0.83      0.87      0.85       122\n",
      "\n",
      "   micro avg       0.79      0.79      0.79       175\n",
      "   macro avg       0.75      0.74      0.74       175\n",
      "weighted avg       0.78      0.79      0.79       175\n",
      "\n",
      "0.7885714285714286\n"
     ]
    }
   ],
   "source": [
    "print(confusion_matrix(Y_test, predicted))  \n",
    "print(classification_report(Y_test, predicted))  \n",
    "print(accuracy_score(Y_test, predicted))\n",
    "# accuracy_score is 0.7885714285714286\n",
    "#Accuracy changes when I rebuild the model "
   ]
  },
  {
   "cell_type": "code",
   "execution_count": null,
   "metadata": {},
   "outputs": [],
   "source": []
  },
  {
   "cell_type": "code",
   "execution_count": null,
   "metadata": {},
   "outputs": [],
   "source": []
  },
  {
   "cell_type": "markdown",
   "metadata": {},
   "source": [
    "# build model with tweet['text']\n",
    "\n"
   ]
  },
  {
   "cell_type": "code",
   "execution_count": 88,
   "metadata": {},
   "outputs": [],
   "source": [
    "# tag=1 (tweet is real) tag=0 (tweet is fake)\n",
    "x=tweet['text']\n",
    "y=tweet['tag']"
   ]
  },
  {
   "cell_type": "code",
   "execution_count": 89,
   "metadata": {},
   "outputs": [],
   "source": [
    "X_train, X_test, Y_train, Y_test = model_selection.train_test_split(x, y, test_size=.20, random_state=0)\n"
   ]
  },
  {
   "cell_type": "code",
   "execution_count": 90,
   "metadata": {},
   "outputs": [],
   "source": [
    "\n",
    "# bag of words ##\n",
    "cv= CountVectorizer()\n",
    "countx=cv.fit_transform(X_train)\n",
    "#countx.shape\n",
    "counttest=cv.transform(X_test)\n",
    "#counttest.shape\n",
    "\n",
    "## BOW & TF-IDF ##\n",
    "tfidf_transformer = TfidfTransformer()\n",
    "X_train_tfidf = tfidf_transformer.fit_transform(countx)\n",
    "# X_train_tfidf.shape\n",
    "counttest=cv.transform(X_test)\n",
    "#counttest.shape\n",
    "X_test_tfidf=tfidf_transformer.transform(counttest)\n",
    "#X_test_tfidf.shape\n",
    "\n",
    "\n"
   ]
  },
  {
   "cell_type": "code",
   "execution_count": null,
   "metadata": {},
   "outputs": [],
   "source": []
  },
  {
   "cell_type": "markdown",
   "metadata": {},
   "source": [
    "# KNeighborsClassifier With BOW \n"
   ]
  },
  {
   "cell_type": "code",
   "execution_count": 91,
   "metadata": {},
   "outputs": [
    {
     "name": "stdout",
     "output_type": "stream",
     "text": [
      "[0.5142857142857142, 0.4228571428571429, 0.4342857142857143, 0.48, 0.5828571428571429, 0.45714285714285713, 0.6171428571428571, 0.49142857142857144, 0.6628571428571428, 0.5885714285714285, 0.6514285714285715, 0.6057142857142858, 0.72, 0.56, 0.7257142857142858, 0.6285714285714286, 0.7428571428571429, 0.6857142857142857, 0.72, 0.7085714285714285, 0.7314285714285714, 0.7142857142857143, 0.72, 0.7371428571428571, 0.7428571428571429, 0.7485714285714286, 0.7485714285714286, 0.7371428571428571, 0.7257142857142858, 0.7085714285714285, 0.72, 0.7028571428571428, 0.6971428571428572, 0.6914285714285714, 0.7257142857142858, 0.7257142857142858, 0.7314285714285714, 0.7371428571428571, 0.7085714285714285, 0.7028571428571428, 0.72, 0.72, 0.72, 0.72, 0.72, 0.7257142857142858, 0.7257142857142858, 0.7257142857142858, 0.7314285714285714]\n"
     ]
    }
   ],
   "source": [
    "\n",
    "# search for an optimal value of K for KNN\n",
    "K_rang=range(1,50)\n",
    "K_score=[]\n",
    "for k in K_rang:\n",
    "    KNN=KNeighborsClassifier(n_neighbors=k)\n",
    "    KNN.fit(countx, Y_train)\n",
    "    predicted = KNN.predict(counttest)\n",
    "    K_score.append(accuracy_score(Y_test, predicted))\n",
    "print(K_score)\n"
   ]
  },
  {
   "cell_type": "code",
   "execution_count": 92,
   "metadata": {},
   "outputs": [
    {
     "data": {
      "text/plain": [
       "Text(0, 0.5, 'cross-valdition Accuracy')"
      ]
     },
     "execution_count": 92,
     "metadata": {},
     "output_type": "execute_result"
    },
    {
     "data": {
      "image/png": "[encoded data removed]",
      "text/plain": [
       "<Figure size 432x288 with 1 Axes>"
      ]
     },
     "metadata": {
      "needs_background": "light"
     },
     "output_type": "display_data"
    }
   ],
   "source": [
    "#polt the value of K for KNN\n",
    "plt.plot(K_rang,K_score)\n",
    "plt.xlabel(\"value of k for knn\")\n",
    "plt.ylabel(\"cross-valdition Accuracy\")\n",
    "\n"
   ]
  },
  {
   "cell_type": "code",
   "execution_count": 100,
   "metadata": {},
   "outputs": [
    {
     "name": "stdout",
     "output_type": "stream",
     "text": [
      "[[ 16  37]\n",
      " [  7 115]]\n",
      "              precision    recall  f1-score   support\n",
      "\n",
      "           0       0.70      0.30      0.42        53\n",
      "           1       0.76      0.94      0.84       122\n",
      "\n",
      "   micro avg       0.75      0.75      0.75       175\n",
      "   macro avg       0.73      0.62      0.63       175\n",
      "weighted avg       0.74      0.75      0.71       175\n",
      "\n",
      "0.7485714285714286\n"
     ]
    }
   ],
   "source": [
    "# 27 is best\n",
    "\n",
    "#build the model\n",
    "KNN=KNeighborsClassifier(n_neighbors=27)\n",
    "KNN.fit(countx, Y_train)\n",
    "predicted = KNN.predict(counttest)\n",
    "print(confusion_matrix(Y_test, predicted))  \n",
    "print(classification_report(Y_test, predicted))  \n",
    "print(accuracy_score(Y_test, predicted))\n",
    "#accuracy_score is 0.7485714285714286\n"
   ]
  },
  {
   "cell_type": "code",
   "execution_count": null,
   "metadata": {},
   "outputs": [],
   "source": []
  },
  {
   "cell_type": "markdown",
   "metadata": {},
   "source": [
    "# # KNeighborsClassifier with BOW and TF-IDF"
   ]
  },
  {
   "cell_type": "code",
   "execution_count": 101,
   "metadata": {},
   "outputs": [
    {
     "name": "stdout",
     "output_type": "stream",
     "text": [
      "[0.44571428571428573, 0.37714285714285717, 0.38285714285714284, 0.4114285714285714, 0.5485714285714286, 0.4057142857142857, 0.6914285714285714, 0.6457142857142857, 0.7942857142857143, 0.7885714285714286, 0.8228571428571428, 0.8285714285714286, 0.8114285714285714, 0.7942857142857143, 0.8285714285714286, 0.8114285714285714, 0.8285714285714286, 0.8285714285714286, 0.8114285714285714, 0.7885714285714286, 0.8057142857142857, 0.8057142857142857, 0.8057142857142857, 0.7885714285714286, 0.7771428571428571, 0.7828571428571428, 0.7942857142857143, 0.7885714285714286, 0.7942857142857143, 0.7885714285714286, 0.7942857142857143, 0.7828571428571428, 0.7885714285714286, 0.7942857142857143, 0.7885714285714286, 0.8057142857142857, 0.7885714285714286, 0.7942857142857143, 0.7828571428571428, 0.7942857142857143, 0.7942857142857143, 0.7885714285714286, 0.7657142857142857, 0.7828571428571428, 0.7771428571428571, 0.7771428571428571, 0.7714285714285715, 0.7714285714285715, 0.7771428571428571]\n"
     ]
    }
   ],
   "source": [
    "# search for an optimal value of K for KNN\n",
    "K_rang=range(1,50)\n",
    "K_score=[]\n",
    "for k in K_rang:\n",
    "    KNN=KNeighborsClassifier(n_neighbors=k)\n",
    "    KNN.fit(X_train_tfidf, Y_train)\n",
    "    predicted = KNN.predict(X_test_tfidf)\n",
    "    K_score.append(accuracy_score(Y_test, predicted))\n",
    "print(K_score)"
   ]
  },
  {
   "cell_type": "code",
   "execution_count": 102,
   "metadata": {},
   "outputs": [
    {
     "data": {
      "text/plain": [
       "Text(0, 0.5, 'cross-valdition Accuracy')"
      ]
     },
     "execution_count": 102,
     "metadata": {},
     "output_type": "execute_result"
    },
    {
     "data": {
      "image/png": "[encoded data removed]",
      "text/plain": [
       "<Figure size 432x288 with 1 Axes>"
      ]
     },
     "metadata": {
      "needs_background": "light"
     },
     "output_type": "display_data"
    }
   ],
   "source": [
    "#polt the value of K for KNN\n",
    "plt.plot(K_rang,K_score)\n",
    "plt.xlabel(\"value of k for knn\")\n",
    "plt.ylabel(\"cross-valdition Accuracy\")\n",
    "# 18 is the best\n",
    "\n"
   ]
  },
  {
   "cell_type": "code",
   "execution_count": 116,
   "metadata": {},
   "outputs": [
    {
     "name": "stdout",
     "output_type": "stream",
     "text": [
      "[[ 37  16]\n",
      " [ 14 108]]\n",
      "              precision    recall  f1-score   support\n",
      "\n",
      "           0       0.73      0.70      0.71        53\n",
      "           1       0.87      0.89      0.88       122\n",
      "\n",
      "   micro avg       0.83      0.83      0.83       175\n",
      "   macro avg       0.80      0.79      0.79       175\n",
      "weighted avg       0.83      0.83      0.83       175\n",
      "\n",
      "0.8285714285714286\n"
     ]
    }
   ],
   "source": [
    "\n",
    "#build the model\n",
    "KNN=KNeighborsClassifier(n_neighbors=18)\n",
    "KNN.fit(X_train_tfidf, Y_train)\n",
    "predicted = KNN.predict(X_test_tfidf)\n",
    "\n",
    "\n",
    "print(confusion_matrix(Y_test, predicted))  \n",
    "print(classification_report(Y_test, predicted))  \n",
    "print(accuracy_score(Y_test, predicted))\n",
    "#accuracy_score is 0.8285714285714286"
   ]
  },
  {
   "cell_type": "code",
   "execution_count": null,
   "metadata": {},
   "outputs": [],
   "source": []
  },
  {
   "cell_type": "markdown",
   "metadata": {},
   "source": [
    "# #MultinomialNB with BOW "
   ]
  },
  {
   "cell_type": "code",
   "execution_count": 117,
   "metadata": {},
   "outputs": [
    {
     "name": "stdout",
     "output_type": "stream",
     "text": [
      "[[ 40  13]\n",
      " [ 15 107]]\n",
      "              precision    recall  f1-score   support\n",
      "\n",
      "           0       0.73      0.75      0.74        53\n",
      "           1       0.89      0.88      0.88       122\n",
      "\n",
      "   micro avg       0.84      0.84      0.84       175\n",
      "   macro avg       0.81      0.82      0.81       175\n",
      "weighted avg       0.84      0.84      0.84       175\n",
      "\n",
      "0.84\n"
     ]
    }
   ],
   "source": [
    "\n",
    "NB=MultinomialNB()\n",
    "NB.fit(countx, Y_train)\n",
    "predicted = NB.predict(counttest)\n",
    "\n",
    "print(confusion_matrix(Y_test, predicted))  \n",
    "print(classification_report(Y_test, predicted))  \n",
    "print(accuracy_score(Y_test, predicted))\n",
    "# accuracy_score is 0.84\n"
   ]
  },
  {
   "cell_type": "code",
   "execution_count": null,
   "metadata": {},
   "outputs": [],
   "source": []
  },
  {
   "cell_type": "markdown",
   "metadata": {},
   "source": [
    "# MultinomialNB with BOW and TF-IDF\n"
   ]
  },
  {
   "cell_type": "code",
   "execution_count": 118,
   "metadata": {},
   "outputs": [
    {
     "name": "stdout",
     "output_type": "stream",
     "text": [
      "[[ 26  27]\n",
      " [  7 115]]\n",
      "              precision    recall  f1-score   support\n",
      "\n",
      "           0       0.79      0.49      0.60        53\n",
      "           1       0.81      0.94      0.87       122\n",
      "\n",
      "   micro avg       0.81      0.81      0.81       175\n",
      "   macro avg       0.80      0.72      0.74       175\n",
      "weighted avg       0.80      0.81      0.79       175\n",
      "\n",
      "0.8057142857142857\n"
     ]
    }
   ],
   "source": [
    "NB=MultinomialNB()\n",
    "NB.fit(X_train_tfidf, Y_train)\n",
    "predicted = NB.predict(X_test_tfidf)\n",
    "\n",
    "print(confusion_matrix(Y_test, predicted))  \n",
    "print(classification_report(Y_test, predicted))  \n",
    "print(accuracy_score(Y_test, predicted))\n",
    "# accuracy_score is 0.8057142857142857\n",
    "\n",
    "\n"
   ]
  },
  {
   "cell_type": "code",
   "execution_count": null,
   "metadata": {},
   "outputs": [],
   "source": []
  },
  {
   "cell_type": "markdown",
   "metadata": {},
   "source": [
    "# Random ForestClassifier With BOW"
   ]
  },
  {
   "cell_type": "code",
   "execution_count": 119,
   "metadata": {},
   "outputs": [],
   "source": [
    "RF=RandomForestClassifier(n_estimators=1000, random_state=0)\n",
    "RF.fit(countx, Y_train)\n",
    "predicted = RF.predict(counttest)\n"
   ]
  },
  {
   "cell_type": "code",
   "execution_count": 120,
   "metadata": {},
   "outputs": [
    {
     "name": "stdout",
     "output_type": "stream",
     "text": [
      "[[ 30  23]\n",
      " [ 13 109]]\n",
      "              precision    recall  f1-score   support\n",
      "\n",
      "           0       0.70      0.57      0.62        53\n",
      "           1       0.83      0.89      0.86       122\n",
      "\n",
      "   micro avg       0.79      0.79      0.79       175\n",
      "   macro avg       0.76      0.73      0.74       175\n",
      "weighted avg       0.79      0.79      0.79       175\n",
      "\n",
      "0.7942857142857143\n"
     ]
    }
   ],
   "source": [
    "print(confusion_matrix(Y_test, predicted))  \n",
    "print(classification_report(Y_test, predicted))  \n",
    "print(accuracy_score(Y_test, predicted))\n",
    "# accuracy_score is 0.7942857142857143"
   ]
  },
  {
   "cell_type": "code",
   "execution_count": null,
   "metadata": {},
   "outputs": [],
   "source": []
  },
  {
   "cell_type": "markdown",
   "metadata": {},
   "source": [
    "# Random ForestClassifier BOW and TF-IDF \n",
    "\n"
   ]
  },
  {
   "cell_type": "code",
   "execution_count": 121,
   "metadata": {},
   "outputs": [],
   "source": [
    "RF=RandomForestClassifier(n_estimators=1000, random_state=0) \n",
    "RF.fit(X_train_tfidf, Y_train)\n",
    "predicted = RF.predict(X_test_tfidf)\n"
   ]
  },
  {
   "cell_type": "code",
   "execution_count": 122,
   "metadata": {},
   "outputs": [
    {
     "name": "stdout",
     "output_type": "stream",
     "text": [
      "[[ 30  23]\n",
      " [ 18 104]]\n",
      "              precision    recall  f1-score   support\n",
      "\n",
      "           0       0.62      0.57      0.59        53\n",
      "           1       0.82      0.85      0.84       122\n",
      "\n",
      "   micro avg       0.77      0.77      0.77       175\n",
      "   macro avg       0.72      0.71      0.71       175\n",
      "weighted avg       0.76      0.77      0.76       175\n",
      "\n",
      "0.7657142857142857\n"
     ]
    }
   ],
   "source": [
    "print(confusion_matrix(Y_test, predicted))  \n",
    "print(classification_report(Y_test, predicted))  \n",
    "print(accuracy_score(Y_test, predicted))\n",
    "\n",
    "# accuracy_score is 0.7657142857142857"
   ]
  },
  {
   "cell_type": "code",
   "execution_count": null,
   "metadata": {},
   "outputs": [],
   "source": []
  },
  {
   "cell_type": "markdown",
   "metadata": {},
   "source": [
    "# # support vector machine With BOW ##\n",
    "\n"
   ]
  },
  {
   "cell_type": "code",
   "execution_count": 123,
   "metadata": {},
   "outputs": [],
   "source": [
    "\n",
    "svm = SVC(kernel='linear') \n",
    "svm.fit(countx, Y_train)\n",
    "predicted = svm.predict(counttest)\n"
   ]
  },
  {
   "cell_type": "code",
   "execution_count": 124,
   "metadata": {},
   "outputs": [
    {
     "name": "stdout",
     "output_type": "stream",
     "text": [
      "[[ 32  21]\n",
      " [ 20 102]]\n",
      "              precision    recall  f1-score   support\n",
      "\n",
      "           0       0.62      0.60      0.61        53\n",
      "           1       0.83      0.84      0.83       122\n",
      "\n",
      "   micro avg       0.77      0.77      0.77       175\n",
      "   macro avg       0.72      0.72      0.72       175\n",
      "weighted avg       0.76      0.77      0.77       175\n",
      "\n",
      "0.7657142857142857\n"
     ]
    }
   ],
   "source": [
    "print(confusion_matrix(Y_test, predicted))  \n",
    "print(classification_report(Y_test, predicted))\n",
    "print(accuracy_score(Y_test, predicted))\n",
    "\n",
    "# accuracy_score is 0.7657142857142857"
   ]
  },
  {
   "cell_type": "code",
   "execution_count": null,
   "metadata": {},
   "outputs": [],
   "source": []
  },
  {
   "cell_type": "markdown",
   "metadata": {},
   "source": [
    "# support vector machine BOW and TF-IDF ##\n"
   ]
  },
  {
   "cell_type": "code",
   "execution_count": 125,
   "metadata": {},
   "outputs": [],
   "source": [
    "svm = SVC(kernel='linear') \n",
    "svm.fit(X_train_tfidf, Y_train)\n",
    "predicted = svm.predict(X_test_tfidf)\n"
   ]
  },
  {
   "cell_type": "code",
   "execution_count": 126,
   "metadata": {},
   "outputs": [
    {
     "name": "stdout",
     "output_type": "stream",
     "text": [
      "[[ 31  22]\n",
      " [ 12 110]]\n",
      "              precision    recall  f1-score   support\n",
      "\n",
      "           0       0.72      0.58      0.65        53\n",
      "           1       0.83      0.90      0.87       122\n",
      "\n",
      "   micro avg       0.81      0.81      0.81       175\n",
      "   macro avg       0.78      0.74      0.76       175\n",
      "weighted avg       0.80      0.81      0.80       175\n",
      "\n",
      "0.8057142857142857\n"
     ]
    }
   ],
   "source": [
    "print(confusion_matrix(Y_test, predicted))  \n",
    "print(classification_report(Y_test, predicted))\n",
    "print(accuracy_score(Y_test, predicted))\n",
    "\n",
    "# accuracy_score is 0.8057142857142857"
   ]
  },
  {
   "cell_type": "code",
   "execution_count": null,
   "metadata": {},
   "outputs": [],
   "source": []
  },
  {
   "cell_type": "markdown",
   "metadata": {},
   "source": [
    "# GradientBoostingClassifier with BOW"
   ]
  },
  {
   "cell_type": "code",
   "execution_count": 131,
   "metadata": {},
   "outputs": [],
   "source": [
    "GB = GradientBoostingClassifier(n_estimators=1000)\n",
    "GB.fit(countx, Y_train)\n",
    "predicted = GB.predict(counttest)\n"
   ]
  },
  {
   "cell_type": "code",
   "execution_count": 132,
   "metadata": {},
   "outputs": [
    {
     "name": "stdout",
     "output_type": "stream",
     "text": [
      "[[ 29  24]\n",
      " [ 12 110]]\n",
      "              precision    recall  f1-score   support\n",
      "\n",
      "           0       0.71      0.55      0.62        53\n",
      "           1       0.82      0.90      0.86       122\n",
      "\n",
      "   micro avg       0.79      0.79      0.79       175\n",
      "   macro avg       0.76      0.72      0.74       175\n",
      "weighted avg       0.79      0.79      0.79       175\n",
      "\n",
      "0.7942857142857143\n"
     ]
    }
   ],
   "source": [
    "print(confusion_matrix(Y_test, predicted))  \n",
    "print(classification_report(Y_test, predicted))  \n",
    "print(accuracy_score(Y_test, predicted))\n",
    "# accuracy_score is 0.7942857142857143\n",
    "#Accuracy changes when I rebuild the model \n",
    "\n"
   ]
  },
  {
   "cell_type": "code",
   "execution_count": null,
   "metadata": {},
   "outputs": [],
   "source": []
  },
  {
   "cell_type": "markdown",
   "metadata": {},
   "source": [
    "# GradientBoostingClassifierwith BOW and TF-IDF"
   ]
  },
  {
   "cell_type": "code",
   "execution_count": 133,
   "metadata": {},
   "outputs": [],
   "source": [
    "GB = GradientBoostingClassifier(n_estimators=654)\n",
    "GB.fit(X_train_tfidf, Y_train)\n",
    "predicted = GB.predict(X_test_tfidf)\n"
   ]
  },
  {
   "cell_type": "code",
   "execution_count": 134,
   "metadata": {},
   "outputs": [
    {
     "name": "stdout",
     "output_type": "stream",
     "text": [
      "[[ 27  26]\n",
      " [ 17 105]]\n",
      "              precision    recall  f1-score   support\n",
      "\n",
      "           0       0.61      0.51      0.56        53\n",
      "           1       0.80      0.86      0.83       122\n",
      "\n",
      "   micro avg       0.75      0.75      0.75       175\n",
      "   macro avg       0.71      0.69      0.69       175\n",
      "weighted avg       0.74      0.75      0.75       175\n",
      "\n",
      "0.7542857142857143\n"
     ]
    }
   ],
   "source": [
    "print(confusion_matrix(Y_test, predicted))  \n",
    "print(classification_report(Y_test, predicted))  \n",
    "print(accuracy_score(Y_test, predicted))\n",
    "# accuracy_score is 0.7542857142857143\n",
    "#Accuracy changes when I rebuild the model "
   ]
  },
  {
   "cell_type": "code",
   "execution_count": null,
   "metadata": {},
   "outputs": [],
   "source": []
  }
 ],
 "metadata": {
  "kernelspec": {
   "display_name": "Python 3",
   "language": "python",
   "name": "python3"
  },
  "language_info": {
   "codemirror_mode": {
    "name": "ipython",
    "version": 3
   },
   "file_extension": ".py",
   "mimetype": "text/x-python",
   "name": "python",
   "nbconvert_exporter": "python",
   "pygments_lexer": "ipython3",
   "version": "3.6.8"
  }
 },
 "nbformat": 4,
 "nbformat_minor": 2
}
