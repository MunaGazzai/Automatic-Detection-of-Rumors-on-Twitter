{
 "cells": [
  {
   "cell_type": "code",
   "execution_count": 185,
   "metadata": {},
   "outputs": [],
   "source": [
    "from sklearn.model_selection import GridSearchCV, cross_val_score\n",
    "from sklearn.model_selection import RandomizedSearchCV\n",
    "import json\n",
    "import graphviz\n",
    "from sklearn.svm import SVC  \n",
    "from IPython.display import SVG\n",
    "from mlxtend.evaluate import confusion_matrix \n",
    "from mlxtend.plotting import plot_confusion_matrix\n",
    "from multiscorer import MultiScorer\n",
    "from sklearn.utils import resample\n",
    "from mlxtend.plotting import plot_confusion_matrix\n",
    "from matplotlib.legend_handler import HandlerLine2D\n",
    "from sklearn.tree import DecisionTreeClassifier, export_graphviz\n",
    "from sklearn.model_selection import cross_validate,KFold,learning_curve\n",
    "from sklearn.model_selection import StratifiedKFold\n",
    "from sklearn.tree import DecisionTreeClassifier\n",
    "import pandas as pd\n",
    "from sklearn.metrics import roc_curve, auc\n",
    "from sklearn import tree\n",
    "from sklearn.ensemble import RandomForestRegressor\n",
    "from sklearn.linear_model import LogisticRegression\n",
    "from sklearn.pipeline import Pipeline\n",
    "from sklearn.feature_selection import SelectKBest,chi2\n",
    "from sklearn.feature_extraction.text import TfidfVectorizer\n",
    "from sklearn.feature_extraction.text import CountVectorizer\n",
    "import matplotlib.pyplot as plt\n",
    "%matplotlib inline\n",
    "import seaborn as sns\n",
    "from sklearn.pipeline import Pipeline,make_pipeline\n",
    "from sklearn.utils import shuffle\n",
    "from sklearn.model_selection import GridSearchCV, cross_val_score\n",
    "import nltk\n",
    "from nltk.corpus import stopwords\n",
    "import re\n",
    "from nltk.stem.porter import *\n",
    "import collections\n",
    "import nltk\n",
    "from nltk.corpus import stopwords\n",
    "import re\n",
    "import numpy as np\n",
    "from nltk.stem.porter import *\n",
    "from nltk.stem.snowball import SnowballStemmer\n",
    "import collections\n",
    "from sklearn.pipeline import Pipeline\n",
    "from sklearn.model_selection import train_test_split\n",
    "from sklearn import model_selection\n",
    "from sklearn.feature_extraction.text import CountVectorizer\n",
    "from sklearn.feature_extraction.text import TfidfTransformer\n",
    "from sklearn.neighbors import KNeighborsClassifier\n",
    "from sklearn.ensemble import RandomForestClassifier\n",
    "from sklearn.metrics import confusion_matrix,precision_score,recall_score\n",
    "from sklearn.svm import SVC  \n",
    "import matplotlib.pyplot as plt\n",
    "%matplotlib inline \n",
    "from sklearn.metrics import classification_report, confusion_matrix, accuracy_score,make_scorer,f1_score\n",
    "from sklearn.naive_bayes import MultinomialNB\n",
    "from sklearn.ensemble import GradientBoostingClassifier"
   ]
  },
  {
   "cell_type": "code",
   "execution_count": 4,
   "metadata": {},
   "outputs": [],
   "source": [
    "#Load Dataset for tweet and tag \n",
    "def Load_data(path):\n",
    "    with open(path) as json_data:\n",
    "        data=json.load(json_data)\n",
    "    new_data = []\n",
    "    for item in data:\n",
    "        new_entry = {}\n",
    "        for k,v in item.items():\n",
    "        # a dictionary will return True for isinstance(v, dict)\n",
    "            if not isinstance(v, dict):\n",
    "            # v is not a dictionary here\n",
    "                new_entry[k] = v\n",
    "            else:\n",
    "            # v is a dictionary, so we flatten it\n",
    "                 for a,b in v.items():\n",
    "                     new_entry[a] = b\n",
    "        new_data.append(new_entry)\n",
    "    return pd.DataFrame(new_data)"
   ]
  },
  {
   "cell_type": "code",
   "execution_count": 7,
   "metadata": {
    "collapsed": true
   },
   "outputs": [
    {
     "ename": "FileNotFoundError",
     "evalue": "[Errno 2] No such file or directory: 'Users/Mayona/Desktop/Jupyter/Have_balanced_dataset.json'",
     "output_type": "error",
     "traceback": [
      "\u001b[0;31m---------------------------------------------------------------------------\u001b[0m",
      "\u001b[0;31mFileNotFoundError\u001b[0m                         Traceback (most recent call last)",
      "\u001b[0;32m<ipython-input-7-5cdfb7211d97>\u001b[0m in \u001b[0;36m<module>\u001b[0;34m\u001b[0m\n\u001b[1;32m      1\u001b[0m \u001b[0mpath\u001b[0m \u001b[0;34m=\u001b[0m\u001b[0;34m'Users/Mayona/Desktop/Jupyter/Have_balanced_dataset.json'\u001b[0m\u001b[0;34m\u001b[0m\u001b[0;34m\u001b[0m\u001b[0m\n\u001b[0;32m----> 2\u001b[0;31m \u001b[0mtweet\u001b[0m\u001b[0;34m=\u001b[0m\u001b[0mLoad_data\u001b[0m\u001b[0;34m(\u001b[0m\u001b[0mpath\u001b[0m\u001b[0;34m)\u001b[0m\u001b[0;34m\u001b[0m\u001b[0;34m\u001b[0m\u001b[0m\n\u001b[0m",
      "\u001b[0;32m<ipython-input-4-13624396fed5>\u001b[0m in \u001b[0;36mLoad_data\u001b[0;34m(path)\u001b[0m\n\u001b[1;32m      1\u001b[0m \u001b[0;31m#Load Dataset for tweet and tag\u001b[0m\u001b[0;34m\u001b[0m\u001b[0;34m\u001b[0m\u001b[0;34m\u001b[0m\u001b[0m\n\u001b[1;32m      2\u001b[0m \u001b[0;32mdef\u001b[0m \u001b[0mLoad_data\u001b[0m\u001b[0;34m(\u001b[0m\u001b[0mpath\u001b[0m\u001b[0;34m)\u001b[0m\u001b[0;34m:\u001b[0m\u001b[0;34m\u001b[0m\u001b[0;34m\u001b[0m\u001b[0m\n\u001b[0;32m----> 3\u001b[0;31m     \u001b[0;32mwith\u001b[0m \u001b[0mopen\u001b[0m\u001b[0;34m(\u001b[0m\u001b[0mpath\u001b[0m\u001b[0;34m)\u001b[0m \u001b[0;32mas\u001b[0m \u001b[0mjson_data\u001b[0m\u001b[0;34m:\u001b[0m\u001b[0;34m\u001b[0m\u001b[0;34m\u001b[0m\u001b[0m\n\u001b[0m\u001b[1;32m      4\u001b[0m         \u001b[0mdata\u001b[0m\u001b[0;34m=\u001b[0m\u001b[0mjson\u001b[0m\u001b[0;34m.\u001b[0m\u001b[0mload\u001b[0m\u001b[0;34m(\u001b[0m\u001b[0mjson_data\u001b[0m\u001b[0;34m)\u001b[0m\u001b[0;34m\u001b[0m\u001b[0;34m\u001b[0m\u001b[0m\n\u001b[1;32m      5\u001b[0m     \u001b[0mnew_data\u001b[0m \u001b[0;34m=\u001b[0m \u001b[0;34m[\u001b[0m\u001b[0;34m]\u001b[0m\u001b[0;34m\u001b[0m\u001b[0;34m\u001b[0m\u001b[0m\n",
      "\u001b[0;31mFileNotFoundError\u001b[0m: [Errno 2] No such file or directory: 'Users/Mayona/Desktop/Jupyter/Have_balanced_dataset.json'"
     ]
    }
   ],
   "source": [
    "path ='Users/Mayona/Desktop/Jupyter/Have_balanced_dataset.json'\n",
    "tweet=Load_data(path)"
   ]
  },
  {
   "cell_type": "code",
   "execution_count": 60,
   "metadata": {
    "scrolled": true
   },
   "outputs": [
    {
     "name": "stdout",
     "output_type": "stream",
     "text": [
      "<class 'pandas.core.frame.DataFrame'>\n",
      "RangeIndex: 527 entries, 0 to 526\n",
      "Data columns (total 10 columns):\n",
      "favorite_count      527 non-null int64\n",
      "follower_count      527 non-null int64\n",
      "name                527 non-null object\n",
      "pk                  527 non-null int64\n",
      "profile_image       527 non-null object\n",
      "retweet_count       527 non-null int64\n",
      "tag                 527 non-null object\n",
      "text                527 non-null object\n",
      "tweet_twitter_id    527 non-null object\n",
      "tweeted_on          527 non-null object\n",
      "dtypes: int64(4), object(6)\n",
      "memory usage: 41.2+ KB\n"
     ]
    }
   ],
   "source": [
    "tweet.info()"
   ]
  },
  {
   "cell_type": "code",
   "execution_count": 61,
   "metadata": {
    "scrolled": true
   },
   "outputs": [
    {
     "data": {
      "image/png": "[encoded data removed]",
      "text/plain": [
       "<Figure size 432x288 with 1 Axes>"
      ]
     },
     "metadata": {
      "needs_background": "light"
     },
     "output_type": "display_data"
    }
   ],
   "source": [
    "sns.countplot(tweet['tag'],label=\"Count\")\n",
    "plt.show()"
   ]
  },
  {
   "cell_type": "code",
   "execution_count": 62,
   "metadata": {
    "scrolled": true
   },
   "outputs": [
    {
     "data": {
      "text/plain": [
       "real    354\n",
       "fake    173\n",
       "Name: tag, dtype: int64"
      ]
     },
     "execution_count": 62,
     "metadata": {},
     "output_type": "execute_result"
    }
   ],
   "source": [
    "tweet['tag'].value_counts()"
   ]
  },
  {
   "cell_type": "code",
   "execution_count": 70,
   "metadata": {
    "scrolled": false
   },
   "outputs": [
    {
     "data": {
      "text/html": [
       "<div>\n",
       "<style scoped>\n",
       "    .dataframe tbody tr th:only-of-type {\n",
       "        vertical-align: middle;\n",
       "    }\n",
       "\n",
       "    .dataframe tbody tr th {\n",
       "        vertical-align: top;\n",
       "    }\n",
       "\n",
       "    .dataframe thead th {\n",
       "        text-align: right;\n",
       "    }\n",
       "</style>\n",
       "<table border=\"1\" class=\"dataframe\">\n",
       "  <thead>\n",
       "    <tr style=\"text-align: right;\">\n",
       "      <th></th>\n",
       "      <th>text</th>\n",
       "      <th>tag</th>\n",
       "    </tr>\n",
       "  </thead>\n",
       "  <tbody>\n",
       "    <tr>\n",
       "      <th>464</th>\n",
       "      <td>Remember this name: Loujain (pronounced Loo-JA...</td>\n",
       "      <td>1</td>\n",
       "    </tr>\n",
       "    <tr>\n",
       "      <th>229</th>\n",
       "      <td>Manchester United executives have met with off...</td>\n",
       "      <td>1</td>\n",
       "    </tr>\n",
       "    <tr>\n",
       "      <th>304</th>\n",
       "      <td>#Netflix criticized for pulling satire episode...</td>\n",
       "      <td>0</td>\n",
       "    </tr>\n",
       "    <tr>\n",
       "      <th>277</th>\n",
       "      <td>This is what I call transparency, the Kingdom ...</td>\n",
       "      <td>0</td>\n",
       "    </tr>\n",
       "    <tr>\n",
       "      <th>278</th>\n",
       "      <td>Sanad Mohammed bin Salman will launch the \"San...</td>\n",
       "      <td>0</td>\n",
       "    </tr>\n",
       "  </tbody>\n",
       "</table>\n",
       "</div>"
      ],
      "text/plain": [
       "                                                  text  tag\n",
       "464  Remember this name: Loujain (pronounced Loo-JA...    1\n",
       "229  Manchester United executives have met with off...    1\n",
       "304  #Netflix criticized for pulling satire episode...    0\n",
       "277  This is what I call transparency, the Kingdom ...    0\n",
       "278  Sanad Mohammed bin Salman will launch the \"San...    0"
      ]
     },
     "execution_count": 70,
     "metadata": {},
     "output_type": "execute_result"
    }
   ],
   "source": [
    "tweet = shuffle(tweet)\n",
    "tweet.head()"
   ]
  },
  {
   "cell_type": "code",
   "execution_count": 69,
   "metadata": {
    "collapsed": true
   },
   "outputs": [
    {
     "ename": "KeyError",
     "evalue": "\"['favorite_count'] not found in axis\"",
     "output_type": "error",
     "traceback": [
      "\u001b[0;31m---------------------------------------------------------------------------\u001b[0m",
      "\u001b[0;31mKeyError\u001b[0m                                  Traceback (most recent call last)",
      "\u001b[0;32m<ipython-input-69-8d2805d93c7c>\u001b[0m in \u001b[0;36m<module>\u001b[0;34m\u001b[0m\n\u001b[0;32m----> 1\u001b[0;31m \u001b[0mtweet\u001b[0m\u001b[0;34m.\u001b[0m\u001b[0mdrop\u001b[0m\u001b[0;34m(\u001b[0m\u001b[0;34m\"favorite_count\"\u001b[0m\u001b[0;34m,\u001b[0m \u001b[0maxis\u001b[0m\u001b[0;34m=\u001b[0m\u001b[0;36m1\u001b[0m\u001b[0;34m,\u001b[0m \u001b[0minplace\u001b[0m\u001b[0;34m=\u001b[0m\u001b[0;32mTrue\u001b[0m\u001b[0;34m)\u001b[0m\u001b[0;34m\u001b[0m\u001b[0;34m\u001b[0m\u001b[0m\n\u001b[0m\u001b[1;32m      2\u001b[0m \u001b[0mtweet\u001b[0m\u001b[0;34m.\u001b[0m\u001b[0mdrop\u001b[0m\u001b[0;34m(\u001b[0m\u001b[0;34m\"follower_count\"\u001b[0m\u001b[0;34m,\u001b[0m \u001b[0maxis\u001b[0m\u001b[0;34m=\u001b[0m\u001b[0;36m1\u001b[0m\u001b[0;34m,\u001b[0m \u001b[0minplace\u001b[0m\u001b[0;34m=\u001b[0m\u001b[0;32mTrue\u001b[0m\u001b[0;34m)\u001b[0m\u001b[0;34m\u001b[0m\u001b[0;34m\u001b[0m\u001b[0m\n\u001b[1;32m      3\u001b[0m \u001b[0mtweet\u001b[0m\u001b[0;34m.\u001b[0m\u001b[0mdrop\u001b[0m\u001b[0;34m(\u001b[0m\u001b[0;34m\"name\"\u001b[0m\u001b[0;34m,\u001b[0m \u001b[0maxis\u001b[0m\u001b[0;34m=\u001b[0m\u001b[0;36m1\u001b[0m\u001b[0;34m,\u001b[0m \u001b[0minplace\u001b[0m\u001b[0;34m=\u001b[0m\u001b[0;32mTrue\u001b[0m\u001b[0;34m)\u001b[0m\u001b[0;34m\u001b[0m\u001b[0;34m\u001b[0m\u001b[0m\n\u001b[1;32m      4\u001b[0m \u001b[0mtweet\u001b[0m\u001b[0;34m.\u001b[0m\u001b[0mdrop\u001b[0m\u001b[0;34m(\u001b[0m\u001b[0;34m\"pk\"\u001b[0m\u001b[0;34m,\u001b[0m \u001b[0maxis\u001b[0m\u001b[0;34m=\u001b[0m\u001b[0;36m1\u001b[0m\u001b[0;34m,\u001b[0m \u001b[0minplace\u001b[0m\u001b[0;34m=\u001b[0m\u001b[0;32mTrue\u001b[0m\u001b[0;34m)\u001b[0m\u001b[0;34m\u001b[0m\u001b[0;34m\u001b[0m\u001b[0m\n\u001b[1;32m      5\u001b[0m \u001b[0mtweet\u001b[0m\u001b[0;34m.\u001b[0m\u001b[0mdrop\u001b[0m\u001b[0;34m(\u001b[0m\u001b[0;34m\"profile_image\"\u001b[0m\u001b[0;34m,\u001b[0m \u001b[0maxis\u001b[0m\u001b[0;34m=\u001b[0m\u001b[0;36m1\u001b[0m\u001b[0;34m,\u001b[0m \u001b[0minplace\u001b[0m\u001b[0;34m=\u001b[0m\u001b[0;32mTrue\u001b[0m\u001b[0;34m)\u001b[0m\u001b[0;34m\u001b[0m\u001b[0;34m\u001b[0m\u001b[0m\n",
      "\u001b[0;32m/anaconda3/envs/TestYoutube/lib/python3.6/site-packages/pandas/core/frame.py\u001b[0m in \u001b[0;36mdrop\u001b[0;34m(self, labels, axis, index, columns, level, inplace, errors)\u001b[0m\n\u001b[1;32m   3938\u001b[0m                                            \u001b[0mindex\u001b[0m\u001b[0;34m=\u001b[0m\u001b[0mindex\u001b[0m\u001b[0;34m,\u001b[0m \u001b[0mcolumns\u001b[0m\u001b[0;34m=\u001b[0m\u001b[0mcolumns\u001b[0m\u001b[0;34m,\u001b[0m\u001b[0;34m\u001b[0m\u001b[0;34m\u001b[0m\u001b[0m\n\u001b[1;32m   3939\u001b[0m                                            \u001b[0mlevel\u001b[0m\u001b[0;34m=\u001b[0m\u001b[0mlevel\u001b[0m\u001b[0;34m,\u001b[0m \u001b[0minplace\u001b[0m\u001b[0;34m=\u001b[0m\u001b[0minplace\u001b[0m\u001b[0;34m,\u001b[0m\u001b[0;34m\u001b[0m\u001b[0;34m\u001b[0m\u001b[0m\n\u001b[0;32m-> 3940\u001b[0;31m                                            errors=errors)\n\u001b[0m\u001b[1;32m   3941\u001b[0m \u001b[0;34m\u001b[0m\u001b[0m\n\u001b[1;32m   3942\u001b[0m     @rewrite_axis_style_signature('mapper', [('copy', True),\n",
      "\u001b[0;32m/anaconda3/envs/TestYoutube/lib/python3.6/site-packages/pandas/core/generic.py\u001b[0m in \u001b[0;36mdrop\u001b[0;34m(self, labels, axis, index, columns, level, inplace, errors)\u001b[0m\n\u001b[1;32m   3778\u001b[0m         \u001b[0;32mfor\u001b[0m \u001b[0maxis\u001b[0m\u001b[0;34m,\u001b[0m \u001b[0mlabels\u001b[0m \u001b[0;32min\u001b[0m \u001b[0maxes\u001b[0m\u001b[0;34m.\u001b[0m\u001b[0mitems\u001b[0m\u001b[0;34m(\u001b[0m\u001b[0;34m)\u001b[0m\u001b[0;34m:\u001b[0m\u001b[0;34m\u001b[0m\u001b[0;34m\u001b[0m\u001b[0m\n\u001b[1;32m   3779\u001b[0m             \u001b[0;32mif\u001b[0m \u001b[0mlabels\u001b[0m \u001b[0;32mis\u001b[0m \u001b[0;32mnot\u001b[0m \u001b[0;32mNone\u001b[0m\u001b[0;34m:\u001b[0m\u001b[0;34m\u001b[0m\u001b[0;34m\u001b[0m\u001b[0m\n\u001b[0;32m-> 3780\u001b[0;31m                 \u001b[0mobj\u001b[0m \u001b[0;34m=\u001b[0m \u001b[0mobj\u001b[0m\u001b[0;34m.\u001b[0m\u001b[0m_drop_axis\u001b[0m\u001b[0;34m(\u001b[0m\u001b[0mlabels\u001b[0m\u001b[0;34m,\u001b[0m \u001b[0maxis\u001b[0m\u001b[0;34m,\u001b[0m \u001b[0mlevel\u001b[0m\u001b[0;34m=\u001b[0m\u001b[0mlevel\u001b[0m\u001b[0;34m,\u001b[0m \u001b[0merrors\u001b[0m\u001b[0;34m=\u001b[0m\u001b[0merrors\u001b[0m\u001b[0;34m)\u001b[0m\u001b[0;34m\u001b[0m\u001b[0;34m\u001b[0m\u001b[0m\n\u001b[0m\u001b[1;32m   3781\u001b[0m \u001b[0;34m\u001b[0m\u001b[0m\n\u001b[1;32m   3782\u001b[0m         \u001b[0;32mif\u001b[0m \u001b[0minplace\u001b[0m\u001b[0;34m:\u001b[0m\u001b[0;34m\u001b[0m\u001b[0;34m\u001b[0m\u001b[0m\n",
      "\u001b[0;32m/anaconda3/envs/TestYoutube/lib/python3.6/site-packages/pandas/core/generic.py\u001b[0m in \u001b[0;36m_drop_axis\u001b[0;34m(self, labels, axis, level, errors)\u001b[0m\n\u001b[1;32m   3810\u001b[0m                 \u001b[0mnew_axis\u001b[0m \u001b[0;34m=\u001b[0m \u001b[0maxis\u001b[0m\u001b[0;34m.\u001b[0m\u001b[0mdrop\u001b[0m\u001b[0;34m(\u001b[0m\u001b[0mlabels\u001b[0m\u001b[0;34m,\u001b[0m \u001b[0mlevel\u001b[0m\u001b[0;34m=\u001b[0m\u001b[0mlevel\u001b[0m\u001b[0;34m,\u001b[0m \u001b[0merrors\u001b[0m\u001b[0;34m=\u001b[0m\u001b[0merrors\u001b[0m\u001b[0;34m)\u001b[0m\u001b[0;34m\u001b[0m\u001b[0;34m\u001b[0m\u001b[0m\n\u001b[1;32m   3811\u001b[0m             \u001b[0;32melse\u001b[0m\u001b[0;34m:\u001b[0m\u001b[0;34m\u001b[0m\u001b[0;34m\u001b[0m\u001b[0m\n\u001b[0;32m-> 3812\u001b[0;31m                 \u001b[0mnew_axis\u001b[0m \u001b[0;34m=\u001b[0m \u001b[0maxis\u001b[0m\u001b[0;34m.\u001b[0m\u001b[0mdrop\u001b[0m\u001b[0;34m(\u001b[0m\u001b[0mlabels\u001b[0m\u001b[0;34m,\u001b[0m \u001b[0merrors\u001b[0m\u001b[0;34m=\u001b[0m\u001b[0merrors\u001b[0m\u001b[0;34m)\u001b[0m\u001b[0;34m\u001b[0m\u001b[0;34m\u001b[0m\u001b[0m\n\u001b[0m\u001b[1;32m   3813\u001b[0m             \u001b[0mresult\u001b[0m \u001b[0;34m=\u001b[0m \u001b[0mself\u001b[0m\u001b[0;34m.\u001b[0m\u001b[0mreindex\u001b[0m\u001b[0;34m(\u001b[0m\u001b[0;34m**\u001b[0m\u001b[0;34m{\u001b[0m\u001b[0maxis_name\u001b[0m\u001b[0;34m:\u001b[0m \u001b[0mnew_axis\u001b[0m\u001b[0;34m}\u001b[0m\u001b[0;34m)\u001b[0m\u001b[0;34m\u001b[0m\u001b[0;34m\u001b[0m\u001b[0m\n\u001b[1;32m   3814\u001b[0m \u001b[0;34m\u001b[0m\u001b[0m\n",
      "\u001b[0;32m/anaconda3/envs/TestYoutube/lib/python3.6/site-packages/pandas/core/indexes/base.py\u001b[0m in \u001b[0;36mdrop\u001b[0;34m(self, labels, errors)\u001b[0m\n\u001b[1;32m   4962\u001b[0m             \u001b[0;32mif\u001b[0m \u001b[0merrors\u001b[0m \u001b[0;34m!=\u001b[0m \u001b[0;34m'ignore'\u001b[0m\u001b[0;34m:\u001b[0m\u001b[0;34m\u001b[0m\u001b[0;34m\u001b[0m\u001b[0m\n\u001b[1;32m   4963\u001b[0m                 raise KeyError(\n\u001b[0;32m-> 4964\u001b[0;31m                     '{} not found in axis'.format(labels[mask]))\n\u001b[0m\u001b[1;32m   4965\u001b[0m             \u001b[0mindexer\u001b[0m \u001b[0;34m=\u001b[0m \u001b[0mindexer\u001b[0m\u001b[0;34m[\u001b[0m\u001b[0;34m~\u001b[0m\u001b[0mmask\u001b[0m\u001b[0;34m]\u001b[0m\u001b[0;34m\u001b[0m\u001b[0;34m\u001b[0m\u001b[0m\n\u001b[1;32m   4966\u001b[0m         \u001b[0;32mreturn\u001b[0m \u001b[0mself\u001b[0m\u001b[0;34m.\u001b[0m\u001b[0mdelete\u001b[0m\u001b[0;34m(\u001b[0m\u001b[0mindexer\u001b[0m\u001b[0;34m)\u001b[0m\u001b[0;34m\u001b[0m\u001b[0;34m\u001b[0m\u001b[0m\n",
      "\u001b[0;31mKeyError\u001b[0m: \"['favorite_count'] not found in axis\""
     ]
    }
   ],
   "source": [
    "tweet.drop(\"favorite_count\", axis=1, inplace=True) \n",
    "tweet.drop(\"follower_count\", axis=1, inplace=True)\n",
    "tweet.drop(\"name\", axis=1, inplace=True)\n",
    "tweet.drop(\"pk\", axis=1, inplace=True)\n",
    "tweet.drop(\"profile_image\", axis=1, inplace=True)\n",
    "tweet.drop(\"retweet_count\", axis=1, inplace=True)\n",
    "tweet.drop(\"tweet_twitter_id\", axis=1, inplace=True)\n",
    "tweet.drop(\"tweeted_on\", axis=1, inplace=True)"
   ]
  },
  {
   "cell_type": "code",
   "execution_count": 67,
   "metadata": {},
   "outputs": [],
   "source": [
    "tweet=pd.get_dummies(tweet, columns=[\"tag\"],prefix=[\"tweet\"])\n",
    "tweet.drop(\"tweet_real\", axis=1, inplace=True)\n",
    "tweet.rename(columns={'tweet_fake':'tag'},inplace=True)"
   ]
  },
  {
   "cell_type": "markdown",
   "metadata": {},
   "source": [
    "# Preprocessing"
   ]
  },
  {
   "cell_type": "markdown",
   "metadata": {},
   "source": [
    "### first try to use strong clean process to text then apply snowball Stremmer"
   ]
  },
  {
   "cell_type": "markdown",
   "metadata": {},
   "source": [
    "#### strong clean process "
   ]
  },
  {
   "cell_type": "code",
   "execution_count": 71,
   "metadata": {},
   "outputs": [],
   "source": [
    "def processTweet1(tweet):\n",
    "    # Remove HTML special entities (e.g. &)\n",
    "    tweet = re.sub(r'\\&\\w*;', '', tweet)\n",
    "    # To lowercase\n",
    "    tweet = tweet.lower()\n",
    "    # Remove hyperlinks\n",
    "    tweet = re.sub(r'https?:\\/\\/.*\\/\\w*', '', tweet)\n",
    "    # Remove hashtags\n",
    "    tweet = re.sub(r'#\\w*', '', tweet)\n",
    "    # Remove words with 2 or fewer letters\n",
    "    tweet = re.sub(r'\\b\\w{1,2}\\b', '', tweet)\n",
    "    # Remove whitespace (including new line characters)\n",
    "    tweet = re.sub(r'\\s\\s+', ' ', tweet)\n",
    "    # Remove single space remaining at the front of the tweet.\n",
    "    tweet = tweet.lstrip(' ') \n",
    "    tweet=re.sub(\"[^a-zA-Z]\",\" \",tweet)\n",
    "    return tweet"
   ]
  },
  {
   "cell_type": "code",
   "execution_count": 72,
   "metadata": {
    "scrolled": true
   },
   "outputs": [
    {
     "name": "stderr",
     "output_type": "stream",
     "text": [
      "/anaconda3/envs/TestYoutube/lib/python3.6/site-packages/ipykernel_launcher.py:1: SettingWithCopyWarning: \n",
      "A value is trying to be set on a copy of a slice from a DataFrame.\n",
      "Try using .loc[row_indexer,col_indexer] = value instead\n",
      "\n",
      "See the caveats in the documentation: http://pandas.pydata.org/pandas-docs/stable/indexing.html#indexing-view-versus-copy\n",
      "  \"\"\"Entry point for launching an IPython kernel.\n"
     ]
    },
    {
     "data": {
      "text/html": [
       "<div>\n",
       "<style scoped>\n",
       "    .dataframe tbody tr th:only-of-type {\n",
       "        vertical-align: middle;\n",
       "    }\n",
       "\n",
       "    .dataframe tbody tr th {\n",
       "        vertical-align: top;\n",
       "    }\n",
       "\n",
       "    .dataframe thead th {\n",
       "        text-align: right;\n",
       "    }\n",
       "</style>\n",
       "<table border=\"1\" class=\"dataframe\">\n",
       "  <thead>\n",
       "    <tr style=\"text-align: right;\">\n",
       "      <th></th>\n",
       "      <th>text</th>\n",
       "      <th>tag</th>\n",
       "      <th>strong_pro1</th>\n",
       "    </tr>\n",
       "  </thead>\n",
       "  <tbody>\n",
       "    <tr>\n",
       "      <th>464</th>\n",
       "      <td>Remember this name: Loujain (pronounced Loo-JA...</td>\n",
       "      <td>1</td>\n",
       "      <td>remember this name  loujain  pronounced loo ja...</td>\n",
       "    </tr>\n",
       "    <tr>\n",
       "      <th>229</th>\n",
       "      <td>Manchester United executives have met with off...</td>\n",
       "      <td>1</td>\n",
       "      <td>manchester united executives have met with off...</td>\n",
       "    </tr>\n",
       "    <tr>\n",
       "      <th>304</th>\n",
       "      <td>#Netflix criticized for pulling satire episode...</td>\n",
       "      <td>0</td>\n",
       "      <td>criticized for pulling satire episode episode ...</td>\n",
       "    </tr>\n",
       "    <tr>\n",
       "      <th>277</th>\n",
       "      <td>This is what I call transparency, the Kingdom ...</td>\n",
       "      <td>0</td>\n",
       "      <td>this what call transparency  the kingdom has n...</td>\n",
       "    </tr>\n",
       "    <tr>\n",
       "      <th>278</th>\n",
       "      <td>Sanad Mohammed bin Salman will launch the \"San...</td>\n",
       "      <td>0</td>\n",
       "      <td>sanad mohammed bin salman will launch the  san...</td>\n",
       "    </tr>\n",
       "    <tr>\n",
       "      <th>231</th>\n",
       "      <td>#Saudi teenager who fled family and sought asy...</td>\n",
       "      <td>0</td>\n",
       "      <td>teenager who fled family and sought asylum whe...</td>\n",
       "    </tr>\n",
       "    <tr>\n",
       "      <th>491</th>\n",
       "      <td>We honor murdered journalist Jamal Khashoggi b...</td>\n",
       "      <td>1</td>\n",
       "      <td>honor murdered journalist jamal khashoggi keep...</td>\n",
       "    </tr>\n",
       "    <tr>\n",
       "      <th>298</th>\n",
       "      <td>#SAVIT in #Saudi #Arabia deployed #Microsoft #...</td>\n",
       "      <td>0</td>\n",
       "      <td>deployed online  along with for gaca   general...</td>\n",
       "    </tr>\n",
       "    <tr>\n",
       "      <th>75</th>\n",
       "      <td>A #Saudi #Citizen Aged 100 Has Inspired #Peopl...</td>\n",
       "      <td>0</td>\n",
       "      <td>aged     has inspired after returning complete...</td>\n",
       "    </tr>\n",
       "    <tr>\n",
       "      <th>155</th>\n",
       "      <td>🇬🇧| The clashes between the Saudi security for...</td>\n",
       "      <td>1</td>\n",
       "      <td>the clashes between the saudi security for...</td>\n",
       "    </tr>\n",
       "    <tr>\n",
       "      <th>274</th>\n",
       "      <td>#State-run #Saudi #Aramco has set its #January...</td>\n",
       "      <td>0</td>\n",
       "      <td>run has set its contract price for propane   ...</td>\n",
       "    </tr>\n",
       "    <tr>\n",
       "      <th>499</th>\n",
       "      <td>WATCH: #Saudi man drew attention on social med...</td>\n",
       "      <td>0</td>\n",
       "      <td>watch  man drew attention social media playing...</td>\n",
       "    </tr>\n",
       "    <tr>\n",
       "      <th>209</th>\n",
       "      <td>Was glued to my desk/PC for most part of the a...</td>\n",
       "      <td>1</td>\n",
       "      <td>was glued desk  for most part the arvo   work ...</td>\n",
       "    </tr>\n",
       "    <tr>\n",
       "      <th>312</th>\n",
       "      <td>#Saudi Shoura to debate two key laws — To exam...</td>\n",
       "      <td>0</td>\n",
       "      <td>shoura debate two key laws   examine organ don...</td>\n",
       "    </tr>\n",
       "    <tr>\n",
       "      <th>148</th>\n",
       "      <td>\"Guardianship gives men ultimate authority ove...</td>\n",
       "      <td>1</td>\n",
       "      <td>guardianship gives men ultimate authority ove...</td>\n",
       "    </tr>\n",
       "    <tr>\n",
       "      <th>419</th>\n",
       "      <td>Intsar  died of leukemia,she got a visa to tra...</td>\n",
       "      <td>1</td>\n",
       "      <td>intsar died leukemia she got visa travel but t...</td>\n",
       "    </tr>\n",
       "    <tr>\n",
       "      <th>465</th>\n",
       "      <td>Loujain al-Hathloul:  She Wanted to Drive, So ...</td>\n",
       "      <td>1</td>\n",
       "      <td>loujain  hathloul  she wanted drive    ruler i...</td>\n",
       "    </tr>\n",
       "    <tr>\n",
       "      <th>482</th>\n",
       "      <td>Crown Prince Mohammed bin Salman receives call...</td>\n",
       "      <td>1</td>\n",
       "      <td>crown prince mohammed bin salman receives call...</td>\n",
       "    </tr>\n",
       "    <tr>\n",
       "      <th>289</th>\n",
       "      <td>Another stunner from @IgnatiusPost. Saudi Roya...</td>\n",
       "      <td>1</td>\n",
       "      <td>another stunner from  ignatiuspost  saudi roya...</td>\n",
       "    </tr>\n",
       "    <tr>\n",
       "      <th>32</th>\n",
       "      <td>#Saudi adventurer Badr Al-Shibani has set off ...</td>\n",
       "      <td>0</td>\n",
       "      <td>adventurer badr  shibani has set off climb vin...</td>\n",
       "    </tr>\n",
       "  </tbody>\n",
       "</table>\n",
       "</div>"
      ],
      "text/plain": [
       "                                                  text  tag  \\\n",
       "464  Remember this name: Loujain (pronounced Loo-JA...    1   \n",
       "229  Manchester United executives have met with off...    1   \n",
       "304  #Netflix criticized for pulling satire episode...    0   \n",
       "277  This is what I call transparency, the Kingdom ...    0   \n",
       "278  Sanad Mohammed bin Salman will launch the \"San...    0   \n",
       "231  #Saudi teenager who fled family and sought asy...    0   \n",
       "491  We honor murdered journalist Jamal Khashoggi b...    1   \n",
       "298  #SAVIT in #Saudi #Arabia deployed #Microsoft #...    0   \n",
       "75   A #Saudi #Citizen Aged 100 Has Inspired #Peopl...    0   \n",
       "155  🇬🇧| The clashes between the Saudi security for...    1   \n",
       "274  #State-run #Saudi #Aramco has set its #January...    0   \n",
       "499  WATCH: #Saudi man drew attention on social med...    0   \n",
       "209  Was glued to my desk/PC for most part of the a...    1   \n",
       "312  #Saudi Shoura to debate two key laws — To exam...    0   \n",
       "148  \"Guardianship gives men ultimate authority ove...    1   \n",
       "419  Intsar  died of leukemia,she got a visa to tra...    1   \n",
       "465  Loujain al-Hathloul:  She Wanted to Drive, So ...    1   \n",
       "482  Crown Prince Mohammed bin Salman receives call...    1   \n",
       "289  Another stunner from @IgnatiusPost. Saudi Roya...    1   \n",
       "32   #Saudi adventurer Badr Al-Shibani has set off ...    0   \n",
       "\n",
       "                                           strong_pro1  \n",
       "464  remember this name  loujain  pronounced loo ja...  \n",
       "229  manchester united executives have met with off...  \n",
       "304  criticized for pulling satire episode episode ...  \n",
       "277  this what call transparency  the kingdom has n...  \n",
       "278  sanad mohammed bin salman will launch the  san...  \n",
       "231  teenager who fled family and sought asylum whe...  \n",
       "491  honor murdered journalist jamal khashoggi keep...  \n",
       "298  deployed online  along with for gaca   general...  \n",
       "75   aged     has inspired after returning complete...  \n",
       "155      the clashes between the saudi security for...  \n",
       "274   run has set its contract price for propane   ...  \n",
       "499  watch  man drew attention social media playing...  \n",
       "209  was glued desk  for most part the arvo   work ...  \n",
       "312  shoura debate two key laws   examine organ don...  \n",
       "148   guardianship gives men ultimate authority ove...  \n",
       "419  intsar died leukemia she got visa travel but t...  \n",
       "465  loujain  hathloul  she wanted drive    ruler i...  \n",
       "482  crown prince mohammed bin salman receives call...  \n",
       "289  another stunner from  ignatiuspost  saudi roya...  \n",
       "32   adventurer badr  shibani has set off climb vin...  "
      ]
     },
     "execution_count": 72,
     "metadata": {},
     "output_type": "execute_result"
    }
   ],
   "source": [
    "tweet['strong_pro1'] = tweet['text'].apply(processTweet1)\n",
    "tweet.head(n=20)"
   ]
  },
  {
   "cell_type": "code",
   "execution_count": 73,
   "metadata": {},
   "outputs": [],
   "source": [
    "stemmer=SnowballStemmer(\"english\")"
   ]
  },
  {
   "cell_type": "markdown",
   "metadata": {},
   "source": [
    "Snowball Stemmer"
   ]
  },
  {
   "cell_type": "code",
   "execution_count": 74,
   "metadata": {},
   "outputs": [
    {
     "name": "stderr",
     "output_type": "stream",
     "text": [
      "/anaconda3/envs/TestYoutube/lib/python3.6/site-packages/ipykernel_launcher.py:2: SettingWithCopyWarning: \n",
      "A value is trying to be set on a copy of a slice from a DataFrame.\n",
      "Try using .loc[row_indexer,col_indexer] = value instead\n",
      "\n",
      "See the caveats in the documentation: http://pandas.pydata.org/pandas-docs/stable/indexing.html#indexing-view-versus-copy\n",
      "  \n"
     ]
    }
   ],
   "source": [
    "ps = SnowballStemmer(\"english\")\n",
    "tweet['Stemming'] = tweet['strong_pro1'].apply(lambda x: ' '.join([ps.stem(word) for word in x.split() ]))\n"
   ]
  },
  {
   "cell_type": "code",
   "execution_count": 81,
   "metadata": {
    "scrolled": true
   },
   "outputs": [
    {
     "data": {
      "text/html": [
       "<div>\n",
       "<style scoped>\n",
       "    .dataframe tbody tr th:only-of-type {\n",
       "        vertical-align: middle;\n",
       "    }\n",
       "\n",
       "    .dataframe tbody tr th {\n",
       "        vertical-align: top;\n",
       "    }\n",
       "\n",
       "    .dataframe thead th {\n",
       "        text-align: right;\n",
       "    }\n",
       "</style>\n",
       "<table border=\"1\" class=\"dataframe\">\n",
       "  <thead>\n",
       "    <tr style=\"text-align: right;\">\n",
       "      <th></th>\n",
       "      <th>text</th>\n",
       "      <th>tag</th>\n",
       "      <th>strong_pro1</th>\n",
       "      <th>Stemming</th>\n",
       "    </tr>\n",
       "  </thead>\n",
       "  <tbody>\n",
       "    <tr>\n",
       "      <th>464</th>\n",
       "      <td>Remember this name: Loujain (pronounced Loo-JAYNE) al-Hathloul. She is 29 years old and a courageous advocate for gender equality — so she is in a Saudi Arabian prison, and reportedly our Saudi allies have tortured her, even waterboarded her. https://t.co/rHur9YIr8s</td>\n",
       "      <td>1</td>\n",
       "      <td>remember this name  loujain  pronounced loo jayne   hathloul  she years old and courageous advocate for gender equality   she saudi arabian prison  and reportedly our saudi allies have tortured her  even waterboarded her</td>\n",
       "      <td>rememb this name loujain pronounc loo jayn hathloul she year old and courag advoc for gender equal she saudi arabian prison and report our saudi alli have tortur her even waterboard her</td>\n",
       "    </tr>\n",
       "    <tr>\n",
       "      <th>229</th>\n",
       "      <td>Manchester United executives have met with officials in Saudi Arabia against a backdrop of speculation suggesting t… https://t.co/IOlZHBvutG</td>\n",
       "      <td>1</td>\n",
       "      <td>manchester united executives have met with officials saudi arabia against backdrop speculation suggesting</td>\n",
       "      <td>manchest unit execut have met with offici saudi arabia against backdrop specul suggest</td>\n",
       "    </tr>\n",
       "    <tr>\n",
       "      <th>304</th>\n",
       "      <td>#Netflix criticized for pulling satire episode in #Saudi\\nEpisode of #HasanMinhaj's Patriot Act, critical of #Saudi leader, says original praise undue\\n\\n#MNA_English \\n#MNA \\n#Anglophones https://t.co/kbICO1SfVN</td>\n",
       "      <td>0</td>\n",
       "      <td>criticized for pulling satire episode episode   patriot act  critical leader  says original praise undue</td>\n",
       "      <td>critic for pull satir episod episod patriot act critic leader say origin prais undu</td>\n",
       "    </tr>\n",
       "    <tr>\n",
       "      <th>277</th>\n",
       "      <td>This is what I call transparency, the Kingdom has nothing to hide in regards to the unfounded allegations in @nytimesworld about the recruitment of children .. hence the invitation to see themselves that there is no such things #fakenews #fakemedia #accusition #sudan #saudi https://t.co/KWA3xm0pAS</td>\n",
       "      <td>0</td>\n",
       "      <td>this what call transparency  the kingdom has nothing hide regards the unfounded allegations  nytimesworld about the recruitment children    hence the invitation see themselves that there such things</td>\n",
       "      <td>this what call transpar the kingdom has noth hide regard the unfound alleg nytimesworld about the recruit children henc the invit see themselv that there such thing</td>\n",
       "    </tr>\n",
       "    <tr>\n",
       "      <th>278</th>\n",
       "      <td>Sanad Mohammed bin Salman will launch the \"Sanad of marriage\" initiative in pursuit of the principles of family stability, urging young people to marry and motivate those who are unable to enable them to build their families and achieve happiness for them.\\n\\n#MBS\\n#SaudiArabia https://t.co/eELc...</td>\n",
       "      <td>0</td>\n",
       "      <td>sanad mohammed bin salman will launch the  sanad marriage  initiative pursuit the principles family stability  urging young people marry and motivate those who are unable enable them build their families and achieve happiness for them</td>\n",
       "      <td>sanad moham bin salman will launch the sanad marriag initi pursuit the principl famili stabil urg young peopl marri and motiv those who are unabl enabl them build their famili and achiev happi for them</td>\n",
       "    </tr>\n",
       "  </tbody>\n",
       "</table>\n",
       "</div>"
      ],
      "text/plain": [
       "                                                                                                                                                                                                                                                                                                            text  \\\n",
       "464                                   Remember this name: Loujain (pronounced Loo-JAYNE) al-Hathloul. She is 29 years old and a courageous advocate for gender equality — so she is in a Saudi Arabian prison, and reportedly our Saudi allies have tortured her, even waterboarded her. https://t.co/rHur9YIr8s   \n",
       "229                                                                                                                                                                 Manchester United executives have met with officials in Saudi Arabia against a backdrop of speculation suggesting t… https://t.co/IOlZHBvutG   \n",
       "304                                                                                         #Netflix criticized for pulling satire episode in #Saudi\\nEpisode of #HasanMinhaj's Patriot Act, critical of #Saudi leader, says original praise undue\\n\\n#MNA_English \\n#MNA \\n#Anglophones https://t.co/kbICO1SfVN   \n",
       "277   This is what I call transparency, the Kingdom has nothing to hide in regards to the unfounded allegations in @nytimesworld about the recruitment of children .. hence the invitation to see themselves that there is no such things #fakenews #fakemedia #accusition #sudan #saudi https://t.co/KWA3xm0pAS   \n",
       "278  Sanad Mohammed bin Salman will launch the \"Sanad of marriage\" initiative in pursuit of the principles of family stability, urging young people to marry and motivate those who are unable to enable them to build their families and achieve happiness for them.\\n\\n#MBS\\n#SaudiArabia https://t.co/eELc...   \n",
       "\n",
       "     tag  \\\n",
       "464    1   \n",
       "229    1   \n",
       "304    0   \n",
       "277    0   \n",
       "278    0   \n",
       "\n",
       "                                                                                                                                                                                                                                      strong_pro1  \\\n",
       "464                remember this name  loujain  pronounced loo jayne   hathloul  she years old and courageous advocate for gender equality   she saudi arabian prison  and reportedly our saudi allies have tortured her  even waterboarded her     \n",
       "229                                                                                                                                  manchester united executives have met with officials saudi arabia against backdrop speculation suggesting      \n",
       "304                                                                                                                                     criticized for pulling satire episode episode   patriot act  critical leader  says original praise undue    \n",
       "277                                       this what call transparency  the kingdom has nothing hide regards the unfounded allegations  nytimesworld about the recruitment children    hence the invitation see themselves that there such things    \n",
       "278  sanad mohammed bin salman will launch the  sanad marriage  initiative pursuit the principles family stability  urging young people marry and motivate those who are unable enable them build their families and achieve happiness for them     \n",
       "\n",
       "                                                                                                                                                                                                      Stemming  \n",
       "464                  rememb this name loujain pronounc loo jayn hathloul she year old and courag advoc for gender equal she saudi arabian prison and report our saudi alli have tortur her even waterboard her  \n",
       "229                                                                                                                     manchest unit execut have met with offici saudi arabia against backdrop specul suggest  \n",
       "304                                                                                                                        critic for pull satir episod episod patriot act critic leader say origin prais undu  \n",
       "277                                       this what call transpar the kingdom has noth hide regard the unfound alleg nytimesworld about the recruit children henc the invit see themselv that there such thing  \n",
       "278  sanad moham bin salman will launch the sanad marriag initi pursuit the principl famili stabil urg young peopl marri and motiv those who are unabl enabl them build their famili and achiev happi for them  "
      ]
     },
     "execution_count": 81,
     "metadata": {},
     "output_type": "execute_result"
    }
   ],
   "source": [
    "tweet.head()"
   ]
  },
  {
   "cell_type": "code",
   "execution_count": 108,
   "metadata": {
    "collapsed": true
   },
   "outputs": [
    {
     "data": {
      "image/png": "[encoded data removed]",
      "text/plain": [
       "<Figure size 432x288 with 1 Axes>"
      ]
     },
     "metadata": {
      "needs_background": "light"
     },
     "output_type": "display_data"
    },
    {
     "data": {
      "text/plain": [
       "0    354\n",
       "1    254\n",
       "Name: tag, dtype: int64"
      ]
     },
     "execution_count": 108,
     "metadata": {},
     "output_type": "execute_result"
    }
   ],
   "source": [
    "#increase minority class\n",
    "# 1=fake tag,0= real tag\n",
    "\n",
    "sample=tweet.copy()\n",
    "minority_df = sample[sample.tag == 1]\n",
    "majority_df = sample[sample.tag == 0]\n",
    "minority_df = resample(minority_df, replace=True, n_samples=254, random_state=123)\n",
    "df_balanced = pd.concat([majority_df, minority_df])\n",
    "sns.countplot(df_balanced['tag'],label=\"Count\")\n",
    "plt.show()"
   ]
  },
  {
   "cell_type": "code",
   "execution_count": 11,
   "metadata": {},
   "outputs": [
    {
     "data": {
      "text/plain": [
       "0    354\n",
       "1    254\n",
       "Name: tag, dtype: int64"
      ]
     },
     "execution_count": 11,
     "metadata": {},
     "output_type": "execute_result"
    }
   ],
   "source": [
    "df_balanced['tag'].value_counts()"
   ]
  },
  {
   "cell_type": "code",
   "execution_count": 109,
   "metadata": {},
   "outputs": [],
   "source": [
    "ex=df_balanced.to_json(r'/Users/Mayona/Desktop/Jupyter/Have_balanced_dataset.json', orient='records')"
   ]
  },
  {
   "cell_type": "markdown",
   "metadata": {},
   "source": [
    "# shuffle "
   ]
  },
  {
   "cell_type": "code",
   "execution_count": 19,
   "metadata": {},
   "outputs": [],
   "source": [
    "df_balanced = shuffle(df_balanced)"
   ]
  },
  {
   "cell_type": "code",
   "execution_count": 12,
   "metadata": {},
   "outputs": [],
   "source": [
    "scorer = MultiScorer({\n",
    "    'weighted average of precision': (precision_score,{'average': 'weighted'}),\n",
    "    'weighted average of recall'   : (recall_score,   {'average': 'weighted'}),\n",
    "    'weighted average of F-measure': (f1_score,       {'average': 'weighted'})\n",
    "})"
   ]
  },
  {
   "cell_type": "markdown",
   "metadata": {},
   "source": [
    "# pipeline"
   ]
  },
  {
   "cell_type": "markdown",
   "metadata": {},
   "source": [
    "# 2 pipeline will be tested\n",
    "First: pipeline consist of BoW(CountVectorizer( )) + Classifier\n",
    "\n",
    "Second: pipeline consist of BoW+Tf-Idf (TfidfVectorizer( )) - Equivalent to CountVectorizer followed by TfidfTransformer + classifier."
   ]
  },
  {
   "cell_type": "markdown",
   "metadata": {},
   "source": [
    "Four experiments per classifier\n",
    "\n",
    "First-  BoW + Preprocessed text \n",
    "\n",
    "Second- BoW+ Preprocessed text + Stemming \n",
    "\n",
    "Third-  Tf-Idf+ Preprocessed text \n",
    "\n",
    "Fourth- Tf-Idf + Preprocessed text + Stemming \n",
    "\n",
    "In all experiments split the data 25% / 75% and the value of fold -cv = 5 and the random_state=42. To make the split will be always the same, and make sure to get reproducible results,"
   ]
  },
  {
   "cell_type": "code",
   "execution_count": null,
   "metadata": {},
   "outputs": [],
   "source": []
  },
  {
   "cell_type": "markdown",
   "metadata": {},
   "source": [
    "# Decision Tree Classifier"
   ]
  },
  {
   "cell_type": "markdown",
   "metadata": {},
   "source": [
    "Exp1: Bow + Preprocessed text"
   ]
  },
  {
   "cell_type": "code",
   "execution_count": 156,
   "metadata": {},
   "outputs": [],
   "source": [
    "x=df_balanced[\"strong_pro1\"]\n",
    "y=df_balanced['tag']\n",
    "\n",
    "X_train, X_test, Y_train, Y_test = model_selection.train_test_split( x, y, stratify=y, random_state=42,test_size=0.25)\n",
    "\n",
    "pipeline = Pipeline([\n",
    "    ('vectorizer',CountVectorizer(stop_words='english')),\n",
    "    ('classifier', DecisionTreeClassifier(random_state=42))])\n",
    "\n"
   ]
  },
  {
   "cell_type": "code",
   "execution_count": null,
   "metadata": {},
   "outputs": [],
   "source": []
  },
  {
   "cell_type": "code",
   "execution_count": 157,
   "metadata": {},
   "outputs": [],
   "source": [
    "grid = {\n",
    "    'vectorizer__ngram_range': [(1, 1), (1, 2)],\n",
    "    'vectorizer__analyzer':('word', 'char'),\n",
    "    'classifier__max_depth':[3,5,8,10]\n",
    "}\n"
   ]
  },
  {
   "cell_type": "code",
   "execution_count": 158,
   "metadata": {
    "scrolled": true
   },
   "outputs": [
    {
     "data": {
      "text/plain": [
       "GridSearchCV(cv=5, error_score='raise-deprecating',\n",
       "       estimator=Pipeline(memory=None,\n",
       "     steps=[('vectorizer', CountVectorizer(analyzer='word', binary=False, decode_error='strict',\n",
       "        dtype=<class 'numpy.int64'>, encoding='utf-8', input='content',\n",
       "        lowercase=True, max_df=1.0, max_features=None, min_df=1,\n",
       "        ngram_range=(1, 1), preprocessor=None, stop_words='english',\n",
       "  ...        min_weight_fraction_leaf=0.0, presort=False, random_state=42,\n",
       "            splitter='best'))]),\n",
       "       fit_params=None, iid='warn', n_jobs=-1,\n",
       "       param_grid={'vectorizer__ngram_range': [(1, 1), (1, 2)], 'vectorizer__analyzer': ('word', 'char'), 'classifier__max_depth': [3, 5, 8, 10]},\n",
       "       pre_dispatch='2*n_jobs', refit=True, return_train_score='warn',\n",
       "       scoring='accuracy', verbose=0)"
      ]
     },
     "execution_count": 158,
     "metadata": {},
     "output_type": "execute_result"
    }
   ],
   "source": [
    "grid_search = GridSearchCV(pipeline, param_grid=grid, scoring='accuracy', n_jobs=-1, cv=5)\n",
    "grid_search.fit(X_train,Y_train)"
   ]
  },
  {
   "cell_type": "code",
   "execution_count": 159,
   "metadata": {},
   "outputs": [
    {
     "name": "stdout",
     "output_type": "stream",
     "text": [
      "Pipeline(memory=None,\n",
      "     steps=[('vectorizer', CountVectorizer(analyzer='word', binary=False, decode_error='strict',\n",
      "        dtype=<class 'numpy.int64'>, encoding='utf-8', input='content',\n",
      "        lowercase=True, max_df=1.0, max_features=None, min_df=1,\n",
      "        ngram_range=(1, 1), preprocessor=None, stop_words='english',\n",
      "  ...        min_weight_fraction_leaf=0.0, presort=False, random_state=42,\n",
      "            splitter='best'))]) \n",
      "\n",
      "\tclassifier__max_depth: 10\n",
      "\tvectorizer__analyzer: word\n",
      "\tvectorizer__ngram_range: (1, 1)\n"
     ]
    }
   ],
   "source": [
    "print(grid_search.best_estimator_,\"\\n\")\n",
    "\n",
    "best_parameters = grid_search.best_estimator_.get_params()\n",
    "for param_name in sorted(list(grid.keys())):\n",
    "    print(\"\\t{0}: {1}\".format(param_name, best_parameters[param_name]))"
   ]
  },
  {
   "cell_type": "code",
   "execution_count": 160,
   "metadata": {},
   "outputs": [
    {
     "name": "stdout",
     "output_type": "stream",
     "text": [
      "Confusion matrix \n",
      " [[82  7]\n",
      " [16 47]] \n",
      "\n",
      "Classification_report \n",
      "                precision    recall  f1-score   support\n",
      "\n",
      "           0       0.84      0.92      0.88        89\n",
      "           1       0.87      0.75      0.80        63\n",
      "\n",
      "   micro avg       0.85      0.85      0.85       152\n",
      "   macro avg       0.85      0.83      0.84       152\n",
      "weighted avg       0.85      0.85      0.85       152\n",
      " \n",
      "\n",
      "Train Accuracy 0.8728070175438597\n",
      "Test Accuracy: 0.8486842105263158\n",
      "roc_auc_score 0.8336900303192438\n"
     ]
    }
   ],
   "source": [
    "best_model = grid_search.best_estimator_\n",
    "y_pred=best_model.predict(X_test)\n",
    "\n",
    "confusion=confusion_matrix(Y_test, y_pred)\n",
    "report=classification_report(Y_test,y_pred)\n",
    "false_positive_rate, true_positive_rate, thresholds = roc_curve(Y_test, y_pred)\n",
    "roc_auc = auc(false_positive_rate, true_positive_rate)\n",
    "print(\"Confusion matrix \\n\",confusion,\"\\n\")\n",
    "print(\"Classification_report \\n \",report,\"\\n\")\n",
    "print(\"Train Accuracy\",accuracy_score(Y_train, best_model.predict(X_train)))\n",
    "print(\"Test Accuracy:\",accuracy_score(Y_test,y_pred))\n",
    "print(\"roc_auc_score\",roc_auc)"
   ]
  },
  {
   "cell_type": "code",
   "execution_count": null,
   "metadata": {},
   "outputs": [],
   "source": []
  },
  {
   "cell_type": "markdown",
   "metadata": {},
   "source": [
    "Exp2: Bow + Preprocessed text +Stemming"
   ]
  },
  {
   "cell_type": "code",
   "execution_count": 151,
   "metadata": {},
   "outputs": [],
   "source": [
    "x=df_balanced[\"Stemming\"]\n",
    "y=df_balanced['tag']\n",
    "\n",
    "X_train, X_test, Y_train, Y_test = model_selection.train_test_split( x, y, stratify=y, random_state=42,test_size=0.25)\n",
    "\n",
    "pipeline = Pipeline([\n",
    "    ('vectorizer',CountVectorizer(stop_words='english')),\n",
    "    ('classifier', DecisionTreeClassifier(random_state=42))])\n",
    "\n"
   ]
  },
  {
   "cell_type": "code",
   "execution_count": null,
   "metadata": {},
   "outputs": [],
   "source": []
  },
  {
   "cell_type": "code",
   "execution_count": 152,
   "metadata": {},
   "outputs": [],
   "source": [
    "grid = {\n",
    "    'vectorizer__ngram_range': [(1, 1), (1, 2)],\n",
    "    'vectorizer__analyzer':('word', 'char'),\n",
    "    'classifier__max_depth':[3,5,8,10]\n",
    "}\n"
   ]
  },
  {
   "cell_type": "code",
   "execution_count": 153,
   "metadata": {
    "scrolled": true
   },
   "outputs": [
    {
     "data": {
      "text/plain": [
       "GridSearchCV(cv=5, error_score='raise-deprecating',\n",
       "       estimator=Pipeline(memory=None,\n",
       "     steps=[('vectorizer', CountVectorizer(analyzer='word', binary=False, decode_error='strict',\n",
       "        dtype=<class 'numpy.int64'>, encoding='utf-8', input='content',\n",
       "        lowercase=True, max_df=1.0, max_features=None, min_df=1,\n",
       "        ngram_range=(1, 1), preprocessor=None, stop_words='english',\n",
       "  ...        min_weight_fraction_leaf=0.0, presort=False, random_state=42,\n",
       "            splitter='best'))]),\n",
       "       fit_params=None, iid='warn', n_jobs=-1,\n",
       "       param_grid={'vectorizer__ngram_range': [(1, 1), (1, 2)], 'vectorizer__analyzer': ('word', 'char'), 'classifier__max_depth': [3, 5, 8, 10]},\n",
       "       pre_dispatch='2*n_jobs', refit=True, return_train_score='warn',\n",
       "       scoring='accuracy', verbose=0)"
      ]
     },
     "execution_count": 153,
     "metadata": {},
     "output_type": "execute_result"
    }
   ],
   "source": [
    "grid_search = GridSearchCV(pipeline, param_grid=grid, scoring='accuracy', n_jobs=-1, cv=5)\n",
    "grid_search.fit(X_train,Y_train)"
   ]
  },
  {
   "cell_type": "code",
   "execution_count": 154,
   "metadata": {},
   "outputs": [
    {
     "name": "stdout",
     "output_type": "stream",
     "text": [
      "Pipeline(memory=None,\n",
      "     steps=[('vectorizer', CountVectorizer(analyzer='word', binary=False, decode_error='strict',\n",
      "        dtype=<class 'numpy.int64'>, encoding='utf-8', input='content',\n",
      "        lowercase=True, max_df=1.0, max_features=None, min_df=1,\n",
      "        ngram_range=(1, 1), preprocessor=None, stop_words='english',\n",
      "  ...        min_weight_fraction_leaf=0.0, presort=False, random_state=42,\n",
      "            splitter='best'))]) \n",
      "\n",
      "\tclassifier__max_depth: 10\n",
      "\tvectorizer__analyzer: word\n",
      "\tvectorizer__ngram_range: (1, 1)\n"
     ]
    }
   ],
   "source": [
    "print(grid_search.best_estimator_,\"\\n\")\n",
    "\n",
    "best_parameters = grid_search.best_estimator_.get_params()\n",
    "for param_name in sorted(list(grid.keys())):\n",
    "    print(\"\\t{0}: {1}\".format(param_name, best_parameters[param_name]))"
   ]
  },
  {
   "cell_type": "code",
   "execution_count": 155,
   "metadata": {},
   "outputs": [
    {
     "name": "stdout",
     "output_type": "stream",
     "text": [
      "Confusion matrix \n",
      " [[81  8]\n",
      " [22 41]] \n",
      "\n",
      "Classification_report \n",
      "                precision    recall  f1-score   support\n",
      "\n",
      "           0       0.79      0.91      0.84        89\n",
      "           1       0.84      0.65      0.73        63\n",
      "\n",
      "   micro avg       0.80      0.80      0.80       152\n",
      "   macro avg       0.81      0.78      0.79       152\n",
      "weighted avg       0.81      0.80      0.80       152\n",
      " \n",
      "\n",
      "Train Accuracy 0.8793859649122807\n",
      "Test Accuracy: 0.8026315789473685\n",
      "roc_auc_score 0.7804530051721063\n"
     ]
    }
   ],
   "source": [
    "best_model = grid_search.best_estimator_\n",
    "y_pred=best_model.predict(X_test)\n",
    "\n",
    "confusion=confusion_matrix(Y_test, y_pred)\n",
    "report=classification_report(Y_test,y_pred)\n",
    "false_positive_rate, true_positive_rate, thresholds = roc_curve(Y_test, y_pred)\n",
    "roc_auc = auc(false_positive_rate, true_positive_rate)\n",
    "print(\"Confusion matrix \\n\",confusion,\"\\n\")\n",
    "print(\"Classification_report \\n \",report,\"\\n\")\n",
    "print(\"Train Accuracy\",accuracy_score(Y_train, best_model.predict(X_train)))\n",
    "print(\"Test Accuracy:\",accuracy_score(Y_test,y_pred))\n",
    "print(\"roc_auc_score\",roc_auc)"
   ]
  },
  {
   "cell_type": "code",
   "execution_count": null,
   "metadata": {},
   "outputs": [],
   "source": []
  },
  {
   "cell_type": "markdown",
   "metadata": {},
   "source": [
    "Exp3- Tf-Idf+ Preprocessed text "
   ]
  },
  {
   "cell_type": "code",
   "execution_count": 161,
   "metadata": {},
   "outputs": [],
   "source": [
    "x=df_balanced[\"strong_pro1\"]\n",
    "y=df_balanced['tag']\n",
    "\n",
    "X_train, X_test, Y_train, Y_test = model_selection.train_test_split( x, y, stratify=y, random_state=42,test_size=0.25)\n",
    "\n",
    "pipeline = Pipeline([\n",
    "    ('vectorizer',TfidfVectorizer(stop_words='english')),\n",
    "    ('classifier', DecisionTreeClassifier(random_state=42))])\n",
    "\n"
   ]
  },
  {
   "cell_type": "code",
   "execution_count": null,
   "metadata": {},
   "outputs": [],
   "source": []
  },
  {
   "cell_type": "code",
   "execution_count": 162,
   "metadata": {},
   "outputs": [],
   "source": [
    "grid = {\n",
    "    'vectorizer__ngram_range': [(1, 1), (1, 2)],\n",
    "    'vectorizer__analyzer':('word', 'char'),\n",
    "    'classifier__max_depth':[3,5,8,10]\n",
    "}\n"
   ]
  },
  {
   "cell_type": "code",
   "execution_count": 163,
   "metadata": {
    "scrolled": true
   },
   "outputs": [
    {
     "name": "stderr",
     "output_type": "stream",
     "text": [
      "/anaconda3/envs/TestYoutube/lib/python3.6/site-packages/sklearn/model_selection/_search.py:841: DeprecationWarning: The default of the `iid` parameter will change from True to False in version 0.22 and will be removed in 0.24. This will change numeric results when test-set sizes are unequal.\n",
      "  DeprecationWarning)\n"
     ]
    },
    {
     "data": {
      "text/plain": [
       "GridSearchCV(cv=5, error_score='raise-deprecating',\n",
       "       estimator=Pipeline(memory=None,\n",
       "     steps=[('vectorizer', TfidfVectorizer(analyzer='word', binary=False, decode_error='strict',\n",
       "        dtype=<class 'numpy.float64'>, encoding='utf-8', input='content',\n",
       "        lowercase=True, max_df=1.0, max_features=None, min_df=1,\n",
       "        ngram_range=(1, 1), norm='l2', preprocessor=None, smooth_idf=...        min_weight_fraction_leaf=0.0, presort=False, random_state=42,\n",
       "            splitter='best'))]),\n",
       "       fit_params=None, iid='warn', n_jobs=-1,\n",
       "       param_grid={'vectorizer__ngram_range': [(1, 1), (1, 2)], 'vectorizer__analyzer': ('word', 'char'), 'classifier__max_depth': [3, 5, 8, 10]},\n",
       "       pre_dispatch='2*n_jobs', refit=True, return_train_score='warn',\n",
       "       scoring='accuracy', verbose=0)"
      ]
     },
     "execution_count": 163,
     "metadata": {},
     "output_type": "execute_result"
    }
   ],
   "source": [
    "grid_search = GridSearchCV(pipeline, param_grid=grid, scoring='accuracy', n_jobs=-1, cv=5)\n",
    "grid_search.fit(X_train,Y_train)"
   ]
  },
  {
   "cell_type": "code",
   "execution_count": 164,
   "metadata": {},
   "outputs": [
    {
     "name": "stdout",
     "output_type": "stream",
     "text": [
      "Pipeline(memory=None,\n",
      "     steps=[('vectorizer', TfidfVectorizer(analyzer='char', binary=False, decode_error='strict',\n",
      "        dtype=<class 'numpy.float64'>, encoding='utf-8', input='content',\n",
      "        lowercase=True, max_df=1.0, max_features=None, min_df=1,\n",
      "        ngram_range=(1, 2), norm='l2', preprocessor=None, smooth_idf=...        min_weight_fraction_leaf=0.0, presort=False, random_state=42,\n",
      "            splitter='best'))]) \n",
      "\n",
      "\tclassifier__max_depth: 10\n",
      "\tvectorizer__analyzer: char\n",
      "\tvectorizer__ngram_range: (1, 2)\n"
     ]
    }
   ],
   "source": [
    "print(grid_search.best_estimator_,\"\\n\")\n",
    "\n",
    "best_parameters = grid_search.best_estimator_.get_params()\n",
    "for param_name in sorted(list(grid.keys())):\n",
    "    print(\"\\t{0}: {1}\".format(param_name, best_parameters[param_name]))"
   ]
  },
  {
   "cell_type": "code",
   "execution_count": 165,
   "metadata": {},
   "outputs": [
    {
     "name": "stdout",
     "output_type": "stream",
     "text": [
      "Confusion matrix \n",
      " [[77 12]\n",
      " [20 43]] \n",
      "\n",
      "Classification_report \n",
      "                precision    recall  f1-score   support\n",
      "\n",
      "           0       0.79      0.87      0.83        89\n",
      "           1       0.78      0.68      0.73        63\n",
      "\n",
      "   micro avg       0.79      0.79      0.79       152\n",
      "   macro avg       0.79      0.77      0.78       152\n",
      "weighted avg       0.79      0.79      0.79       152\n",
      " \n",
      "\n",
      "Train Accuracy 0.9780701754385965\n",
      "Test Accuracy: 0.7894736842105263\n",
      "roc_auc_score 0.7738541109327626\n"
     ]
    }
   ],
   "source": [
    "best_model = grid_search.best_estimator_\n",
    "y_pred=best_model.predict(X_test)\n",
    "\n",
    "confusion=confusion_matrix(Y_test, y_pred)\n",
    "report=classification_report(Y_test,y_pred)\n",
    "false_positive_rate, true_positive_rate, thresholds = roc_curve(Y_test, y_pred)\n",
    "roc_auc = auc(false_positive_rate, true_positive_rate)\n",
    "print(\"Confusion matrix \\n\",confusion,\"\\n\")\n",
    "print(\"Classification_report \\n \",report,\"\\n\")\n",
    "print(\"Train Accuracy\",accuracy_score(Y_train, best_model.predict(X_train)))\n",
    "print(\"Test Accuracy:\",accuracy_score(Y_test,y_pred))\n",
    "print(\"roc_auc_score\",roc_auc)"
   ]
  },
  {
   "cell_type": "code",
   "execution_count": null,
   "metadata": {},
   "outputs": [],
   "source": []
  },
  {
   "cell_type": "markdown",
   "metadata": {},
   "source": [
    "Tf-Idf + Preprocessed text + Stemming \n",
    "\n"
   ]
  },
  {
   "cell_type": "code",
   "execution_count": 166,
   "metadata": {},
   "outputs": [],
   "source": [
    "x=df_balanced[\"Stemming\"]\n",
    "y=df_balanced['tag']\n",
    "\n",
    "X_train, X_test, Y_train, Y_test = model_selection.train_test_split( x, y, stratify=y, random_state=42,test_size=0.25)\n",
    "\n",
    "pipeline = Pipeline([\n",
    "    ('vectorizer',TfidfVectorizer(stop_words='english')),\n",
    "    ('classifier', DecisionTreeClassifier(random_state=42))])\n",
    "\n"
   ]
  },
  {
   "cell_type": "code",
   "execution_count": null,
   "metadata": {},
   "outputs": [],
   "source": []
  },
  {
   "cell_type": "code",
   "execution_count": 167,
   "metadata": {},
   "outputs": [],
   "source": [
    "grid = {\n",
    "    'vectorizer__ngram_range': [(1, 1), (1, 2)],\n",
    "    'vectorizer__analyzer':('word', 'char'),\n",
    "    'classifier__max_depth':[3,5,8,10]\n",
    "}\n"
   ]
  },
  {
   "cell_type": "code",
   "execution_count": 168,
   "metadata": {
    "scrolled": true
   },
   "outputs": [
    {
     "name": "stderr",
     "output_type": "stream",
     "text": [
      "/anaconda3/envs/TestYoutube/lib/python3.6/site-packages/sklearn/model_selection/_search.py:841: DeprecationWarning: The default of the `iid` parameter will change from True to False in version 0.22 and will be removed in 0.24. This will change numeric results when test-set sizes are unequal.\n",
      "  DeprecationWarning)\n"
     ]
    },
    {
     "data": {
      "text/plain": [
       "GridSearchCV(cv=5, error_score='raise-deprecating',\n",
       "       estimator=Pipeline(memory=None,\n",
       "     steps=[('vectorizer', TfidfVectorizer(analyzer='word', binary=False, decode_error='strict',\n",
       "        dtype=<class 'numpy.float64'>, encoding='utf-8', input='content',\n",
       "        lowercase=True, max_df=1.0, max_features=None, min_df=1,\n",
       "        ngram_range=(1, 1), norm='l2', preprocessor=None, smooth_idf=...        min_weight_fraction_leaf=0.0, presort=False, random_state=42,\n",
       "            splitter='best'))]),\n",
       "       fit_params=None, iid='warn', n_jobs=-1,\n",
       "       param_grid={'vectorizer__ngram_range': [(1, 1), (1, 2)], 'vectorizer__analyzer': ('word', 'char'), 'classifier__max_depth': [3, 5, 8, 10]},\n",
       "       pre_dispatch='2*n_jobs', refit=True, return_train_score='warn',\n",
       "       scoring='accuracy', verbose=0)"
      ]
     },
     "execution_count": 168,
     "metadata": {},
     "output_type": "execute_result"
    }
   ],
   "source": [
    "grid_search = GridSearchCV(pipeline, param_grid=grid, scoring='accuracy', n_jobs=-1, cv=5)\n",
    "grid_search.fit(X_train,Y_train)"
   ]
  },
  {
   "cell_type": "code",
   "execution_count": 169,
   "metadata": {},
   "outputs": [
    {
     "name": "stdout",
     "output_type": "stream",
     "text": [
      "Pipeline(memory=None,\n",
      "     steps=[('vectorizer', TfidfVectorizer(analyzer='word', binary=False, decode_error='strict',\n",
      "        dtype=<class 'numpy.float64'>, encoding='utf-8', input='content',\n",
      "        lowercase=True, max_df=1.0, max_features=None, min_df=1,\n",
      "        ngram_range=(1, 2), norm='l2', preprocessor=None, smooth_idf=...        min_weight_fraction_leaf=0.0, presort=False, random_state=42,\n",
      "            splitter='best'))]) \n",
      "\n",
      "\tclassifier__max_depth: 10\n",
      "\tvectorizer__analyzer: word\n",
      "\tvectorizer__ngram_range: (1, 2)\n"
     ]
    }
   ],
   "source": [
    "print(grid_search.best_estimator_,\"\\n\")\n",
    "\n",
    "best_parameters = grid_search.best_estimator_.get_params()\n",
    "for param_name in sorted(list(grid.keys())):\n",
    "    print(\"\\t{0}: {1}\".format(param_name, best_parameters[param_name]))"
   ]
  },
  {
   "cell_type": "code",
   "execution_count": 170,
   "metadata": {},
   "outputs": [
    {
     "name": "stdout",
     "output_type": "stream",
     "text": [
      "Confusion matrix \n",
      " [[69 20]\n",
      " [24 39]] \n",
      "\n",
      "Classification_report \n",
      "                precision    recall  f1-score   support\n",
      "\n",
      "           0       0.74      0.78      0.76        89\n",
      "           1       0.66      0.62      0.64        63\n",
      "\n",
      "   micro avg       0.71      0.71      0.71       152\n",
      "   macro avg       0.70      0.70      0.70       152\n",
      "weighted avg       0.71      0.71      0.71       152\n",
      " \n",
      "\n",
      "Train Accuracy 0.8969298245614035\n",
      "Test Accuracy: 0.7105263157894737\n",
      "roc_auc_score 0.6971642589620117\n"
     ]
    }
   ],
   "source": [
    "best_model = grid_search.best_estimator_\n",
    "y_pred=best_model.predict(X_test)\n",
    "\n",
    "confusion=confusion_matrix(Y_test, y_pred)\n",
    "report=classification_report(Y_test,y_pred)\n",
    "false_positive_rate, true_positive_rate, thresholds = roc_curve(Y_test, y_pred)\n",
    "roc_auc = auc(false_positive_rate, true_positive_rate)\n",
    "print(\"Confusion matrix \\n\",confusion,\"\\n\")\n",
    "print(\"Classification_report \\n \",report,\"\\n\")\n",
    "print(\"Train Accuracy\",accuracy_score(Y_train, best_model.predict(X_train)))\n",
    "print(\"Test Accuracy:\",accuracy_score(Y_test,y_pred))\n",
    "print(\"roc_auc_score\",roc_auc)"
   ]
  },
  {
   "cell_type": "code",
   "execution_count": null,
   "metadata": {},
   "outputs": [],
   "source": []
  },
  {
   "cell_type": "markdown",
   "metadata": {},
   "source": [
    "# Kneighbors Classifier"
   ]
  },
  {
   "cell_type": "code",
   "execution_count": null,
   "metadata": {},
   "outputs": [],
   "source": []
  },
  {
   "cell_type": "code",
   "execution_count": null,
   "metadata": {},
   "outputs": [],
   "source": []
  },
  {
   "cell_type": "code",
   "execution_count": null,
   "metadata": {},
   "outputs": [],
   "source": []
  },
  {
   "cell_type": "code",
   "execution_count": null,
   "metadata": {},
   "outputs": [],
   "source": []
  },
  {
   "cell_type": "code",
   "execution_count": null,
   "metadata": {},
   "outputs": [],
   "source": []
  },
  {
   "cell_type": "code",
   "execution_count": null,
   "metadata": {},
   "outputs": [],
   "source": []
  },
  {
   "cell_type": "markdown",
   "metadata": {},
   "source": [
    "# Decision Tree Classifier\n"
   ]
  },
  {
   "cell_type": "markdown",
   "metadata": {},
   "source": [
    "Exp1: Bow + Preprocessed text"
   ]
  },
  {
   "cell_type": "code",
   "execution_count": 286,
   "metadata": {},
   "outputs": [
    {
     "name": "stderr",
     "output_type": "stream",
     "text": [
      "/anaconda3/envs/TestYoutube/lib/python3.6/site-packages/sklearn/model_selection/_search.py:841: DeprecationWarning: The default of the `iid` parameter will change from True to False in version 0.22 and will be removed in 0.24. This will change numeric results when test-set sizes are unequal.\n",
      "  DeprecationWarning)\n"
     ]
    },
    {
     "data": {
      "text/plain": [
       "GridSearchCV(cv=5, error_score='raise-deprecating',\n",
       "       estimator=Pipeline(memory=None,\n",
       "     steps=[('vectorizer', CountVectorizer(analyzer='word', binary=False, decode_error='strict',\n",
       "        dtype=<class 'numpy.int64'>, encoding='utf-8', input='content',\n",
       "        lowercase=True, max_df=1.0, max_features=None, min_df=1,\n",
       "        ngram_range=(1, 1), preprocessor=None, stop_words='english',\n",
       "  ...        min_weight_fraction_leaf=0.0, presort=False, random_state=42,\n",
       "            splitter='best'))]),\n",
       "       fit_params=None, iid='warn', n_jobs=-1,\n",
       "       param_grid={'vectorizer__ngram_range': [(1, 1), (1, 2)], 'vectorizer__analyzer': ('word', 'char'), 'classifier__max_depth': [3, 5, 8, 10]},\n",
       "       pre_dispatch='2*n_jobs', refit=True, return_train_score='warn',\n",
       "       scoring='accuracy', verbose=0)"
      ]
     },
     "execution_count": 286,
     "metadata": {},
     "output_type": "execute_result"
    }
   ],
   "source": [
    "x=df_balanced[\"strong_pro1\"]\n",
    "y=df_balanced['tag']\n",
    "\n",
    "X_train, X_test, Y_train, Y_test = model_selection.train_test_split( x, y, stratify=y, random_state=42,test_size=0.25)\n",
    "\n",
    "pipeline = Pipeline([\n",
    "    ('vectorizer',CountVectorizer(stop_words='english')),\n",
    "    ('classifier', DecisionTreeClassifier(random_state=42,class_weight={1:4,0:1}))])\n",
    "\n",
    "grid = {\n",
    "    'vectorizer__ngram_range': [(1, 1), (1, 2)],\n",
    "    'vectorizer__analyzer':('word', 'char'),\n",
    "    'classifier__max_depth':[3,5,8,10]\n",
    "}\n",
    "\n",
    "\n",
    "grid_search = GridSearchCV(pipeline, param_grid=grid, scoring='accuracy', n_jobs=-1, cv=5)\n",
    "grid_search.fit(X_train,Y_train)\n"
   ]
  },
  {
   "cell_type": "code",
   "execution_count": 287,
   "metadata": {},
   "outputs": [
    {
     "name": "stdout",
     "output_type": "stream",
     "text": [
      "Pipeline(memory=None,\n",
      "     steps=[('vectorizer', CountVectorizer(analyzer='word', binary=False, decode_error='strict',\n",
      "        dtype=<class 'numpy.int64'>, encoding='utf-8', input='content',\n",
      "        lowercase=True, max_df=1.0, max_features=None, min_df=1,\n",
      "        ngram_range=(1, 2), preprocessor=None, stop_words='english',\n",
      "  ...        min_weight_fraction_leaf=0.0, presort=False, random_state=42,\n",
      "            splitter='best'))]) \n",
      "\n",
      "\tclassifier__max_depth: 10\n",
      "\tvectorizer__analyzer: word\n",
      "\tvectorizer__ngram_range: (1, 2)\n"
     ]
    }
   ],
   "source": [
    "\n",
    "print(grid_search.best_estimator_,\"\\n\")\n",
    "\n",
    "best_parameters = grid_search.best_estimator_.get_params()\n",
    "for param_name in sorted(list(grid.keys())):\n",
    "    print(\"\\t{0}: {1}\".format(param_name, best_parameters[param_name]))\n",
    "\n",
    "best_model = grid_search.best_estimator_\n",
    "y_pred=best_model.predict(X_test)\n"
   ]
  },
  {
   "cell_type": "code",
   "execution_count": 288,
   "metadata": {},
   "outputs": [
    {
     "name": "stdout",
     "output_type": "stream",
     "text": [
      "Confusion matrix \n",
      " [[82  7]\n",
      " [25 38]] \n",
      "\n",
      "Classification_report \n",
      "                precision    recall  f1-score   support\n",
      "\n",
      "           0       0.77      0.92      0.84        89\n",
      "           1       0.84      0.60      0.70        63\n",
      "\n",
      "   micro avg       0.79      0.79      0.79       152\n",
      "   macro avg       0.81      0.76      0.77       152\n",
      "weighted avg       0.80      0.79      0.78       152\n",
      " \n",
      "\n",
      "Train Accuracy 0.8837719298245614\n",
      "Test Accuracy: 0.7894736842105263\n",
      "roc_auc_score 0.7622614588906724\n"
     ]
    }
   ],
   "source": [
    "\n",
    "confusion=confusion_matrix(Y_test, y_pred)\n",
    "report=classification_report(Y_test,y_pred)\n",
    "false_positive_rate, true_positive_rate, thresholds = roc_curve(Y_test, y_pred)\n",
    "roc_auc = auc(false_positive_rate, true_positive_rate)\n",
    "print(\"Confusion matrix \\n\",confusion,\"\\n\")\n",
    "print(\"Classification_report \\n \",report,\"\\n\")\n",
    "# check the performance of model on both, train and validation. If training accuracy \n",
    "#is extremely high and testing is not the same, then the model is overfitting.\n",
    "print(\"Train Accuracy\",accuracy_score(Y_train, best_model.predict(X_train)))\n",
    "print(\"Test Accuracy:\",accuracy_score(Y_test,y_pred))\n",
    "print(\"roc_auc_score\",roc_auc)"
   ]
  },
  {
   "cell_type": "code",
   "execution_count": 289,
   "metadata": {},
   "outputs": [
    {
     "data": {
      "image/png": "[encoded data removed]",
      "text/plain": [
       "<Figure size 432x288 with 2 Axes>"
      ]
     },
     "metadata": {
      "needs_background": "light"
     },
     "output_type": "display_data"
    }
   ],
   "source": [
    "#confusion matrix plot\n",
    "\n",
    "ax= plt.subplot()\n",
    "sns.heatmap(confusion, annot=True, ax = ax); #annot=True to annotate cells\n",
    "\n",
    "# labels, title and ticks\n",
    "ax.set_xlabel('Predicted labels');ax.set_ylabel('True labels'); \n",
    "ax.set_title('Confusion Matrix'); \n",
    "ax.xaxis.set_ticklabels(['real', 'fake']); ax.yaxis.set_ticklabels(['real', 'fake']);"
   ]
  },
  {
   "cell_type": "code",
   "execution_count": null,
   "metadata": {},
   "outputs": [],
   "source": []
  },
  {
   "cell_type": "markdown",
   "metadata": {},
   "source": [
    "Exp2: Bow + Preprocessed text +Stemming\n"
   ]
  },
  {
   "cell_type": "code",
   "execution_count": 290,
   "metadata": {},
   "outputs": [],
   "source": [
    "\n",
    "x=df_balanced[\"Stemming\"]\n",
    "y=df_balanced['tag']\n",
    "\n",
    "X_train, X_test, Y_train, Y_test = model_selection.train_test_split( x, y, stratify=y, random_state=42,test_size=0.25)\n",
    "\n",
    "pipeline = Pipeline([\n",
    "    ('vectorizer',CountVectorizer(stop_words='english')),\n",
    "    ('classifier', DecisionTreeClassifier(random_state=42,class_weight={1:4,0:1}))])\n",
    "\n"
   ]
  },
  {
   "cell_type": "code",
   "execution_count": 291,
   "metadata": {},
   "outputs": [
    {
     "name": "stderr",
     "output_type": "stream",
     "text": [
      "/anaconda3/envs/TestYoutube/lib/python3.6/site-packages/sklearn/model_selection/_search.py:841: DeprecationWarning: The default of the `iid` parameter will change from True to False in version 0.22 and will be removed in 0.24. This will change numeric results when test-set sizes are unequal.\n",
      "  DeprecationWarning)\n"
     ]
    },
    {
     "data": {
      "text/plain": [
       "GridSearchCV(cv=5, error_score='raise-deprecating',\n",
       "       estimator=Pipeline(memory=None,\n",
       "     steps=[('vectorizer', CountVectorizer(analyzer='word', binary=False, decode_error='strict',\n",
       "        dtype=<class 'numpy.int64'>, encoding='utf-8', input='content',\n",
       "        lowercase=True, max_df=1.0, max_features=None, min_df=1,\n",
       "        ngram_range=(1, 1), preprocessor=None, stop_words='english',\n",
       "  ...        min_weight_fraction_leaf=0.0, presort=False, random_state=42,\n",
       "            splitter='best'))]),\n",
       "       fit_params=None, iid='warn', n_jobs=-1,\n",
       "       param_grid={'vectorizer__ngram_range': [(1, 1), (1, 2)], 'vectorizer__analyzer': ('word', 'char'), 'classifier__max_depth': [3, 5, 8, 10]},\n",
       "       pre_dispatch='2*n_jobs', refit=True, return_train_score='warn',\n",
       "       scoring='accuracy', verbose=0)"
      ]
     },
     "execution_count": 291,
     "metadata": {},
     "output_type": "execute_result"
    }
   ],
   "source": [
    "grid = {\n",
    "    'vectorizer__ngram_range': [(1, 1), (1, 2)],\n",
    "    'vectorizer__analyzer':('word', 'char'),\n",
    "    'classifier__max_depth':[3,5,8,10]\n",
    "}\n",
    "\n",
    "\n",
    "grid_search = GridSearchCV(pipeline, param_grid=grid, scoring='accuracy', n_jobs=-1, cv=5)\n",
    "grid_search.fit(X_train,Y_train)\n"
   ]
  },
  {
   "cell_type": "code",
   "execution_count": 292,
   "metadata": {},
   "outputs": [
    {
     "name": "stdout",
     "output_type": "stream",
     "text": [
      "Pipeline(memory=None,\n",
      "     steps=[('vectorizer', CountVectorizer(analyzer='word', binary=False, decode_error='strict',\n",
      "        dtype=<class 'numpy.int64'>, encoding='utf-8', input='content',\n",
      "        lowercase=True, max_df=1.0, max_features=None, min_df=1,\n",
      "        ngram_range=(1, 2), preprocessor=None, stop_words='english',\n",
      "  ...        min_weight_fraction_leaf=0.0, presort=False, random_state=42,\n",
      "            splitter='best'))]) \n",
      "\n",
      "\tclassifier__max_depth: 10\n",
      "\tvectorizer__analyzer: word\n",
      "\tvectorizer__ngram_range: (1, 2)\n"
     ]
    }
   ],
   "source": [
    "\n",
    "print(grid_search.best_estimator_,\"\\n\")\n",
    "\n",
    "best_parameters = grid_search.best_estimator_.get_params()\n",
    "for param_name in sorted(list(grid.keys())):\n",
    "    print(\"\\t{0}: {1}\".format(param_name, best_parameters[param_name]))\n"
   ]
  },
  {
   "cell_type": "code",
   "execution_count": 293,
   "metadata": {},
   "outputs": [
    {
     "name": "stdout",
     "output_type": "stream",
     "text": [
      "Confusion matrix \n",
      " [[78 11]\n",
      " [22 41]] \n",
      "\n",
      "Classification_report \n",
      "                precision    recall  f1-score   support\n",
      "\n",
      "           0       0.78      0.88      0.83        89\n",
      "           1       0.79      0.65      0.71        63\n",
      "\n",
      "   micro avg       0.78      0.78      0.78       152\n",
      "   macro avg       0.78      0.76      0.77       152\n",
      "weighted avg       0.78      0.78      0.78       152\n",
      " \n",
      "\n",
      "Train Accuracy 0.8903508771929824\n",
      "Test Accuracy: 0.7828947368421053\n",
      "roc_auc_score 0.7635990725878367\n"
     ]
    }
   ],
   "source": [
    "\n",
    "best_model = grid_search.best_estimator_\n",
    "y_pred=best_model.predict(X_test)\n",
    "\n",
    "confusion=confusion_matrix(Y_test, y_pred)\n",
    "report=classification_report(Y_test,y_pred)\n",
    "false_positive_rate, true_positive_rate, thresholds = roc_curve(Y_test, y_pred)\n",
    "roc_auc = auc(false_positive_rate, true_positive_rate)\n",
    "print(\"Confusion matrix \\n\",confusion,\"\\n\")\n",
    "print(\"Classification_report \\n \",report,\"\\n\")\n",
    "print(\"Train Accuracy\",accuracy_score(Y_train, best_model.predict(X_train)))\n",
    "print(\"Test Accuracy:\",accuracy_score(Y_test,y_pred))\n",
    "print(\"roc_auc_score\",roc_auc)"
   ]
  },
  {
   "cell_type": "code",
   "execution_count": 294,
   "metadata": {},
   "outputs": [
    {
     "data": {
      "image/png": "[encoded data removed]",
      "text/plain": [
       "<Figure size 432x288 with 2 Axes>"
      ]
     },
     "metadata": {
      "needs_background": "light"
     },
     "output_type": "display_data"
    }
   ],
   "source": [
    "#confusion matrix plot\n",
    "\n",
    "ax= plt.subplot()\n",
    "sns.heatmap(confusion, annot=True, ax = ax); #annot=True to annotate cells\n",
    "\n",
    "# labels, title and ticks\n",
    "ax.set_xlabel('Predicted labels');ax.set_ylabel('True labels'); \n",
    "ax.set_title('Confusion Matrix'); \n",
    "ax.xaxis.set_ticklabels(['real', 'fake']); ax.yaxis.set_ticklabels(['real', 'fake']);"
   ]
  },
  {
   "cell_type": "code",
   "execution_count": null,
   "metadata": {},
   "outputs": [],
   "source": []
  },
  {
   "cell_type": "markdown",
   "metadata": {},
   "source": [
    "Exp3- Tf-Idf+ Preprocessed text \n"
   ]
  },
  {
   "cell_type": "code",
   "execution_count": 295,
   "metadata": {},
   "outputs": [],
   "source": [
    "\n",
    "x=df_balanced[\"strong_pro1\"]\n",
    "y=df_balanced['tag']\n",
    "\n",
    "X_train, X_test, Y_train, Y_test = model_selection.train_test_split( x, y, stratify=y, random_state=42,test_size=0.25)\n",
    "\n",
    "pipeline = Pipeline([\n",
    "    ('vectorizer',TfidfVectorizer(stop_words='english')),\n",
    "    ('classifier', DecisionTreeClassifier(random_state=42,class_weight={1:4,0:1}))])\n"
   ]
  },
  {
   "cell_type": "code",
   "execution_count": 296,
   "metadata": {},
   "outputs": [],
   "source": [
    "grid = {\n",
    "    'vectorizer__ngram_range': [(1, 1), (1, 2)],\n",
    "    'vectorizer__analyzer':('word', 'char'),\n",
    "    'classifier__max_depth':[3,5,8,10]\n",
    "}\n",
    "\n"
   ]
  },
  {
   "cell_type": "code",
   "execution_count": 297,
   "metadata": {},
   "outputs": [
    {
     "name": "stderr",
     "output_type": "stream",
     "text": [
      "/anaconda3/envs/TestYoutube/lib/python3.6/site-packages/sklearn/model_selection/_search.py:841: DeprecationWarning: The default of the `iid` parameter will change from True to False in version 0.22 and will be removed in 0.24. This will change numeric results when test-set sizes are unequal.\n",
      "  DeprecationWarning)\n"
     ]
    },
    {
     "data": {
      "text/plain": [
       "GridSearchCV(cv=5, error_score='raise-deprecating',\n",
       "       estimator=Pipeline(memory=None,\n",
       "     steps=[('vectorizer', TfidfVectorizer(analyzer='word', binary=False, decode_error='strict',\n",
       "        dtype=<class 'numpy.float64'>, encoding='utf-8', input='content',\n",
       "        lowercase=True, max_df=1.0, max_features=None, min_df=1,\n",
       "        ngram_range=(1, 1), norm='l2', preprocessor=None, smooth_idf=...        min_weight_fraction_leaf=0.0, presort=False, random_state=42,\n",
       "            splitter='best'))]),\n",
       "       fit_params=None, iid='warn', n_jobs=-1,\n",
       "       param_grid={'vectorizer__ngram_range': [(1, 1), (1, 2)], 'vectorizer__analyzer': ('word', 'char'), 'classifier__max_depth': [3, 5, 8, 10]},\n",
       "       pre_dispatch='2*n_jobs', refit=True, return_train_score='warn',\n",
       "       scoring='accuracy', verbose=0)"
      ]
     },
     "execution_count": 297,
     "metadata": {},
     "output_type": "execute_result"
    }
   ],
   "source": [
    "\n",
    "grid_search = GridSearchCV(pipeline, param_grid=grid, scoring='accuracy', n_jobs=-1, cv=5)\n",
    "grid_search.fit(X_train,Y_train)\n"
   ]
  },
  {
   "cell_type": "code",
   "execution_count": 298,
   "metadata": {},
   "outputs": [
    {
     "name": "stdout",
     "output_type": "stream",
     "text": [
      "Pipeline(memory=None,\n",
      "     steps=[('vectorizer', TfidfVectorizer(analyzer='word', binary=False, decode_error='strict',\n",
      "        dtype=<class 'numpy.float64'>, encoding='utf-8', input='content',\n",
      "        lowercase=True, max_df=1.0, max_features=None, min_df=1,\n",
      "        ngram_range=(1, 1), norm='l2', preprocessor=None, smooth_idf=...        min_weight_fraction_leaf=0.0, presort=False, random_state=42,\n",
      "            splitter='best'))]) \n",
      "\n",
      "\tclassifier__max_depth: 10\n",
      "\tvectorizer__analyzer: word\n",
      "\tvectorizer__ngram_range: (1, 1)\n"
     ]
    }
   ],
   "source": [
    "\n",
    "print(grid_search.best_estimator_,\"\\n\")\n",
    "\n",
    "best_parameters = grid_search.best_estimator_.get_params()\n",
    "for param_name in sorted(list(grid.keys())):\n",
    "    print(\"\\t{0}: {1}\".format(param_name, best_parameters[param_name]))\n"
   ]
  },
  {
   "cell_type": "code",
   "execution_count": 299,
   "metadata": {},
   "outputs": [
    {
     "name": "stdout",
     "output_type": "stream",
     "text": [
      "Confusion matrix \n",
      " [[79 10]\n",
      " [20 43]] \n",
      "\n",
      "Classification_report \n",
      "                precision    recall  f1-score   support\n",
      "\n",
      "           0       0.80      0.89      0.84        89\n",
      "           1       0.81      0.68      0.74        63\n",
      "\n",
      "   micro avg       0.80      0.80      0.80       152\n",
      "   macro avg       0.80      0.79      0.79       152\n",
      "weighted avg       0.80      0.80      0.80       152\n",
      " \n",
      "\n",
      "Train Accuracy 0.8947368421052632\n",
      "Test Accuracy: 0.8026315789473685\n",
      "roc_auc_score 0.7850900659889424\n"
     ]
    }
   ],
   "source": [
    "\n",
    "best_model = grid_search.best_estimator_\n",
    "y_pred=best_model.predict(X_test)\n",
    "\n",
    "confusion=confusion_matrix(Y_test, y_pred)\n",
    "report=classification_report(Y_test,y_pred)\n",
    "false_positive_rate, true_positive_rate, thresholds = roc_curve(Y_test, y_pred)\n",
    "roc_auc = auc(false_positive_rate, true_positive_rate)\n",
    "print(\"Confusion matrix \\n\",confusion,\"\\n\")\n",
    "print(\"Classification_report \\n \",report,\"\\n\")\n",
    "print(\"Train Accuracy\",accuracy_score(Y_train, best_model.predict(X_train)))\n",
    "print(\"Test Accuracy:\",accuracy_score(Y_test,y_pred))\n",
    "print(\"roc_auc_score\",roc_auc)"
   ]
  },
  {
   "cell_type": "code",
   "execution_count": 300,
   "metadata": {},
   "outputs": [
    {
     "data": {
      "image/png": "[encoded data removed]",
      "text/plain": [
       "<Figure size 432x288 with 2 Axes>"
      ]
     },
     "metadata": {
      "needs_background": "light"
     },
     "output_type": "display_data"
    }
   ],
   "source": [
    "#confusion matrix plot\n",
    "\n",
    "ax= plt.subplot()\n",
    "sns.heatmap(confusion, annot=True, ax = ax); #annot=True to annotate cells\n",
    "\n",
    "# labels, title and ticks\n",
    "ax.set_xlabel('Predicted labels');ax.set_ylabel('True labels'); \n",
    "ax.set_title('Confusion Matrix'); \n",
    "ax.xaxis.set_ticklabels(['real', 'fake']); ax.yaxis.set_ticklabels(['real', 'fake']);"
   ]
  },
  {
   "cell_type": "markdown",
   "metadata": {},
   "source": [
    "Exp4- Tf-Idf + Preprocessed text + Stemming "
   ]
  },
  {
   "cell_type": "code",
   "execution_count": 301,
   "metadata": {},
   "outputs": [],
   "source": [
    "\n",
    "\n",
    "x=df_balanced[\"Stemming\"]\n",
    "y=df_balanced['tag']\n",
    "\n",
    "X_train, X_test, Y_train, Y_test = model_selection.train_test_split( x, y, stratify=y, random_state=42,test_size=0.25)\n",
    "\n",
    "pipeline = Pipeline([\n",
    "    ('vectorizer',TfidfVectorizer(stop_words='english')),\n",
    "    ('classifier', DecisionTreeClassifier(random_state=42,class_weight={1:4,0:1}))])\n"
   ]
  },
  {
   "cell_type": "code",
   "execution_count": 302,
   "metadata": {},
   "outputs": [],
   "source": [
    "grid = {\n",
    "    'vectorizer__ngram_range': [(1, 1), (1, 2)],\n",
    "    'vectorizer__analyzer':('word', 'char'),\n",
    "    'classifier__max_depth':[3,5,8,10]\n",
    "}"
   ]
  },
  {
   "cell_type": "code",
   "execution_count": 303,
   "metadata": {},
   "outputs": [
    {
     "name": "stderr",
     "output_type": "stream",
     "text": [
      "/anaconda3/envs/TestYoutube/lib/python3.6/site-packages/sklearn/model_selection/_search.py:841: DeprecationWarning: The default of the `iid` parameter will change from True to False in version 0.22 and will be removed in 0.24. This will change numeric results when test-set sizes are unequal.\n",
      "  DeprecationWarning)\n"
     ]
    },
    {
     "data": {
      "text/plain": [
       "GridSearchCV(cv=5, error_score='raise-deprecating',\n",
       "       estimator=Pipeline(memory=None,\n",
       "     steps=[('vectorizer', TfidfVectorizer(analyzer='word', binary=False, decode_error='strict',\n",
       "        dtype=<class 'numpy.float64'>, encoding='utf-8', input='content',\n",
       "        lowercase=True, max_df=1.0, max_features=None, min_df=1,\n",
       "        ngram_range=(1, 1), norm='l2', preprocessor=None, smooth_idf=...        min_weight_fraction_leaf=0.0, presort=False, random_state=42,\n",
       "            splitter='best'))]),\n",
       "       fit_params=None, iid='warn', n_jobs=-1,\n",
       "       param_grid={'vectorizer__ngram_range': [(1, 1), (1, 2)], 'vectorizer__analyzer': ('word', 'char'), 'classifier__max_depth': [3, 5, 8, 10]},\n",
       "       pre_dispatch='2*n_jobs', refit=True, return_train_score='warn',\n",
       "       scoring='accuracy', verbose=0)"
      ]
     },
     "execution_count": 303,
     "metadata": {},
     "output_type": "execute_result"
    }
   ],
   "source": [
    "\n",
    "grid_search = GridSearchCV(pipeline, param_grid=grid, scoring='accuracy', n_jobs=-1, cv=5)\n",
    "grid_search.fit(X_train,Y_train)"
   ]
  },
  {
   "cell_type": "code",
   "execution_count": 304,
   "metadata": {},
   "outputs": [
    {
     "name": "stdout",
     "output_type": "stream",
     "text": [
      "Pipeline(memory=None,\n",
      "     steps=[('vectorizer', TfidfVectorizer(analyzer='word', binary=False, decode_error='strict',\n",
      "        dtype=<class 'numpy.float64'>, encoding='utf-8', input='content',\n",
      "        lowercase=True, max_df=1.0, max_features=None, min_df=1,\n",
      "        ngram_range=(1, 1), norm='l2', preprocessor=None, smooth_idf=...        min_weight_fraction_leaf=0.0, presort=False, random_state=42,\n",
      "            splitter='best'))]) \n",
      "\n",
      "\tclassifier__max_depth: 8\n",
      "\tvectorizer__analyzer: word\n",
      "\tvectorizer__ngram_range: (1, 1)\n"
     ]
    }
   ],
   "source": [
    "print(grid_search.best_estimator_,\"\\n\")\n",
    "\n",
    "best_parameters = grid_search.best_estimator_.get_params()\n",
    "for param_name in sorted(list(grid.keys())):\n",
    "    print(\"\\t{0}: {1}\".format(param_name, best_parameters[param_name]))\n",
    "\n"
   ]
  },
  {
   "cell_type": "code",
   "execution_count": 305,
   "metadata": {},
   "outputs": [
    {
     "name": "stdout",
     "output_type": "stream",
     "text": [
      "Confusion matrix \n",
      " [[84  5]\n",
      " [18 45]] \n",
      "\n",
      "Classification_report \n",
      "                precision    recall  f1-score   support\n",
      "\n",
      "           0       0.82      0.94      0.88        89\n",
      "           1       0.90      0.71      0.80        63\n",
      "\n",
      "   micro avg       0.85      0.85      0.85       152\n",
      "   macro avg       0.86      0.83      0.84       152\n",
      "weighted avg       0.86      0.85      0.85       152\n",
      " \n",
      "\n",
      "Train Accuracy 0.8991228070175439\n",
      "Test Accuracy: 0.8486842105263158\n",
      "roc_auc_score 0.8290529695024078\n"
     ]
    }
   ],
   "source": [
    "best_model = grid_search.best_estimator_\n",
    "y_pred=best_model.predict(X_test)\n",
    "\n",
    "confusion=confusion_matrix(Y_test, y_pred)\n",
    "report=classification_report(Y_test,y_pred)\n",
    "false_positive_rate, true_positive_rate, thresholds = roc_curve(Y_test, y_pred)\n",
    "roc_auc = auc(false_positive_rate, true_positive_rate)\n",
    "print(\"Confusion matrix \\n\",confusion,\"\\n\")\n",
    "print(\"Classification_report \\n \",report,\"\\n\")\n",
    "print(\"Train Accuracy\",accuracy_score(Y_train, best_model.predict(X_train)))\n",
    "print(\"Test Accuracy:\",accuracy_score(Y_test,y_pred))\n",
    "print(\"roc_auc_score\",roc_auc)"
   ]
  },
  {
   "cell_type": "code",
   "execution_count": 306,
   "metadata": {},
   "outputs": [
    {
     "data": {
      "image/png": "[encoded data removed]",
      "text/plain": [
       "<Figure size 432x288 with 2 Axes>"
      ]
     },
     "metadata": {
      "needs_background": "light"
     },
     "output_type": "display_data"
    }
   ],
   "source": [
    "#confusion matrix plot\n",
    "\n",
    "ax= plt.subplot()\n",
    "sns.heatmap(confusion, annot=True, ax = ax); #annot=True to annotate cells\n",
    "\n",
    "# labels, title and ticks\n",
    "ax.set_xlabel('Predicted labels');ax.set_ylabel('True labels'); \n",
    "ax.set_title('Confusion Matrix'); \n",
    "ax.xaxis.set_ticklabels(['real', 'fake']); ax.yaxis.set_ticklabels(['real', 'fake']);"
   ]
  },
  {
   "cell_type": "code",
   "execution_count": null,
   "metadata": {},
   "outputs": [],
   "source": []
  },
  {
   "cell_type": "markdown",
   "metadata": {},
   "source": [
    "# Kneighbors Classifier"
   ]
  },
  {
   "cell_type": "markdown",
   "metadata": {},
   "source": [
    "Exp1: Bow + Preprocessed text"
   ]
  },
  {
   "cell_type": "code",
   "execution_count": 307,
   "metadata": {},
   "outputs": [
    {
     "name": "stderr",
     "output_type": "stream",
     "text": [
      "/anaconda3/envs/TestYoutube/lib/python3.6/site-packages/sklearn/model_selection/_search.py:841: DeprecationWarning: The default of the `iid` parameter will change from True to False in version 0.22 and will be removed in 0.24. This will change numeric results when test-set sizes are unequal.\n",
      "  DeprecationWarning)\n"
     ]
    },
    {
     "data": {
      "text/plain": [
       "GridSearchCV(cv=5, error_score='raise-deprecating',\n",
       "       estimator=Pipeline(memory=None,\n",
       "     steps=[('vectorizer', CountVectorizer(analyzer='word', binary=False, decode_error='strict',\n",
       "        dtype=<class 'numpy.int64'>, encoding='utf-8', input='content',\n",
       "        lowercase=True, max_df=1.0, max_features=None, min_df=1,\n",
       "        ngram_range=(1, 1), preprocessor=None, stop_words='english',\n",
       "  ...ki',\n",
       "           metric_params=None, n_jobs=None, n_neighbors=5, p=2,\n",
       "           weights='uniform'))]),\n",
       "       fit_params=None, iid='warn', n_jobs=-1,\n",
       "       param_grid={'vectorizer__ngram_range': [(1, 1), (1, 2)], 'vectorizer__analyzer': ('word', 'char'), 'classifier__n_neighbors': range(1, 30)},\n",
       "       pre_dispatch='2*n_jobs', refit=True, return_train_score='warn',\n",
       "       scoring='accuracy', verbose=0)"
      ]
     },
     "execution_count": 307,
     "metadata": {},
     "output_type": "execute_result"
    }
   ],
   "source": [
    "x=df_balanced[\"strong_pro1\"]\n",
    "y=df_balanced['tag']\n",
    "\n",
    "X_train, X_test, Y_train, Y_test = model_selection.train_test_split( x, y, stratify=y, random_state=42,test_size=0.25)\n",
    "\n",
    "pipeline = Pipeline([\n",
    "    ('vectorizer',CountVectorizer(stop_words='english')),\n",
    "    ('classifier', KNeighborsClassifier())])\n",
    "\n",
    "grid = {\n",
    "    'vectorizer__ngram_range': [(1, 1), (1, 2)],\n",
    "    'vectorizer__analyzer':('word', 'char'),\n",
    "    'classifier__n_neighbors':range(1,30)\n",
    "}\n",
    "\n",
    "\n",
    "grid_search = GridSearchCV(pipeline, param_grid=grid, scoring='accuracy', n_jobs=-1, cv=5)\n",
    "grid_search.fit(X_train,Y_train)\n"
   ]
  },
  {
   "cell_type": "code",
   "execution_count": 308,
   "metadata": {},
   "outputs": [
    {
     "name": "stdout",
     "output_type": "stream",
     "text": [
      "Pipeline(memory=None,\n",
      "     steps=[('vectorizer', CountVectorizer(analyzer='word', binary=False, decode_error='strict',\n",
      "        dtype=<class 'numpy.int64'>, encoding='utf-8', input='content',\n",
      "        lowercase=True, max_df=1.0, max_features=None, min_df=1,\n",
      "        ngram_range=(1, 2), preprocessor=None, stop_words='english',\n",
      "  ...ki',\n",
      "           metric_params=None, n_jobs=None, n_neighbors=3, p=2,\n",
      "           weights='uniform'))]) \n",
      "\n",
      "\tclassifier__n_neighbors: 3\n",
      "\tvectorizer__analyzer: word\n",
      "\tvectorizer__ngram_range: (1, 2)\n"
     ]
    }
   ],
   "source": [
    "\n",
    "print(grid_search.best_estimator_,\"\\n\")\n",
    "\n",
    "best_parameters = grid_search.best_estimator_.get_params()\n",
    "for param_name in sorted(list(grid.keys())):\n",
    "    print(\"\\t{0}: {1}\".format(param_name, best_parameters[param_name]))\n",
    "\n",
    "best_model = grid_search.best_estimator_\n",
    "y_pred=best_model.predict(X_test)\n"
   ]
  },
  {
   "cell_type": "code",
   "execution_count": 309,
   "metadata": {},
   "outputs": [
    {
     "name": "stdout",
     "output_type": "stream",
     "text": [
      "Confusion matrix \n",
      " [[86  3]\n",
      " [ 9 54]] \n",
      "\n",
      "Classification_report \n",
      "                precision    recall  f1-score   support\n",
      "\n",
      "           0       0.91      0.97      0.93        89\n",
      "           1       0.95      0.86      0.90        63\n",
      "\n",
      "   micro avg       0.92      0.92      0.92       152\n",
      "   macro avg       0.93      0.91      0.92       152\n",
      "weighted avg       0.92      0.92      0.92       152\n",
      " \n",
      "\n",
      "Train Accuracy 0.9605263157894737\n",
      "Test Accuracy: 0.9210526315789473\n",
      "roc_auc_score 0.911717495987159\n"
     ]
    }
   ],
   "source": [
    "\n",
    "confusion=confusion_matrix(Y_test, y_pred)\n",
    "report=classification_report(Y_test,y_pred)\n",
    "false_positive_rate, true_positive_rate, thresholds = roc_curve(Y_test, y_pred)\n",
    "roc_auc = auc(false_positive_rate, true_positive_rate)\n",
    "print(\"Confusion matrix \\n\",confusion,\"\\n\")\n",
    "print(\"Classification_report \\n \",report,\"\\n\")\n",
    "print(\"Train Accuracy\",accuracy_score(Y_train, best_model.predict(X_train)))\n",
    "print(\"Test Accuracy:\",accuracy_score(Y_test,y_pred))\n",
    "print(\"roc_auc_score\",roc_auc)"
   ]
  },
  {
   "cell_type": "code",
   "execution_count": null,
   "metadata": {},
   "outputs": [],
   "source": []
  },
  {
   "cell_type": "code",
   "execution_count": 310,
   "metadata": {},
   "outputs": [
    {
     "name": "stdout",
     "output_type": "stream",
     "text": [
      "0.6052631578947368\n",
      "0.9276315789473685\n",
      "0.9210526315789473\n",
      "0.8289473684210527\n",
      "0.8157894736842105\n",
      "0.756578947368421\n",
      "0.7960526315789473\n",
      "0.75\n",
      "0.7894736842105263\n",
      "0.75\n",
      "0.75\n",
      "0.6973684210526315\n",
      "0.6973684210526315\n",
      "0.6842105263157895\n",
      "0.6842105263157895\n",
      "0.6578947368421053\n",
      "0.6578947368421053\n",
      "0.6644736842105263\n",
      "0.6644736842105263\n",
      "0.6644736842105263\n",
      "0.6578947368421053\n",
      "0.6578947368421053\n",
      "0.6578947368421053\n",
      "0.6513157894736842\n",
      "0.6578947368421053\n",
      "0.6578947368421053\n",
      "0.6578947368421053\n",
      "0.618421052631579\n",
      "0.6381578947368421\n"
     ]
    }
   ],
   "source": [
    "# plot represents the classifier accuracy and shows that the highest accuracy is as shown by gridSearchCv\n",
    "K_rang=range(1,30)\n",
    "K_score=[]\n",
    "for k in K_rang:\n",
    "    pipelineTf_Idf = Pipeline([\n",
    "    ('vectorizer',CountVectorizer(stop_words='english',analyzer='word',ngram_range=(1, 2))),\n",
    "    ('classifier', KNeighborsClassifier(k))])\n",
    "    \n",
    "    model=pipelineTf_Idf.fit(X_train,Y_train)\n",
    "    y_pred = model.predict(X_test)\n",
    "\n",
    "    K_score.append(accuracy_score(Y_test, y_pred))\n",
    "for i in K_score:\n",
    "    print(i)"
   ]
  },
  {
   "cell_type": "code",
   "execution_count": null,
   "metadata": {},
   "outputs": [],
   "source": []
  },
  {
   "cell_type": "code",
   "execution_count": 311,
   "metadata": {
    "scrolled": true
   },
   "outputs": [
    {
     "data": {
      "text/plain": [
       "Text(0, 0.5, 'cross-valdition Accuracy')"
      ]
     },
     "execution_count": 311,
     "metadata": {},
     "output_type": "execute_result"
    },
    {
     "data": {
      "image/png": "[encoded data removed]",
      "text/plain": [
       "<Figure size 432x288 with 1 Axes>"
      ]
     },
     "metadata": {
      "needs_background": "light"
     },
     "output_type": "display_data"
    }
   ],
   "source": [
    "\n",
    "#polt the value of K for KNN\n",
    "plt.plot(K_rang,K_score)\n",
    "plt.xlabel(\"value of k for knn\")\n",
    "plt.ylabel(\"cross-valdition Accuracy\")\n",
    "\n"
   ]
  },
  {
   "cell_type": "code",
   "execution_count": 312,
   "metadata": {},
   "outputs": [
    {
     "data": {
      "image/png": "[encoded data removed]",
      "text/plain": [
       "<Figure size 432x288 with 2 Axes>"
      ]
     },
     "metadata": {
      "needs_background": "light"
     },
     "output_type": "display_data"
    }
   ],
   "source": [
    "#confusion matrix plot\n",
    "\n",
    "ax= plt.subplot()\n",
    "sns.heatmap(confusion, annot=True, ax = ax); #annot=True to annotate cells\n",
    "\n",
    "# labels, title and ticks\n",
    "ax.set_xlabel('Predicted labels');ax.set_ylabel('True labels'); \n",
    "ax.set_title('Confusion Matrix'); \n",
    "ax.xaxis.set_ticklabels(['real', 'fake']); ax.yaxis.set_ticklabels(['real', 'fake']);"
   ]
  },
  {
   "cell_type": "code",
   "execution_count": null,
   "metadata": {},
   "outputs": [],
   "source": []
  },
  {
   "cell_type": "code",
   "execution_count": null,
   "metadata": {},
   "outputs": [],
   "source": []
  },
  {
   "cell_type": "markdown",
   "metadata": {},
   "source": [
    "Exp2: Bow + Preprocessed text +Stemming\n"
   ]
  },
  {
   "cell_type": "code",
   "execution_count": 272,
   "metadata": {},
   "outputs": [],
   "source": [
    "x=df_balanced[\"Stemming\"]\n",
    "y=df_balanced['tag']\n",
    "\n",
    "X_train, X_test, Y_train, Y_test = model_selection.train_test_split( x, y, stratify=y, random_state=42,test_size=0.25)\n",
    "\n",
    "pipeline = Pipeline([\n",
    "    ('vectorizer',CountVectorizer(stop_words='english')),\n",
    "    ('classifier', KNeighborsClassifier())])\n"
   ]
  },
  {
   "cell_type": "code",
   "execution_count": 273,
   "metadata": {},
   "outputs": [],
   "source": [
    "grid = {\n",
    "    'vectorizer__ngram_range': [(1, 1), (1, 2)],\n",
    "    'vectorizer__analyzer':('word', 'char'),\n",
    "    'classifier__n_neighbors':range(1,30)\n",
    "}"
   ]
  },
  {
   "cell_type": "code",
   "execution_count": 274,
   "metadata": {},
   "outputs": [
    {
     "name": "stderr",
     "output_type": "stream",
     "text": [
      "/anaconda3/envs/TestYoutube/lib/python3.6/site-packages/sklearn/model_selection/_search.py:841: DeprecationWarning: The default of the `iid` parameter will change from True to False in version 0.22 and will be removed in 0.24. This will change numeric results when test-set sizes are unequal.\n",
      "  DeprecationWarning)\n"
     ]
    },
    {
     "data": {
      "text/plain": [
       "GridSearchCV(cv=5, error_score='raise-deprecating',\n",
       "       estimator=Pipeline(memory=None,\n",
       "     steps=[('vectorizer', CountVectorizer(analyzer='word', binary=False, decode_error='strict',\n",
       "        dtype=<class 'numpy.int64'>, encoding='utf-8', input='content',\n",
       "        lowercase=True, max_df=1.0, max_features=None, min_df=1,\n",
       "        ngram_range=(1, 1), preprocessor=None, stop_words='english',\n",
       "  ...ki',\n",
       "           metric_params=None, n_jobs=None, n_neighbors=5, p=2,\n",
       "           weights='uniform'))]),\n",
       "       fit_params=None, iid='warn', n_jobs=-1,\n",
       "       param_grid={'vectorizer__ngram_range': [(1, 1), (1, 2)], 'vectorizer__analyzer': ('word', 'char'), 'classifier__n_neighbors': range(1, 50)},\n",
       "       pre_dispatch='2*n_jobs', refit=True, return_train_score='warn',\n",
       "       scoring='accuracy', verbose=0)"
      ]
     },
     "execution_count": 274,
     "metadata": {},
     "output_type": "execute_result"
    }
   ],
   "source": [
    "grid_search = GridSearchCV(pipeline, param_grid=grid, scoring='accuracy', n_jobs=-1, cv=5)\n",
    "grid_search.fit(X_train,Y_train)"
   ]
  },
  {
   "cell_type": "code",
   "execution_count": 275,
   "metadata": {},
   "outputs": [
    {
     "name": "stdout",
     "output_type": "stream",
     "text": [
      "Pipeline(memory=None,\n",
      "     steps=[('vectorizer', CountVectorizer(analyzer='word', binary=False, decode_error='strict',\n",
      "        dtype=<class 'numpy.int64'>, encoding='utf-8', input='content',\n",
      "        lowercase=True, max_df=1.0, max_features=None, min_df=1,\n",
      "        ngram_range=(1, 2), preprocessor=None, stop_words='english',\n",
      "  ...ki',\n",
      "           metric_params=None, n_jobs=None, n_neighbors=2, p=2,\n",
      "           weights='uniform'))]) \n",
      "\n",
      "\tclassifier__n_neighbors: 2\n",
      "\tvectorizer__analyzer: word\n",
      "\tvectorizer__ngram_range: (1, 2)\n"
     ]
    }
   ],
   "source": [
    "print(grid_search.best_estimator_,\"\\n\")\n",
    "\n",
    "best_parameters = grid_search.best_estimator_.get_params()\n",
    "for param_name in sorted(list(grid.keys())):\n",
    "    print(\"\\t{0}: {1}\".format(param_name, best_parameters[param_name]))\n",
    "\n",
    "best_model = grid_search.best_estimator_\n",
    "y_pred=best_model.predict(X_test)\n"
   ]
  },
  {
   "cell_type": "code",
   "execution_count": 276,
   "metadata": {},
   "outputs": [
    {
     "name": "stdout",
     "output_type": "stream",
     "text": [
      "Confusion matrix \n",
      " [[87  2]\n",
      " [ 9 54]] \n",
      "\n",
      "Classification_report \n",
      "                precision    recall  f1-score   support\n",
      "\n",
      "           0       0.91      0.98      0.94        89\n",
      "           1       0.96      0.86      0.91        63\n",
      "\n",
      "   micro avg       0.93      0.93      0.93       152\n",
      "   macro avg       0.94      0.92      0.92       152\n",
      "weighted avg       0.93      0.93      0.93       152\n",
      " \n",
      "\n",
      "Train Accuracy 0.9912280701754386\n",
      "Test Accuracy: 0.9276315789473685\n",
      "roc_auc_score 0.9173354735152488\n"
     ]
    }
   ],
   "source": [
    "\n",
    "confusion=confusion_matrix(Y_test, y_pred)\n",
    "report=classification_report(Y_test,y_pred)\n",
    "false_positive_rate, true_positive_rate, thresholds = roc_curve(Y_test, y_pred)\n",
    "roc_auc = auc(false_positive_rate, true_positive_rate)\n",
    "print(\"Confusion matrix \\n\",confusion,\"\\n\")\n",
    "print(\"Classification_report \\n \",report,\"\\n\")\n",
    "\n",
    "print(\"Train Accuracy\",accuracy_score(Y_train, best_model.predict(X_train)))\n",
    "print(\"Test Accuracy:\",accuracy_score(Y_test,y_pred))\n",
    "print(\"roc_auc_score\",roc_auc)"
   ]
  },
  {
   "cell_type": "code",
   "execution_count": null,
   "metadata": {},
   "outputs": [],
   "source": []
  },
  {
   "cell_type": "code",
   "execution_count": 277,
   "metadata": {},
   "outputs": [
    {
     "name": "stdout",
     "output_type": "stream",
     "text": [
      "0.6578947368421053\n",
      "0.9276315789473685\n",
      "0.9144736842105263\n",
      "0.8421052631578947\n",
      "0.8289473684210527\n",
      "0.743421052631579\n",
      "0.7828947368421053\n",
      "0.7631578947368421\n",
      "0.7697368421052632\n",
      "0.7631578947368421\n",
      "0.7631578947368421\n",
      "0.7171052631578947\n",
      "0.7302631578947368\n",
      "0.6842105263157895\n",
      "0.7105263157894737\n",
      "0.6710526315789473\n",
      "0.6842105263157895\n",
      "0.6578947368421053\n",
      "0.6513157894736842\n",
      "0.6578947368421053\n",
      "0.6578947368421053\n",
      "0.6578947368421053\n",
      "0.6578947368421053\n",
      "0.6578947368421053\n",
      "0.6578947368421053\n",
      "0.6578947368421053\n",
      "0.6578947368421053\n",
      "0.6578947368421053\n",
      "0.6578947368421053\n"
     ]
    }
   ],
   "source": [
    "# plot represents the classifier accuracy and shows that the highest accuracy is as shown by gridSearchCv\n",
    "K_rang=range(1,30)\n",
    "K_score=[]\n",
    "for k in K_rang:\n",
    "    pipelineTf_Idf = Pipeline([\n",
    "    ('vectorizer',CountVectorizer(stop_words='english',analyzer='word',ngram_range=(1, 2))),\n",
    "    ('classifier', KNeighborsClassifier(k))])\n",
    "    \n",
    "    model=pipelineTf_Idf.fit(X_train,Y_train)\n",
    "    y_pred = model.predict(X_test)\n",
    "\n",
    "    K_score.append(accuracy_score(Y_test, y_pred))\n",
    "for i in K_score:\n",
    "    print(i)"
   ]
  },
  {
   "cell_type": "code",
   "execution_count": null,
   "metadata": {},
   "outputs": [],
   "source": []
  },
  {
   "cell_type": "code",
   "execution_count": 278,
   "metadata": {
    "scrolled": true
   },
   "outputs": [
    {
     "data": {
      "text/plain": [
       "Text(0, 0.5, 'cross-valdition Accuracy')"
      ]
     },
     "execution_count": 278,
     "metadata": {},
     "output_type": "execute_result"
    },
    {
     "data": {
      "image/png": "[encoded data removed]",
      "text/plain": [
       "<Figure size 432x288 with 1 Axes>"
      ]
     },
     "metadata": {
      "needs_background": "light"
     },
     "output_type": "display_data"
    }
   ],
   "source": [
    "\n",
    "#polt the value of K for KNN\n",
    "plt.plot(K_rang,K_score)\n",
    "plt.xlabel(\"value of k for knn\")\n",
    "plt.ylabel(\"cross-valdition Accuracy\")\n",
    "\n"
   ]
  },
  {
   "cell_type": "code",
   "execution_count": 279,
   "metadata": {},
   "outputs": [
    {
     "data": {
      "image/png": "[encoded data removed]",
      "text/plain": [
       "<Figure size 432x288 with 2 Axes>"
      ]
     },
     "metadata": {
      "needs_background": "light"
     },
     "output_type": "display_data"
    }
   ],
   "source": [
    "#confusion matrix plot\n",
    "\n",
    "ax= plt.subplot()\n",
    "sns.heatmap(confusion, annot=True, ax = ax); #annot=True to annotate cells\n",
    "\n",
    "# labels, title and ticks\n",
    "ax.set_xlabel('Predicted labels');ax.set_ylabel('True labels'); \n",
    "ax.set_title('Confusion Matrix'); \n",
    "ax.xaxis.set_ticklabels(['real', 'fake']); ax.yaxis.set_ticklabels(['real', 'fake']);"
   ]
  },
  {
   "cell_type": "code",
   "execution_count": null,
   "metadata": {},
   "outputs": [],
   "source": []
  },
  {
   "cell_type": "markdown",
   "metadata": {},
   "source": [
    "Exp3- Tf-Idf+ Preprocessed text \n"
   ]
  },
  {
   "cell_type": "code",
   "execution_count": 313,
   "metadata": {},
   "outputs": [],
   "source": [
    "\n",
    "x=df_balanced[\"strong_pro1\"]\n",
    "y=df_balanced['tag']\n",
    "\n",
    "X_train, X_test, Y_train, Y_test = model_selection.train_test_split( x, y, stratify=y, random_state=42,test_size=0.25)\n",
    "\n",
    "pipeline = Pipeline([\n",
    "    ('vectorizer',TfidfVectorizer(stop_words='english')),\n",
    "    ('classifier', KNeighborsClassifier())])\n"
   ]
  },
  {
   "cell_type": "code",
   "execution_count": 314,
   "metadata": {},
   "outputs": [],
   "source": [
    "grid = {\n",
    "    'vectorizer__ngram_range': [(1, 1), (1, 2)],\n",
    "    'vectorizer__analyzer':('word', 'char'),\n",
    "    'classifier__n_neighbors':range(1,30)\n",
    "}"
   ]
  },
  {
   "cell_type": "code",
   "execution_count": 315,
   "metadata": {},
   "outputs": [
    {
     "name": "stderr",
     "output_type": "stream",
     "text": [
      "/anaconda3/envs/TestYoutube/lib/python3.6/site-packages/sklearn/model_selection/_search.py:841: DeprecationWarning: The default of the `iid` parameter will change from True to False in version 0.22 and will be removed in 0.24. This will change numeric results when test-set sizes are unequal.\n",
      "  DeprecationWarning)\n"
     ]
    },
    {
     "data": {
      "text/plain": [
       "GridSearchCV(cv=5, error_score='raise-deprecating',\n",
       "       estimator=Pipeline(memory=None,\n",
       "     steps=[('vectorizer', TfidfVectorizer(analyzer='word', binary=False, decode_error='strict',\n",
       "        dtype=<class 'numpy.float64'>, encoding='utf-8', input='content',\n",
       "        lowercase=True, max_df=1.0, max_features=None, min_df=1,\n",
       "        ngram_range=(1, 1), norm='l2', preprocessor=None, smooth_idf=...ki',\n",
       "           metric_params=None, n_jobs=None, n_neighbors=5, p=2,\n",
       "           weights='uniform'))]),\n",
       "       fit_params=None, iid='warn', n_jobs=-1,\n",
       "       param_grid={'vectorizer__ngram_range': [(1, 1), (1, 2)], 'vectorizer__analyzer': ('word', 'char'), 'classifier__n_neighbors': range(1, 30)},\n",
       "       pre_dispatch='2*n_jobs', refit=True, return_train_score='warn',\n",
       "       scoring='accuracy', verbose=0)"
      ]
     },
     "execution_count": 315,
     "metadata": {},
     "output_type": "execute_result"
    }
   ],
   "source": [
    "\n",
    "grid_search = GridSearchCV(pipeline, param_grid=grid, scoring='accuracy', n_jobs=-1, cv=5)\n",
    "grid_search.fit(X_train,Y_train)\n"
   ]
  },
  {
   "cell_type": "code",
   "execution_count": 316,
   "metadata": {},
   "outputs": [
    {
     "name": "stdout",
     "output_type": "stream",
     "text": [
      "Pipeline(memory=None,\n",
      "     steps=[('vectorizer', TfidfVectorizer(analyzer='word', binary=False, decode_error='strict',\n",
      "        dtype=<class 'numpy.float64'>, encoding='utf-8', input='content',\n",
      "        lowercase=True, max_df=1.0, max_features=None, min_df=1,\n",
      "        ngram_range=(1, 1), norm='l2', preprocessor=None, smooth_idf=...ki',\n",
      "           metric_params=None, n_jobs=None, n_neighbors=1, p=2,\n",
      "           weights='uniform'))]) \n",
      "\n",
      "\tclassifier__n_neighbors: 1\n",
      "\tvectorizer__analyzer: word\n",
      "\tvectorizer__ngram_range: (1, 1)\n"
     ]
    }
   ],
   "source": [
    "\n",
    "print(grid_search.best_estimator_,\"\\n\")\n",
    "\n",
    "best_parameters = grid_search.best_estimator_.get_params()\n",
    "for param_name in sorted(list(grid.keys())):\n",
    "    print(\"\\t{0}: {1}\".format(param_name, best_parameters[param_name]))\n"
   ]
  },
  {
   "cell_type": "code",
   "execution_count": 317,
   "metadata": {},
   "outputs": [
    {
     "name": "stdout",
     "output_type": "stream",
     "text": [
      "Confusion matrix \n",
      " [[79 10]\n",
      " [ 5 58]] \n",
      "\n",
      "Classification_report \n",
      "                precision    recall  f1-score   support\n",
      "\n",
      "           0       0.94      0.89      0.91        89\n",
      "           1       0.85      0.92      0.89        63\n",
      "\n",
      "   micro avg       0.90      0.90      0.90       152\n",
      "   macro avg       0.90      0.90      0.90       152\n",
      "weighted avg       0.90      0.90      0.90       152\n",
      " \n",
      "\n",
      "Train Accuracy 0.9956140350877193\n",
      "Test Accuracy: 0.9013157894736842\n",
      "roc_auc_score 0.9041376850365613\n"
     ]
    }
   ],
   "source": [
    "\n",
    "best_model = grid_search.best_estimator_\n",
    "y_pred=best_model.predict(X_test)\n",
    "\n",
    "confusion=confusion_matrix(Y_test, y_pred)\n",
    "report=classification_report(Y_test,y_pred)\n",
    "false_positive_rate, true_positive_rate, thresholds = roc_curve(Y_test, y_pred)\n",
    "roc_auc = auc(false_positive_rate, true_positive_rate)\n",
    "print(\"Confusion matrix \\n\",confusion,\"\\n\")\n",
    "print(\"Classification_report \\n \",report,\"\\n\")\n",
    "print(\"Train Accuracy\",accuracy_score(Y_train, best_model.predict(X_train)))\n",
    "print(\"Test Accuracy:\",accuracy_score(Y_test,y_pred))\n",
    "print(\"roc_auc_score\",roc_auc)"
   ]
  },
  {
   "cell_type": "code",
   "execution_count": null,
   "metadata": {},
   "outputs": [],
   "source": []
  },
  {
   "cell_type": "code",
   "execution_count": 321,
   "metadata": {},
   "outputs": [
    {
     "name": "stdout",
     "output_type": "stream",
     "text": [
      "0.6644736842105263\n",
      "0.9078947368421053\n",
      "0.8947368421052632\n",
      "0.8355263157894737\n",
      "0.8223684210526315\n",
      "0.8092105263157895\n",
      "0.8289473684210527\n",
      "0.7960526315789473\n",
      "0.8026315789473685\n",
      "0.756578947368421\n",
      "0.7697368421052632\n",
      "0.743421052631579\n",
      "0.743421052631579\n",
      "0.7302631578947368\n",
      "0.7368421052631579\n",
      "0.7039473684210527\n",
      "0.6973684210526315\n",
      "0.6776315789473685\n",
      "0.6776315789473685\n",
      "0.6644736842105263\n",
      "0.6776315789473685\n",
      "0.6644736842105263\n",
      "0.6644736842105263\n",
      "0.6644736842105263\n",
      "0.6644736842105263\n",
      "0.6578947368421053\n",
      "0.6710526315789473\n",
      "0.6644736842105263\n",
      "0.6644736842105263\n"
     ]
    }
   ],
   "source": [
    "# plot represents the classifier accuracy and shows that the highest accuracy is as shown by gridSearchCv\n",
    "K_rang=range(1,30)\n",
    "K_score=[]\n",
    "for k in K_rang:\n",
    "    pipelineTf_Idf = Pipeline([\n",
    "    ('vectorizer',CountVectorizer(stop_words='english',analyzer='word',ngram_range=(1, 1))),\n",
    "    ('classifier', KNeighborsClassifier(k))])\n",
    "    \n",
    "    model=pipelineTf_Idf.fit(X_train,Y_train)\n",
    "    y_pred = model.predict(X_test)\n",
    "\n",
    "    K_score.append(accuracy_score(Y_test, y_pred))\n",
    "for i in K_score:\n",
    "    print(i)"
   ]
  },
  {
   "cell_type": "code",
   "execution_count": 322,
   "metadata": {},
   "outputs": [
    {
     "data": {
      "text/plain": [
       "Text(0, 0.5, 'cross-valdition Accuracy')"
      ]
     },
     "execution_count": 322,
     "metadata": {},
     "output_type": "execute_result"
    },
    {
     "data": {
      "image/png": "[encoded data removed]",
      "text/plain": [
       "<Figure size 432x288 with 1 Axes>"
      ]
     },
     "metadata": {
      "needs_background": "light"
     },
     "output_type": "display_data"
    }
   ],
   "source": [
    "\n",
    "#polt the value of K for KNN\n",
    "plt.plot(K_rang,K_score)\n",
    "plt.xlabel(\"value of k for knn\")\n",
    "plt.ylabel(\"cross-valdition Accuracy\")\n",
    "\n",
    "\n"
   ]
  },
  {
   "cell_type": "code",
   "execution_count": 318,
   "metadata": {
    "scrolled": true
   },
   "outputs": [
    {
     "data": {
      "image/png": "[encoded data removed]",
      "text/plain": [
       "<Figure size 432x288 with 2 Axes>"
      ]
     },
     "metadata": {
      "needs_background": "light"
     },
     "output_type": "display_data"
    }
   ],
   "source": [
    "#confusion matrix plot\n",
    "\n",
    "ax= plt.subplot()\n",
    "sns.heatmap(confusion, annot=True, ax = ax); #annot=True to annotate cells\n",
    "\n",
    "# labels, title and ticks\n",
    "ax.set_xlabel('Predicted labels');ax.set_ylabel('True labels'); \n",
    "ax.set_title('Confusion Matrix'); \n",
    "ax.xaxis.set_ticklabels(['real', 'fake']); ax.yaxis.set_ticklabels(['real', 'fake']);"
   ]
  },
  {
   "cell_type": "code",
   "execution_count": null,
   "metadata": {},
   "outputs": [],
   "source": []
  },
  {
   "cell_type": "markdown",
   "metadata": {},
   "source": [
    "Exp4- Tf-Idf + Preprocessed text + Stemming"
   ]
  },
  {
   "cell_type": "code",
   "execution_count": 324,
   "metadata": {},
   "outputs": [],
   "source": [
    "\n",
    "x=df_balanced[\"Stemming\"]\n",
    "y=df_balanced['tag']\n",
    "\n",
    "X_train, X_test, Y_train, Y_test = model_selection.train_test_split( x, y, stratify=y, random_state=42,test_size=0.25)\n",
    "\n",
    "pipeline = Pipeline([\n",
    "    ('vectorizer',TfidfVectorizer(stop_words='english')),\n",
    "    ('classifier', KNeighborsClassifier())])\n"
   ]
  },
  {
   "cell_type": "code",
   "execution_count": 325,
   "metadata": {},
   "outputs": [],
   "source": [
    "grid = {\n",
    "    'vectorizer__ngram_range': [(1, 1), (1, 2)],\n",
    "    'vectorizer__analyzer':('word', 'char'),\n",
    "    'classifier__n_neighbors':range(1,30)\n",
    "}"
   ]
  },
  {
   "cell_type": "code",
   "execution_count": 326,
   "metadata": {},
   "outputs": [
    {
     "data": {
      "text/plain": [
       "GridSearchCV(cv=5, error_score='raise-deprecating',\n",
       "       estimator=Pipeline(memory=None,\n",
       "     steps=[('vectorizer', TfidfVectorizer(analyzer='word', binary=False, decode_error='strict',\n",
       "        dtype=<class 'numpy.float64'>, encoding='utf-8', input='content',\n",
       "        lowercase=True, max_df=1.0, max_features=None, min_df=1,\n",
       "        ngram_range=(1, 1), norm='l2', preprocessor=None, smooth_idf=...ki',\n",
       "           metric_params=None, n_jobs=None, n_neighbors=5, p=2,\n",
       "           weights='uniform'))]),\n",
       "       fit_params=None, iid='warn', n_jobs=-1,\n",
       "       param_grid={'vectorizer__ngram_range': [(1, 1), (1, 2)], 'vectorizer__analyzer': ('word', 'char'), 'classifier__n_neighbors': range(1, 30)},\n",
       "       pre_dispatch='2*n_jobs', refit=True, return_train_score='warn',\n",
       "       scoring='accuracy', verbose=0)"
      ]
     },
     "execution_count": 326,
     "metadata": {},
     "output_type": "execute_result"
    }
   ],
   "source": [
    "\n",
    "grid_search = GridSearchCV(pipeline, param_grid=grid, scoring='accuracy', n_jobs=-1, cv=5)\n",
    "grid_search.fit(X_train,Y_train)\n"
   ]
  },
  {
   "cell_type": "code",
   "execution_count": 327,
   "metadata": {},
   "outputs": [
    {
     "name": "stdout",
     "output_type": "stream",
     "text": [
      "Pipeline(memory=None,\n",
      "     steps=[('vectorizer', TfidfVectorizer(analyzer='word', binary=False, decode_error='strict',\n",
      "        dtype=<class 'numpy.float64'>, encoding='utf-8', input='content',\n",
      "        lowercase=True, max_df=1.0, max_features=None, min_df=1,\n",
      "        ngram_range=(1, 1), norm='l2', preprocessor=None, smooth_idf=...ki',\n",
      "           metric_params=None, n_jobs=None, n_neighbors=1, p=2,\n",
      "           weights='uniform'))]) \n",
      "\n",
      "\tclassifier__n_neighbors: 1\n",
      "\tvectorizer__analyzer: word\n",
      "\tvectorizer__ngram_range: (1, 1)\n"
     ]
    }
   ],
   "source": [
    "\n",
    "print(grid_search.best_estimator_,\"\\n\")\n",
    "\n",
    "best_parameters = grid_search.best_estimator_.get_params()\n",
    "for param_name in sorted(list(grid.keys())):\n",
    "    print(\"\\t{0}: {1}\".format(param_name, best_parameters[param_name]))\n"
   ]
  },
  {
   "cell_type": "code",
   "execution_count": 328,
   "metadata": {},
   "outputs": [
    {
     "name": "stdout",
     "output_type": "stream",
     "text": [
      "Confusion matrix \n",
      " [[79 10]\n",
      " [ 5 58]] \n",
      "\n",
      "Classification_report \n",
      "                precision    recall  f1-score   support\n",
      "\n",
      "           0       0.94      0.89      0.91        89\n",
      "           1       0.85      0.92      0.89        63\n",
      "\n",
      "   micro avg       0.90      0.90      0.90       152\n",
      "   macro avg       0.90      0.90      0.90       152\n",
      "weighted avg       0.90      0.90      0.90       152\n",
      " \n",
      "\n",
      "Train Accuracy 0.9956140350877193\n",
      "Test Accuracy: 0.9013157894736842\n",
      "roc_auc_score 0.9041376850365613\n"
     ]
    }
   ],
   "source": [
    "\n",
    "best_model = grid_search.best_estimator_\n",
    "y_pred=best_model.predict(X_test)\n",
    "\n",
    "confusion=confusion_matrix(Y_test, y_pred)\n",
    "report=classification_report(Y_test,y_pred)\n",
    "false_positive_rate, true_positive_rate, thresholds = roc_curve(Y_test, y_pred)\n",
    "roc_auc = auc(false_positive_rate, true_positive_rate)\n",
    "print(\"Confusion matrix \\n\",confusion,\"\\n\")\n",
    "print(\"Classification_report \\n \",report,\"\\n\")\n",
    "print(\"Train Accuracy\",accuracy_score(Y_train, best_model.predict(X_train)))\n",
    "print(\"Test Accuracy:\",accuracy_score(Y_test,y_pred))\n",
    "print(\"roc_auc_score\",roc_auc)"
   ]
  },
  {
   "cell_type": "code",
   "execution_count": null,
   "metadata": {},
   "outputs": [],
   "source": []
  },
  {
   "cell_type": "code",
   "execution_count": 329,
   "metadata": {},
   "outputs": [
    {
     "name": "stdout",
     "output_type": "stream",
     "text": [
      "0.75\n",
      "0.9276315789473685\n",
      "0.9078947368421053\n",
      "0.8289473684210527\n",
      "0.8355263157894737\n",
      "0.8092105263157895\n",
      "0.8157894736842105\n",
      "0.7894736842105263\n",
      "0.7960526315789473\n",
      "0.7631578947368421\n",
      "0.7697368421052632\n",
      "0.7631578947368421\n",
      "0.7828947368421053\n",
      "0.7368421052631579\n",
      "0.743421052631579\n",
      "0.7105263157894737\n",
      "0.7171052631578947\n",
      "0.7039473684210527\n",
      "0.7039473684210527\n",
      "0.7039473684210527\n",
      "0.7105263157894737\n",
      "0.6842105263157895\n",
      "0.6973684210526315\n",
      "0.6710526315789473\n",
      "0.6710526315789473\n",
      "0.6644736842105263\n",
      "0.6710526315789473\n",
      "0.6644736842105263\n",
      "0.6644736842105263\n"
     ]
    }
   ],
   "source": [
    "# plot represents the classifier accuracy and shows that the highest accuracy is as shown by gridSearchCv\n",
    "K_rang=range(1,30)\n",
    "K_score=[]\n",
    "for k in K_rang:\n",
    "    pipelineTf_Idf = Pipeline([\n",
    "    ('vectorizer',CountVectorizer(stop_words='english',analyzer='word',ngram_range=(1, 1))),\n",
    "    ('classifier', KNeighborsClassifier(k))])\n",
    "    \n",
    "    model=pipelineTf_Idf.fit(X_train,Y_train)\n",
    "    y_pred = model.predict(X_test)\n",
    "\n",
    "    K_score.append(accuracy_score(Y_test, y_pred))\n",
    "for i in K_score:\n",
    "    print(i)"
   ]
  },
  {
   "cell_type": "code",
   "execution_count": 330,
   "metadata": {},
   "outputs": [
    {
     "data": {
      "text/plain": [
       "Text(0, 0.5, 'cross-valdition Accuracy')"
      ]
     },
     "execution_count": 330,
     "metadata": {},
     "output_type": "execute_result"
    },
    {
     "data": {
      "image/png": "[encoded data removed]",
      "text/plain": [
       "<Figure size 432x288 with 1 Axes>"
      ]
     },
     "metadata": {
      "needs_background": "light"
     },
     "output_type": "display_data"
    }
   ],
   "source": [
    "\n",
    "#polt the value of K for KNN\n",
    "plt.plot(K_rang,K_score)\n",
    "plt.xlabel(\"value of k for knn\")\n",
    "plt.ylabel(\"cross-valdition Accuracy\")\n",
    "\n",
    "\n"
   ]
  },
  {
   "cell_type": "code",
   "execution_count": 331,
   "metadata": {
    "scrolled": true
   },
   "outputs": [
    {
     "data": {
      "image/png": "[encoded data removed]",
      "text/plain": [
       "<Figure size 432x288 with 2 Axes>"
      ]
     },
     "metadata": {
      "needs_background": "light"
     },
     "output_type": "display_data"
    }
   ],
   "source": [
    "#confusion matrix plot\n",
    "\n",
    "ax= plt.subplot()\n",
    "sns.heatmap(confusion, annot=True, ax = ax); #annot=True to annotate cells\n",
    "\n",
    "# labels, title and ticks\n",
    "ax.set_xlabel('Predicted labels');ax.set_ylabel('True labels'); \n",
    "ax.set_title('Confusion Matrix'); \n",
    "ax.xaxis.set_ticklabels(['real', 'fake']); ax.yaxis.set_ticklabels(['real', 'fake']);"
   ]
  },
  {
   "cell_type": "code",
   "execution_count": null,
   "metadata": {},
   "outputs": [],
   "source": []
  },
  {
   "cell_type": "markdown",
   "metadata": {},
   "source": [
    "# SVM"
   ]
  },
  {
   "cell_type": "markdown",
   "metadata": {},
   "source": [
    "Exp1: Bow + Preprocessed text"
   ]
  },
  {
   "cell_type": "code",
   "execution_count": 344,
   "metadata": {},
   "outputs": [
    {
     "data": {
      "text/plain": [
       "GridSearchCV(cv=5, error_score='raise-deprecating',\n",
       "       estimator=Pipeline(memory=None,\n",
       "     steps=[('vectorizer', CountVectorizer(analyzer='word', binary=False, decode_error='strict',\n",
       "        dtype=<class 'numpy.int64'>, encoding='utf-8', input='content',\n",
       "        lowercase=True, max_df=1.0, max_features=None, min_df=1,\n",
       "        ngram_range=(1, 1), preprocessor=None, stop_words='english',\n",
       "  ...r', max_iter=-1, probability=False, random_state=None,\n",
       "  shrinking=True, tol=0.001, verbose=False))]),\n",
       "       fit_params=None, iid='warn', n_jobs=-1,\n",
       "       param_grid={'vectorizer__ngram_range': [(1, 1), (1, 2)], 'vectorizer__analyzer': ('word', 'char'), 'classifier__C': [0.01, 0.1, 1, 10]},\n",
       "       pre_dispatch='2*n_jobs', refit=True, return_train_score='warn',\n",
       "       scoring='accuracy', verbose=0)"
      ]
     },
     "execution_count": 344,
     "metadata": {},
     "output_type": "execute_result"
    }
   ],
   "source": [
    "x=df_balanced[\"strong_pro1\"]\n",
    "y=df_balanced['tag']\n",
    "\n",
    "X_train, X_test, Y_train, Y_test = model_selection.train_test_split( x, y, stratify=y, random_state=42,test_size=0.25)\n",
    "\n",
    "pipeline = Pipeline([\n",
    "    ('vectorizer',CountVectorizer(stop_words='english')),\n",
    "    ('classifier', SVC(kernel='linear'))])\n",
    "\n",
    "grid = {\n",
    "    'vectorizer__ngram_range': [(1, 1), (1, 2)],\n",
    "    'vectorizer__analyzer':('word', 'char'),\n",
    "    'classifier__C':[0.01,0.1,1,10]\n",
    "}\n",
    "\n",
    "\n",
    "grid_search = GridSearchCV(pipeline, param_grid=grid, scoring='accuracy', n_jobs=-1, cv=5)\n",
    "grid_search.fit(X_train,Y_train)\n"
   ]
  },
  {
   "cell_type": "code",
   "execution_count": 345,
   "metadata": {},
   "outputs": [
    {
     "name": "stdout",
     "output_type": "stream",
     "text": [
      "Pipeline(memory=None,\n",
      "     steps=[('vectorizer', CountVectorizer(analyzer='word', binary=False, decode_error='strict',\n",
      "        dtype=<class 'numpy.int64'>, encoding='utf-8', input='content',\n",
      "        lowercase=True, max_df=1.0, max_features=None, min_df=1,\n",
      "        ngram_range=(1, 2), preprocessor=None, stop_words='english',\n",
      "  ...r', max_iter=-1, probability=False, random_state=None,\n",
      "  shrinking=True, tol=0.001, verbose=False))]) \n",
      "\n",
      "\tclassifier__C: 0.1\n",
      "\tvectorizer__analyzer: word\n",
      "\tvectorizer__ngram_range: (1, 2)\n"
     ]
    }
   ],
   "source": [
    "\n",
    "print(grid_search.best_estimator_,\"\\n\")\n",
    "\n",
    "best_parameters = grid_search.best_estimator_.get_params()\n",
    "for param_name in sorted(list(grid.keys())):\n",
    "    print(\"\\t{0}: {1}\".format(param_name, best_parameters[param_name]))\n",
    "\n",
    "best_model = grid_search.best_estimator_\n",
    "y_pred=best_model.predict(X_test)\n"
   ]
  },
  {
   "cell_type": "code",
   "execution_count": 346,
   "metadata": {},
   "outputs": [
    {
     "name": "stdout",
     "output_type": "stream",
     "text": [
      "Confusion matrix \n",
      " [[88  1]\n",
      " [ 7 56]] \n",
      "\n",
      "Classification_report \n",
      "                precision    recall  f1-score   support\n",
      "\n",
      "           0       0.93      0.99      0.96        89\n",
      "           1       0.98      0.89      0.93        63\n",
      "\n",
      "   micro avg       0.95      0.95      0.95       152\n",
      "   macro avg       0.95      0.94      0.94       152\n",
      "weighted avg       0.95      0.95      0.95       152\n",
      " \n",
      "\n",
      "Train Accuracy 0.9912280701754386\n",
      "Test Accuracy: 0.9473684210526315\n",
      "roc_auc_score 0.9388264669163545\n"
     ]
    }
   ],
   "source": [
    "\n",
    "confusion=confusion_matrix(Y_test, y_pred)\n",
    "report=classification_report(Y_test,y_pred)\n",
    "false_positive_rate, true_positive_rate, thresholds = roc_curve(Y_test, y_pred)\n",
    "roc_auc = auc(false_positive_rate, true_positive_rate)\n",
    "print(\"Confusion matrix \\n\",confusion,\"\\n\")\n",
    "print(\"Classification_report \\n \",report,\"\\n\")\n",
    "print(\"Train Accuracy\",accuracy_score(Y_train, best_model.predict(X_train)))\n",
    "print(\"Test Accuracy:\",accuracy_score(Y_test,y_pred))\n",
    "print(\"roc_auc_score\",roc_auc)"
   ]
  },
  {
   "cell_type": "code",
   "execution_count": 347,
   "metadata": {
    "scrolled": true
   },
   "outputs": [
    {
     "data": {
      "image/png": "[encoded data removed]",
      "text/plain": [
       "<Figure size 432x288 with 2 Axes>"
      ]
     },
     "metadata": {
      "needs_background": "light"
     },
     "output_type": "display_data"
    }
   ],
   "source": [
    "#confusion matrix plot\n",
    "\n",
    "ax= plt.subplot()\n",
    "sns.heatmap(confusion, annot=True, ax = ax); #annot=True to annotate cells\n",
    "\n",
    "# labels, title and ticks\n",
    "ax.set_xlabel('Predicted labels');ax.set_ylabel('True labels'); \n",
    "ax.set_title('Confusion Matrix'); \n",
    "ax.xaxis.set_ticklabels(['real', 'fake']); ax.yaxis.set_ticklabels(['real', 'fake']);"
   ]
  },
  {
   "cell_type": "markdown",
   "metadata": {},
   "source": [
    "Exp2: Bow + Preprocessed text +Stemming\n"
   ]
  },
  {
   "cell_type": "code",
   "execution_count": 348,
   "metadata": {},
   "outputs": [
    {
     "data": {
      "text/plain": [
       "GridSearchCV(cv=5, error_score='raise-deprecating',\n",
       "       estimator=Pipeline(memory=None,\n",
       "     steps=[('vectorizer', CountVectorizer(analyzer='word', binary=False, decode_error='strict',\n",
       "        dtype=<class 'numpy.int64'>, encoding='utf-8', input='content',\n",
       "        lowercase=True, max_df=1.0, max_features=None, min_df=1,\n",
       "        ngram_range=(1, 1), preprocessor=None, stop_words='english',\n",
       "  ...r', max_iter=-1, probability=False, random_state=None,\n",
       "  shrinking=True, tol=0.001, verbose=False))]),\n",
       "       fit_params=None, iid='warn', n_jobs=-1,\n",
       "       param_grid={'vectorizer__ngram_range': [(1, 1), (1, 2)], 'vectorizer__analyzer': ('word', 'char'), 'classifier__C': [0.01, 0.1, 1, 10]},\n",
       "       pre_dispatch='2*n_jobs', refit=True, return_train_score='warn',\n",
       "       scoring='accuracy', verbose=0)"
      ]
     },
     "execution_count": 348,
     "metadata": {},
     "output_type": "execute_result"
    }
   ],
   "source": [
    "x=df_balanced[\"Stemming\"]\n",
    "y=df_balanced['tag']\n",
    "\n",
    "X_train, X_test, Y_train, Y_test = model_selection.train_test_split( x, y, stratify=y, random_state=42,test_size=0.25)\n",
    "\n",
    "pipeline = Pipeline([\n",
    "    ('vectorizer',CountVectorizer(stop_words='english')),\n",
    "    ('classifier', SVC(kernel='linear'))])\n",
    "\n",
    "grid = {\n",
    "    'vectorizer__ngram_range': [(1, 1), (1, 2)],\n",
    "    'vectorizer__analyzer':('word', 'char'),\n",
    "    'classifier__C':[0.01,0.1,1,10]\n",
    "}\n",
    "\n",
    "\n",
    "grid_search = GridSearchCV(pipeline, param_grid=grid, scoring='accuracy', n_jobs=-1, cv=5)\n",
    "grid_search.fit(X_train,Y_train)\n",
    "\n"
   ]
  },
  {
   "cell_type": "code",
   "execution_count": 349,
   "metadata": {},
   "outputs": [
    {
     "name": "stdout",
     "output_type": "stream",
     "text": [
      "Pipeline(memory=None,\n",
      "     steps=[('vectorizer', CountVectorizer(analyzer='word', binary=False, decode_error='strict',\n",
      "        dtype=<class 'numpy.int64'>, encoding='utf-8', input='content',\n",
      "        lowercase=True, max_df=1.0, max_features=None, min_df=1,\n",
      "        ngram_range=(1, 2), preprocessor=None, stop_words='english',\n",
      "  ...r', max_iter=-1, probability=False, random_state=None,\n",
      "  shrinking=True, tol=0.001, verbose=False))]) \n",
      "\n",
      "\tclassifier__C: 1\n",
      "\tvectorizer__analyzer: word\n",
      "\tvectorizer__ngram_range: (1, 2)\n"
     ]
    }
   ],
   "source": [
    "\n",
    "print(grid_search.best_estimator_,\"\\n\")\n",
    "\n",
    "best_parameters = grid_search.best_estimator_.get_params()\n",
    "for param_name in sorted(list(grid.keys())):\n",
    "    print(\"\\t{0}: {1}\".format(param_name, best_parameters[param_name]))\n",
    "\n",
    "best_model = grid_search.best_estimator_\n",
    "y_pred=best_model.predict(X_test)\n"
   ]
  },
  {
   "cell_type": "code",
   "execution_count": 350,
   "metadata": {},
   "outputs": [
    {
     "name": "stdout",
     "output_type": "stream",
     "text": [
      "Confusion matrix \n",
      " [[87  2]\n",
      " [ 6 57]] \n",
      "\n",
      "Classification_report \n",
      "                precision    recall  f1-score   support\n",
      "\n",
      "           0       0.94      0.98      0.96        89\n",
      "           1       0.97      0.90      0.93        63\n",
      "\n",
      "   micro avg       0.95      0.95      0.95       152\n",
      "   macro avg       0.95      0.94      0.95       152\n",
      "weighted avg       0.95      0.95      0.95       152\n",
      " \n",
      "\n",
      "Train Accuracy 0.9978070175438597\n",
      "Test Accuracy: 0.9473684210526315\n",
      "roc_auc_score 0.9411449973247724\n"
     ]
    }
   ],
   "source": [
    "\n",
    "confusion=confusion_matrix(Y_test, y_pred)\n",
    "report=classification_report(Y_test,y_pred)\n",
    "false_positive_rate, true_positive_rate, thresholds = roc_curve(Y_test, y_pred)\n",
    "roc_auc = auc(false_positive_rate, true_positive_rate)\n",
    "print(\"Confusion matrix \\n\",confusion,\"\\n\")\n",
    "print(\"Classification_report \\n \",report,\"\\n\")\n",
    "print(\"Train Accuracy\",accuracy_score(Y_train, best_model.predict(X_train)))\n",
    "print(\"Test Accuracy:\",accuracy_score(Y_test,y_pred))\n",
    "print(\"roc_auc_score\",roc_auc)"
   ]
  },
  {
   "cell_type": "code",
   "execution_count": 351,
   "metadata": {
    "scrolled": false
   },
   "outputs": [
    {
     "data": {
      "image/png": "[encoded data removed]",
      "text/plain": [
       "<Figure size 432x288 with 2 Axes>"
      ]
     },
     "metadata": {
      "needs_background": "light"
     },
     "output_type": "display_data"
    }
   ],
   "source": [
    "#confusion matrix plot\n",
    "\n",
    "ax= plt.subplot()\n",
    "sns.heatmap(confusion, annot=True, ax = ax); #annot=True to annotate cells\n",
    "\n",
    "# labels, title and ticks\n",
    "ax.set_xlabel('Predicted labels');ax.set_ylabel('True labels'); \n",
    "ax.set_title('Confusion Matrix'); \n",
    "ax.xaxis.set_ticklabels(['real', 'fake']); ax.yaxis.set_ticklabels(['real', 'fake']);"
   ]
  },
  {
   "cell_type": "code",
   "execution_count": null,
   "metadata": {},
   "outputs": [],
   "source": []
  },
  {
   "cell_type": "markdown",
   "metadata": {},
   "source": [
    "Exp3- Tf-Idf+ Preprocessed text \n"
   ]
  },
  {
   "cell_type": "code",
   "execution_count": 352,
   "metadata": {},
   "outputs": [],
   "source": [
    "\n",
    "x=df_balanced[\"strong_pro1\"]\n",
    "y=df_balanced['tag']\n",
    "\n",
    "X_train, X_test, Y_train, Y_test = model_selection.train_test_split( x, y, stratify=y, random_state=42,test_size=0.25)\n",
    "\n",
    "pipeline = Pipeline([\n",
    "    ('vectorizer',TfidfVectorizer(stop_words='english')),\n",
    "    ('classifier', SVC(kernel='linear'))])\n",
    "\n",
    "grid = {\n",
    "    'vectorizer__ngram_range': [(1, 1), (1, 2)],\n",
    "    'vectorizer__analyzer':('word', 'char'),\n",
    "    'classifier__C':[0.01,0.1,1,10]\n",
    "}"
   ]
  },
  {
   "cell_type": "code",
   "execution_count": 353,
   "metadata": {},
   "outputs": [
    {
     "data": {
      "text/plain": [
       "GridSearchCV(cv=5, error_score='raise-deprecating',\n",
       "       estimator=Pipeline(memory=None,\n",
       "     steps=[('vectorizer', TfidfVectorizer(analyzer='word', binary=False, decode_error='strict',\n",
       "        dtype=<class 'numpy.float64'>, encoding='utf-8', input='content',\n",
       "        lowercase=True, max_df=1.0, max_features=None, min_df=1,\n",
       "        ngram_range=(1, 1), norm='l2', preprocessor=None, smooth_idf=...r', max_iter=-1, probability=False, random_state=None,\n",
       "  shrinking=True, tol=0.001, verbose=False))]),\n",
       "       fit_params=None, iid='warn', n_jobs=-1,\n",
       "       param_grid={'vectorizer__ngram_range': [(1, 1), (1, 2)], 'vectorizer__analyzer': ('word', 'char'), 'classifier__C': [0.01, 0.1, 1, 10]},\n",
       "       pre_dispatch='2*n_jobs', refit=True, return_train_score='warn',\n",
       "       scoring='accuracy', verbose=0)"
      ]
     },
     "execution_count": 353,
     "metadata": {},
     "output_type": "execute_result"
    }
   ],
   "source": [
    "grid_search = GridSearchCV(pipeline, param_grid=grid, scoring='accuracy', n_jobs=-1, cv=5)\n",
    "grid_search.fit(X_train,Y_train)\n"
   ]
  },
  {
   "cell_type": "code",
   "execution_count": 354,
   "metadata": {},
   "outputs": [
    {
     "name": "stdout",
     "output_type": "stream",
     "text": [
      "Pipeline(memory=None,\n",
      "     steps=[('vectorizer', TfidfVectorizer(analyzer='word', binary=False, decode_error='strict',\n",
      "        dtype=<class 'numpy.float64'>, encoding='utf-8', input='content',\n",
      "        lowercase=True, max_df=1.0, max_features=None, min_df=1,\n",
      "        ngram_range=(1, 1), norm='l2', preprocessor=None, smooth_idf=...r', max_iter=-1, probability=False, random_state=None,\n",
      "  shrinking=True, tol=0.001, verbose=False))]) \n",
      "\n",
      "\tclassifier__C: 1\n",
      "\tvectorizer__analyzer: word\n",
      "\tvectorizer__ngram_range: (1, 1)\n"
     ]
    }
   ],
   "source": [
    "\n",
    "print(grid_search.best_estimator_,\"\\n\")\n",
    "\n",
    "best_parameters = grid_search.best_estimator_.get_params()\n",
    "for param_name in sorted(list(grid.keys())):\n",
    "    print(\"\\t{0}: {1}\".format(param_name, best_parameters[param_name]))\n",
    "\n",
    "best_model = grid_search.best_estimator_\n",
    "y_pred=best_model.predict(X_test)\n"
   ]
  },
  {
   "cell_type": "code",
   "execution_count": 355,
   "metadata": {},
   "outputs": [
    {
     "name": "stdout",
     "output_type": "stream",
     "text": [
      "Confusion matrix \n",
      " [[86  3]\n",
      " [ 6 57]] \n",
      "\n",
      "Classification_report \n",
      "                precision    recall  f1-score   support\n",
      "\n",
      "           0       0.93      0.97      0.95        89\n",
      "           1       0.95      0.90      0.93        63\n",
      "\n",
      "   micro avg       0.94      0.94      0.94       152\n",
      "   macro avg       0.94      0.94      0.94       152\n",
      "weighted avg       0.94      0.94      0.94       152\n",
      " \n",
      "\n",
      "Train Accuracy 0.9890350877192983\n",
      "Test Accuracy: 0.9407894736842105\n",
      "roc_auc_score 0.9355270197966827\n"
     ]
    }
   ],
   "source": [
    "\n",
    "confusion=confusion_matrix(Y_test, y_pred)\n",
    "report=classification_report(Y_test,y_pred)\n",
    "false_positive_rate, true_positive_rate, thresholds = roc_curve(Y_test, y_pred)\n",
    "roc_auc = auc(false_positive_rate, true_positive_rate)\n",
    "print(\"Confusion matrix \\n\",confusion,\"\\n\")\n",
    "print(\"Classification_report \\n \",report,\"\\n\")\n",
    "print(\"Train Accuracy\",accuracy_score(Y_train, best_model.predict(X_train)))\n",
    "print(\"Test Accuracy:\",accuracy_score(Y_test,y_pred))\n",
    "print(\"roc_auc_score\",roc_auc)"
   ]
  },
  {
   "cell_type": "code",
   "execution_count": 356,
   "metadata": {
    "scrolled": true
   },
   "outputs": [
    {
     "data": {
      "image/png": "[encoded data removed]",
      "text/plain": [
       "<Figure size 432x288 with 2 Axes>"
      ]
     },
     "metadata": {
      "needs_background": "light"
     },
     "output_type": "display_data"
    }
   ],
   "source": [
    "#confusion matrix plot\n",
    "\n",
    "ax= plt.subplot()\n",
    "sns.heatmap(confusion, annot=True, ax = ax); #annot=True to annotate cells\n",
    "\n",
    "# labels, title and ticks\n",
    "ax.set_xlabel('Predicted labels');ax.set_ylabel('True labels'); \n",
    "ax.set_title('Confusion Matrix'); \n",
    "ax.xaxis.set_ticklabels(['real', 'fake']); ax.yaxis.set_ticklabels(['real', 'fake']);"
   ]
  },
  {
   "cell_type": "code",
   "execution_count": null,
   "metadata": {},
   "outputs": [],
   "source": []
  },
  {
   "cell_type": "markdown",
   "metadata": {},
   "source": [
    "Exp4- Tf-Idf + Preprocessed text + Stemming"
   ]
  },
  {
   "cell_type": "code",
   "execution_count": 359,
   "metadata": {},
   "outputs": [],
   "source": [
    "\n",
    "x=df_balanced[\"Stemming\"]\n",
    "y=df_balanced['tag']\n",
    "\n",
    "X_train, X_test, Y_train, Y_test = model_selection.train_test_split( x, y, stratify=y, random_state=42,test_size=0.25)\n",
    "\n",
    "pipeline = Pipeline([\n",
    "    ('vectorizer',TfidfVectorizer(stop_words='english')),\n",
    "    ('classifier', SVC(kernel='linear'))])\n"
   ]
  },
  {
   "cell_type": "code",
   "execution_count": 360,
   "metadata": {},
   "outputs": [],
   "source": [
    "\n",
    "grid = {\n",
    "    'vectorizer__ngram_range': [(1, 1), (1, 2)],\n",
    "    'vectorizer__analyzer':('word', 'char'),\n",
    "    'classifier__C':[0.01,0.1,1,10]\n",
    "}"
   ]
  },
  {
   "cell_type": "code",
   "execution_count": 361,
   "metadata": {},
   "outputs": [
    {
     "data": {
      "text/plain": [
       "GridSearchCV(cv=5, error_score='raise-deprecating',\n",
       "       estimator=Pipeline(memory=None,\n",
       "     steps=[('vectorizer', TfidfVectorizer(analyzer='word', binary=False, decode_error='strict',\n",
       "        dtype=<class 'numpy.float64'>, encoding='utf-8', input='content',\n",
       "        lowercase=True, max_df=1.0, max_features=None, min_df=1,\n",
       "        ngram_range=(1, 1), norm='l2', preprocessor=None, smooth_idf=...r', max_iter=-1, probability=False, random_state=None,\n",
       "  shrinking=True, tol=0.001, verbose=False))]),\n",
       "       fit_params=None, iid='warn', n_jobs=-1,\n",
       "       param_grid={'vectorizer__ngram_range': [(1, 1), (1, 2)], 'vectorizer__analyzer': ('word', 'char'), 'classifier__C': [0.01, 0.1, 1, 10]},\n",
       "       pre_dispatch='2*n_jobs', refit=True, return_train_score='warn',\n",
       "       scoring='accuracy', verbose=0)"
      ]
     },
     "execution_count": 361,
     "metadata": {},
     "output_type": "execute_result"
    }
   ],
   "source": [
    "grid_search = GridSearchCV(pipeline, param_grid=grid, scoring='accuracy', n_jobs=-1, cv=5)\n",
    "grid_search.fit(X_train,Y_train)\n"
   ]
  },
  {
   "cell_type": "code",
   "execution_count": 362,
   "metadata": {},
   "outputs": [
    {
     "name": "stdout",
     "output_type": "stream",
     "text": [
      "Pipeline(memory=None,\n",
      "     steps=[('vectorizer', TfidfVectorizer(analyzer='word', binary=False, decode_error='strict',\n",
      "        dtype=<class 'numpy.float64'>, encoding='utf-8', input='content',\n",
      "        lowercase=True, max_df=1.0, max_features=None, min_df=1,\n",
      "        ngram_range=(1, 2), norm='l2', preprocessor=None, smooth_idf=...r', max_iter=-1, probability=False, random_state=None,\n",
      "  shrinking=True, tol=0.001, verbose=False))]) \n",
      "\n",
      "\tclassifier__C: 1\n",
      "\tvectorizer__analyzer: word\n",
      "\tvectorizer__ngram_range: (1, 2)\n"
     ]
    }
   ],
   "source": [
    "\n",
    "print(grid_search.best_estimator_,\"\\n\")\n",
    "\n",
    "best_parameters = grid_search.best_estimator_.get_params()\n",
    "for param_name in sorted(list(grid.keys())):\n",
    "    print(\"\\t{0}: {1}\".format(param_name, best_parameters[param_name]))\n",
    "\n",
    "best_model = grid_search.best_estimator_\n",
    "y_pred=best_model.predict(X_test)\n"
   ]
  },
  {
   "cell_type": "code",
   "execution_count": 363,
   "metadata": {},
   "outputs": [
    {
     "name": "stdout",
     "output_type": "stream",
     "text": [
      "Confusion matrix \n",
      " [[86  3]\n",
      " [ 5 58]] \n",
      "\n",
      "Classification_report \n",
      "                precision    recall  f1-score   support\n",
      "\n",
      "           0       0.95      0.97      0.96        89\n",
      "           1       0.95      0.92      0.94        63\n",
      "\n",
      "   micro avg       0.95      0.95      0.95       152\n",
      "   macro avg       0.95      0.94      0.95       152\n",
      "weighted avg       0.95      0.95      0.95       152\n",
      " \n",
      "\n",
      "Train Accuracy 0.993421052631579\n",
      "Test Accuracy: 0.9473684210526315\n",
      "roc_auc_score 0.9434635277331905\n"
     ]
    }
   ],
   "source": [
    "\n",
    "confusion=confusion_matrix(Y_test, y_pred)\n",
    "report=classification_report(Y_test,y_pred)\n",
    "false_positive_rate, true_positive_rate, thresholds = roc_curve(Y_test, y_pred)\n",
    "roc_auc = auc(false_positive_rate, true_positive_rate)\n",
    "print(\"Confusion matrix \\n\",confusion,\"\\n\")\n",
    "print(\"Classification_report \\n \",report,\"\\n\")\n",
    "print(\"Train Accuracy\",accuracy_score(Y_train, best_model.predict(X_train)))\n",
    "print(\"Test Accuracy:\",accuracy_score(Y_test,y_pred))\n",
    "print(\"roc_auc_score\",roc_auc)"
   ]
  },
  {
   "cell_type": "code",
   "execution_count": 364,
   "metadata": {
    "scrolled": true
   },
   "outputs": [
    {
     "data": {
      "image/png": "[encoded data removed]",
      "text/plain": [
       "<Figure size 432x288 with 2 Axes>"
      ]
     },
     "metadata": {
      "needs_background": "light"
     },
     "output_type": "display_data"
    }
   ],
   "source": [
    "#confusion matrix plot\n",
    "\n",
    "ax= plt.subplot()\n",
    "sns.heatmap(confusion, annot=True, ax = ax); #annot=True to annotate cells\n",
    "\n",
    "# labels, title and ticks\n",
    "ax.set_xlabel('Predicted labels');ax.set_ylabel('True labels'); \n",
    "ax.set_title('Confusion Matrix'); \n",
    "ax.xaxis.set_ticklabels(['real', 'fake']); ax.yaxis.set_ticklabels(['real', 'fake']);"
   ]
  },
  {
   "cell_type": "code",
   "execution_count": null,
   "metadata": {},
   "outputs": [],
   "source": []
  },
  {
   "cell_type": "code",
   "execution_count": null,
   "metadata": {},
   "outputs": [],
   "source": []
  }
 ],
 "metadata": {
  "kernelspec": {
   "display_name": "Python 3",
   "language": "python",
   "name": "python3"
  },
  "language_info": {
   "codemirror_mode": {
    "name": "ipython",
    "version": 3
   },
   "file_extension": ".py",
   "mimetype": "text/x-python",
   "name": "python",
   "nbconvert_exporter": "python",
   "pygments_lexer": "ipython3",
   "version": "3.6.8"
  }
 },
 "nbformat": 4,
 "nbformat_minor": 2
}
